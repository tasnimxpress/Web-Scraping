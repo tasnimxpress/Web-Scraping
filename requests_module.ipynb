{
 "cells": [
  {
   "cell_type": "code",
   "execution_count": 1,
   "id": "37df7ddf-4b47-413d-8062-a247ca80411f",
   "metadata": {},
   "outputs": [],
   "source": [
    "import requests"
   ]
  },
  {
   "cell_type": "code",
   "execution_count": 2,
   "id": "831599db-6ef0-480e-a5dc-beaba45f04d2",
   "metadata": {},
   "outputs": [],
   "source": [
    "url = \"https://quotes.toscrape.com/\""
   ]
  },
  {
   "cell_type": "code",
   "execution_count": 3,
   "id": "598d5046-b242-47f3-86bc-c2c65d19050a",
   "metadata": {},
   "outputs": [],
   "source": [
    "response = requests.get(url)"
   ]
  },
  {
   "cell_type": "code",
   "execution_count": 4,
   "id": "a9e404a8-4e1f-4682-b5ed-f5d6c6482de3",
   "metadata": {},
   "outputs": [
    {
     "data": {
      "text/plain": [
       "<Response [200]>"
      ]
     },
     "execution_count": 4,
     "metadata": {},
     "output_type": "execute_result"
    }
   ],
   "source": [
    "response"
   ]
  },
  {
   "cell_type": "markdown",
   "id": "d3108d6c-b959-4771-9ec6-49eaad6150e5",
   "metadata": {},
   "source": [
    "#### status code <Response [200]> successful"
   ]
  },
  {
   "cell_type": "code",
   "execution_count": 5,
   "id": "0c9e382b-c728-4c57-a132-9ba9683d28c0",
   "metadata": {},
   "outputs": [
    {
     "data": {
      "text/plain": [
       "200"
      ]
     },
     "execution_count": 5,
     "metadata": {},
     "output_type": "execute_result"
    }
   ],
   "source": [
    "response.status_code"
   ]
  },
  {
   "cell_type": "code",
   "execution_count": 6,
   "id": "cf7890c2-9e2c-407d-9311-09a05452c4f8",
   "metadata": {
    "collapsed": true,
    "jupyter": {
     "outputs_hidden": true
    }
   },
   "outputs": [
    {
     "data": {
      "text/plain": [
       "b'<!DOCTYPE html>\\n<html lang=\"en\">\\n<head>\\n\\t<meta charset=\"UTF-8\">\\n\\t<title>Quotes to Scrape</title>\\n    <link rel=\"stylesheet\" href=\"/static/bootstrap.min.css\">\\n    <link rel=\"stylesheet\" href=\"/static/main.css\">\\n</head>\\n<body>\\n    <div class=\"container\">\\n        <div class=\"row header-box\">\\n            <div class=\"col-md-8\">\\n                <h1>\\n                    <a href=\"/\" style=\"text-decoration: none\">Quotes to Scrape</a>\\n                </h1>\\n            </div>\\n            <div class=\"col-md-4\">\\n                <p>\\n                \\n                    <a href=\"/login\">Login</a>\\n                \\n                </p>\\n            </div>\\n        </div>\\n    \\n\\n<div class=\"row\">\\n    <div class=\"col-md-8\">\\n\\n    <div class=\"quote\" itemscope itemtype=\"http://schema.org/CreativeWork\">\\n        <span class=\"text\" itemprop=\"text\">\\xe2\\x80\\x9cThe world as we have created it is a process of our thinking. It cannot be changed without changing our thinking.\\xe2\\x80\\x9d</span>\\n        <span>by <small class=\"author\" itemprop=\"author\">Albert Einstein</small>\\n        <a href=\"/author/Albert-Einstein\">(about)</a>\\n        </span>\\n        <div class=\"tags\">\\n            Tags:\\n            <meta class=\"keywords\" itemprop=\"keywords\" content=\"change,deep-thoughts,thinking,world\" /    > \\n            \\n            <a class=\"tag\" href=\"/tag/change/page/1/\">change</a>\\n            \\n            <a class=\"tag\" href=\"/tag/deep-thoughts/page/1/\">deep-thoughts</a>\\n            \\n            <a class=\"tag\" href=\"/tag/thinking/page/1/\">thinking</a>\\n            \\n            <a class=\"tag\" href=\"/tag/world/page/1/\">world</a>\\n            \\n        </div>\\n    </div>\\n\\n    <div class=\"quote\" itemscope itemtype=\"http://schema.org/CreativeWork\">\\n        <span class=\"text\" itemprop=\"text\">\\xe2\\x80\\x9cIt is our choices, Harry, that show what we truly are, far more than our abilities.\\xe2\\x80\\x9d</span>\\n        <span>by <small class=\"author\" itemprop=\"author\">J.K. Rowling</small>\\n        <a href=\"/author/J-K-Rowling\">(about)</a>\\n        </span>\\n        <div class=\"tags\">\\n            Tags:\\n            <meta class=\"keywords\" itemprop=\"keywords\" content=\"abilities,choices\" /    > \\n            \\n            <a class=\"tag\" href=\"/tag/abilities/page/1/\">abilities</a>\\n            \\n            <a class=\"tag\" href=\"/tag/choices/page/1/\">choices</a>\\n            \\n        </div>\\n    </div>\\n\\n    <div class=\"quote\" itemscope itemtype=\"http://schema.org/CreativeWork\">\\n        <span class=\"text\" itemprop=\"text\">\\xe2\\x80\\x9cThere are only two ways to live your life. One is as though nothing is a miracle. The other is as though everything is a miracle.\\xe2\\x80\\x9d</span>\\n        <span>by <small class=\"author\" itemprop=\"author\">Albert Einstein</small>\\n        <a href=\"/author/Albert-Einstein\">(about)</a>\\n        </span>\\n        <div class=\"tags\">\\n            Tags:\\n            <meta class=\"keywords\" itemprop=\"keywords\" content=\"inspirational,life,live,miracle,miracles\" /    > \\n            \\n            <a class=\"tag\" href=\"/tag/inspirational/page/1/\">inspirational</a>\\n            \\n            <a class=\"tag\" href=\"/tag/life/page/1/\">life</a>\\n            \\n            <a class=\"tag\" href=\"/tag/live/page/1/\">live</a>\\n            \\n            <a class=\"tag\" href=\"/tag/miracle/page/1/\">miracle</a>\\n            \\n            <a class=\"tag\" href=\"/tag/miracles/page/1/\">miracles</a>\\n            \\n        </div>\\n    </div>\\n\\n    <div class=\"quote\" itemscope itemtype=\"http://schema.org/CreativeWork\">\\n        <span class=\"text\" itemprop=\"text\">\\xe2\\x80\\x9cThe person, be it gentleman or lady, who has not pleasure in a good novel, must be intolerably stupid.\\xe2\\x80\\x9d</span>\\n        <span>by <small class=\"author\" itemprop=\"author\">Jane Austen</small>\\n        <a href=\"/author/Jane-Austen\">(about)</a>\\n        </span>\\n        <div class=\"tags\">\\n            Tags:\\n            <meta class=\"keywords\" itemprop=\"keywords\" content=\"aliteracy,books,classic,humor\" /    > \\n            \\n            <a class=\"tag\" href=\"/tag/aliteracy/page/1/\">aliteracy</a>\\n            \\n            <a class=\"tag\" href=\"/tag/books/page/1/\">books</a>\\n            \\n            <a class=\"tag\" href=\"/tag/classic/page/1/\">classic</a>\\n            \\n            <a class=\"tag\" href=\"/tag/humor/page/1/\">humor</a>\\n            \\n        </div>\\n    </div>\\n\\n    <div class=\"quote\" itemscope itemtype=\"http://schema.org/CreativeWork\">\\n        <span class=\"text\" itemprop=\"text\">\\xe2\\x80\\x9cImperfection is beauty, madness is genius and it&#39;s better to be absolutely ridiculous than absolutely boring.\\xe2\\x80\\x9d</span>\\n        <span>by <small class=\"author\" itemprop=\"author\">Marilyn Monroe</small>\\n        <a href=\"/author/Marilyn-Monroe\">(about)</a>\\n        </span>\\n        <div class=\"tags\">\\n            Tags:\\n            <meta class=\"keywords\" itemprop=\"keywords\" content=\"be-yourself,inspirational\" /    > \\n            \\n            <a class=\"tag\" href=\"/tag/be-yourself/page/1/\">be-yourself</a>\\n            \\n            <a class=\"tag\" href=\"/tag/inspirational/page/1/\">inspirational</a>\\n            \\n        </div>\\n    </div>\\n\\n    <div class=\"quote\" itemscope itemtype=\"http://schema.org/CreativeWork\">\\n        <span class=\"text\" itemprop=\"text\">\\xe2\\x80\\x9cTry not to become a man of success. Rather become a man of value.\\xe2\\x80\\x9d</span>\\n        <span>by <small class=\"author\" itemprop=\"author\">Albert Einstein</small>\\n        <a href=\"/author/Albert-Einstein\">(about)</a>\\n        </span>\\n        <div class=\"tags\">\\n            Tags:\\n            <meta class=\"keywords\" itemprop=\"keywords\" content=\"adulthood,success,value\" /    > \\n            \\n            <a class=\"tag\" href=\"/tag/adulthood/page/1/\">adulthood</a>\\n            \\n            <a class=\"tag\" href=\"/tag/success/page/1/\">success</a>\\n            \\n            <a class=\"tag\" href=\"/tag/value/page/1/\">value</a>\\n            \\n        </div>\\n    </div>\\n\\n    <div class=\"quote\" itemscope itemtype=\"http://schema.org/CreativeWork\">\\n        <span class=\"text\" itemprop=\"text\">\\xe2\\x80\\x9cIt is better to be hated for what you are than to be loved for what you are not.\\xe2\\x80\\x9d</span>\\n        <span>by <small class=\"author\" itemprop=\"author\">Andr\\xc3\\xa9 Gide</small>\\n        <a href=\"/author/Andre-Gide\">(about)</a>\\n        </span>\\n        <div class=\"tags\">\\n            Tags:\\n            <meta class=\"keywords\" itemprop=\"keywords\" content=\"life,love\" /    > \\n            \\n            <a class=\"tag\" href=\"/tag/life/page/1/\">life</a>\\n            \\n            <a class=\"tag\" href=\"/tag/love/page/1/\">love</a>\\n            \\n        </div>\\n    </div>\\n\\n    <div class=\"quote\" itemscope itemtype=\"http://schema.org/CreativeWork\">\\n        <span class=\"text\" itemprop=\"text\">\\xe2\\x80\\x9cI have not failed. I&#39;ve just found 10,000 ways that won&#39;t work.\\xe2\\x80\\x9d</span>\\n        <span>by <small class=\"author\" itemprop=\"author\">Thomas A. Edison</small>\\n        <a href=\"/author/Thomas-A-Edison\">(about)</a>\\n        </span>\\n        <div class=\"tags\">\\n            Tags:\\n            <meta class=\"keywords\" itemprop=\"keywords\" content=\"edison,failure,inspirational,paraphrased\" /    > \\n            \\n            <a class=\"tag\" href=\"/tag/edison/page/1/\">edison</a>\\n            \\n            <a class=\"tag\" href=\"/tag/failure/page/1/\">failure</a>\\n            \\n            <a class=\"tag\" href=\"/tag/inspirational/page/1/\">inspirational</a>\\n            \\n            <a class=\"tag\" href=\"/tag/paraphrased/page/1/\">paraphrased</a>\\n            \\n        </div>\\n    </div>\\n\\n    <div class=\"quote\" itemscope itemtype=\"http://schema.org/CreativeWork\">\\n        <span class=\"text\" itemprop=\"text\">\\xe2\\x80\\x9cA woman is like a tea bag; you never know how strong it is until it&#39;s in hot water.\\xe2\\x80\\x9d</span>\\n        <span>by <small class=\"author\" itemprop=\"author\">Eleanor Roosevelt</small>\\n        <a href=\"/author/Eleanor-Roosevelt\">(about)</a>\\n        </span>\\n        <div class=\"tags\">\\n            Tags:\\n            <meta class=\"keywords\" itemprop=\"keywords\" content=\"misattributed-eleanor-roosevelt\" /    > \\n            \\n            <a class=\"tag\" href=\"/tag/misattributed-eleanor-roosevelt/page/1/\">misattributed-eleanor-roosevelt</a>\\n            \\n        </div>\\n    </div>\\n\\n    <div class=\"quote\" itemscope itemtype=\"http://schema.org/CreativeWork\">\\n        <span class=\"text\" itemprop=\"text\">\\xe2\\x80\\x9cA day without sunshine is like, you know, night.\\xe2\\x80\\x9d</span>\\n        <span>by <small class=\"author\" itemprop=\"author\">Steve Martin</small>\\n        <a href=\"/author/Steve-Martin\">(about)</a>\\n        </span>\\n        <div class=\"tags\">\\n            Tags:\\n            <meta class=\"keywords\" itemprop=\"keywords\" content=\"humor,obvious,simile\" /    > \\n            \\n            <a class=\"tag\" href=\"/tag/humor/page/1/\">humor</a>\\n            \\n            <a class=\"tag\" href=\"/tag/obvious/page/1/\">obvious</a>\\n            \\n            <a class=\"tag\" href=\"/tag/simile/page/1/\">simile</a>\\n            \\n        </div>\\n    </div>\\n\\n    <nav>\\n        <ul class=\"pager\">\\n            \\n            \\n            <li class=\"next\">\\n                <a href=\"/page/2/\">Next <span aria-hidden=\"true\">&rarr;</span></a>\\n            </li>\\n            \\n        </ul>\\n    </nav>\\n    </div>\\n    <div class=\"col-md-4 tags-box\">\\n        \\n            <h2>Top Ten tags</h2>\\n            \\n            <span class=\"tag-item\">\\n            <a class=\"tag\" style=\"font-size: 28px\" href=\"/tag/love/\">love</a>\\n            </span>\\n            \\n            <span class=\"tag-item\">\\n            <a class=\"tag\" style=\"font-size: 26px\" href=\"/tag/inspirational/\">inspirational</a>\\n            </span>\\n            \\n            <span class=\"tag-item\">\\n            <a class=\"tag\" style=\"font-size: 26px\" href=\"/tag/life/\">life</a>\\n            </span>\\n            \\n            <span class=\"tag-item\">\\n            <a class=\"tag\" style=\"font-size: 24px\" href=\"/tag/humor/\">humor</a>\\n            </span>\\n            \\n            <span class=\"tag-item\">\\n            <a class=\"tag\" style=\"font-size: 22px\" href=\"/tag/books/\">books</a>\\n            </span>\\n            \\n            <span class=\"tag-item\">\\n            <a class=\"tag\" style=\"font-size: 14px\" href=\"/tag/reading/\">reading</a>\\n            </span>\\n            \\n            <span class=\"tag-item\">\\n            <a class=\"tag\" style=\"font-size: 10px\" href=\"/tag/friendship/\">friendship</a>\\n            </span>\\n            \\n            <span class=\"tag-item\">\\n            <a class=\"tag\" style=\"font-size: 8px\" href=\"/tag/friends/\">friends</a>\\n            </span>\\n            \\n            <span class=\"tag-item\">\\n            <a class=\"tag\" style=\"font-size: 8px\" href=\"/tag/truth/\">truth</a>\\n            </span>\\n            \\n            <span class=\"tag-item\">\\n            <a class=\"tag\" style=\"font-size: 6px\" href=\"/tag/simile/\">simile</a>\\n            </span>\\n            \\n        \\n    </div>\\n</div>\\n\\n    </div>\\n    <footer class=\"footer\">\\n        <div class=\"container\">\\n            <p class=\"text-muted\">\\n                Quotes by: <a href=\"https://www.goodreads.com/quotes\">GoodReads.com</a>\\n            </p>\\n            <p class=\"copyright\">\\n                Made with <span class=\\'zyte\\'>\\xe2\\x9d\\xa4</span> by <a class=\\'zyte\\' href=\"https://www.zyte.com\">Zyte</a>\\n            </p>\\n        </div>\\n    </footer>\\n</body>\\n</html>'"
      ]
     },
     "execution_count": 6,
     "metadata": {},
     "output_type": "execute_result"
    }
   ],
   "source": [
    "response.content"
   ]
  },
  {
   "cell_type": "code",
   "execution_count": 7,
   "id": "fb769cc5-f17e-4e97-b10b-5ce933c0a424",
   "metadata": {
    "collapsed": true,
    "jupyter": {
     "outputs_hidden": true
    }
   },
   "outputs": [
    {
     "name": "stdout",
     "output_type": "stream",
     "text": [
      "<!DOCTYPE html>\n",
      "<html lang=\"en\">\n",
      "<head>\n",
      "\t<meta charset=\"UTF-8\">\n",
      "\t<title>Quotes to Scrape</title>\n",
      "    <link rel=\"stylesheet\" href=\"/static/bootstrap.min.css\">\n",
      "    <link rel=\"stylesheet\" href=\"/static/main.css\">\n",
      "</head>\n",
      "<body>\n",
      "    <div class=\"container\">\n",
      "        <div class=\"row header-box\">\n",
      "            <div class=\"col-md-8\">\n",
      "                <h1>\n",
      "                    <a href=\"/\" style=\"text-decoration: none\">Quotes to Scrape</a>\n",
      "                </h1>\n",
      "            </div>\n",
      "            <div class=\"col-md-4\">\n",
      "                <p>\n",
      "                \n",
      "                    <a href=\"/login\">Login</a>\n",
      "                \n",
      "                </p>\n",
      "            </div>\n",
      "        </div>\n",
      "    \n",
      "\n",
      "<div class=\"row\">\n",
      "    <div class=\"col-md-8\">\n",
      "\n",
      "    <div class=\"quote\" itemscope itemtype=\"http://schema.org/CreativeWork\">\n",
      "        <span class=\"text\" itemprop=\"text\">“The world as we have created it is a process of our thinking. It cannot be changed without changing our thinking.”</span>\n",
      "        <span>by <small class=\"author\" itemprop=\"author\">Albert Einstein</small>\n",
      "        <a href=\"/author/Albert-Einstein\">(about)</a>\n",
      "        </span>\n",
      "        <div class=\"tags\">\n",
      "            Tags:\n",
      "            <meta class=\"keywords\" itemprop=\"keywords\" content=\"change,deep-thoughts,thinking,world\" /    > \n",
      "            \n",
      "            <a class=\"tag\" href=\"/tag/change/page/1/\">change</a>\n",
      "            \n",
      "            <a class=\"tag\" href=\"/tag/deep-thoughts/page/1/\">deep-thoughts</a>\n",
      "            \n",
      "            <a class=\"tag\" href=\"/tag/thinking/page/1/\">thinking</a>\n",
      "            \n",
      "            <a class=\"tag\" href=\"/tag/world/page/1/\">world</a>\n",
      "            \n",
      "        </div>\n",
      "    </div>\n",
      "\n",
      "    <div class=\"quote\" itemscope itemtype=\"http://schema.org/CreativeWork\">\n",
      "        <span class=\"text\" itemprop=\"text\">“It is our choices, Harry, that show what we truly are, far more than our abilities.”</span>\n",
      "        <span>by <small class=\"author\" itemprop=\"author\">J.K. Rowling</small>\n",
      "        <a href=\"/author/J-K-Rowling\">(about)</a>\n",
      "        </span>\n",
      "        <div class=\"tags\">\n",
      "            Tags:\n",
      "            <meta class=\"keywords\" itemprop=\"keywords\" content=\"abilities,choices\" /    > \n",
      "            \n",
      "            <a class=\"tag\" href=\"/tag/abilities/page/1/\">abilities</a>\n",
      "            \n",
      "            <a class=\"tag\" href=\"/tag/choices/page/1/\">choices</a>\n",
      "            \n",
      "        </div>\n",
      "    </div>\n",
      "\n",
      "    <div class=\"quote\" itemscope itemtype=\"http://schema.org/CreativeWork\">\n",
      "        <span class=\"text\" itemprop=\"text\">“There are only two ways to live your life. One is as though nothing is a miracle. The other is as though everything is a miracle.”</span>\n",
      "        <span>by <small class=\"author\" itemprop=\"author\">Albert Einstein</small>\n",
      "        <a href=\"/author/Albert-Einstein\">(about)</a>\n",
      "        </span>\n",
      "        <div class=\"tags\">\n",
      "            Tags:\n",
      "            <meta class=\"keywords\" itemprop=\"keywords\" content=\"inspirational,life,live,miracle,miracles\" /    > \n",
      "            \n",
      "            <a class=\"tag\" href=\"/tag/inspirational/page/1/\">inspirational</a>\n",
      "            \n",
      "            <a class=\"tag\" href=\"/tag/life/page/1/\">life</a>\n",
      "            \n",
      "            <a class=\"tag\" href=\"/tag/live/page/1/\">live</a>\n",
      "            \n",
      "            <a class=\"tag\" href=\"/tag/miracle/page/1/\">miracle</a>\n",
      "            \n",
      "            <a class=\"tag\" href=\"/tag/miracles/page/1/\">miracles</a>\n",
      "            \n",
      "        </div>\n",
      "    </div>\n",
      "\n",
      "    <div class=\"quote\" itemscope itemtype=\"http://schema.org/CreativeWork\">\n",
      "        <span class=\"text\" itemprop=\"text\">“The person, be it gentleman or lady, who has not pleasure in a good novel, must be intolerably stupid.”</span>\n",
      "        <span>by <small class=\"author\" itemprop=\"author\">Jane Austen</small>\n",
      "        <a href=\"/author/Jane-Austen\">(about)</a>\n",
      "        </span>\n",
      "        <div class=\"tags\">\n",
      "            Tags:\n",
      "            <meta class=\"keywords\" itemprop=\"keywords\" content=\"aliteracy,books,classic,humor\" /    > \n",
      "            \n",
      "            <a class=\"tag\" href=\"/tag/aliteracy/page/1/\">aliteracy</a>\n",
      "            \n",
      "            <a class=\"tag\" href=\"/tag/books/page/1/\">books</a>\n",
      "            \n",
      "            <a class=\"tag\" href=\"/tag/classic/page/1/\">classic</a>\n",
      "            \n",
      "            <a class=\"tag\" href=\"/tag/humor/page/1/\">humor</a>\n",
      "            \n",
      "        </div>\n",
      "    </div>\n",
      "\n",
      "    <div class=\"quote\" itemscope itemtype=\"http://schema.org/CreativeWork\">\n",
      "        <span class=\"text\" itemprop=\"text\">“Imperfection is beauty, madness is genius and it&#39;s better to be absolutely ridiculous than absolutely boring.”</span>\n",
      "        <span>by <small class=\"author\" itemprop=\"author\">Marilyn Monroe</small>\n",
      "        <a href=\"/author/Marilyn-Monroe\">(about)</a>\n",
      "        </span>\n",
      "        <div class=\"tags\">\n",
      "            Tags:\n",
      "            <meta class=\"keywords\" itemprop=\"keywords\" content=\"be-yourself,inspirational\" /    > \n",
      "            \n",
      "            <a class=\"tag\" href=\"/tag/be-yourself/page/1/\">be-yourself</a>\n",
      "            \n",
      "            <a class=\"tag\" href=\"/tag/inspirational/page/1/\">inspirational</a>\n",
      "            \n",
      "        </div>\n",
      "    </div>\n",
      "\n",
      "    <div class=\"quote\" itemscope itemtype=\"http://schema.org/CreativeWork\">\n",
      "        <span class=\"text\" itemprop=\"text\">“Try not to become a man of success. Rather become a man of value.”</span>\n",
      "        <span>by <small class=\"author\" itemprop=\"author\">Albert Einstein</small>\n",
      "        <a href=\"/author/Albert-Einstein\">(about)</a>\n",
      "        </span>\n",
      "        <div class=\"tags\">\n",
      "            Tags:\n",
      "            <meta class=\"keywords\" itemprop=\"keywords\" content=\"adulthood,success,value\" /    > \n",
      "            \n",
      "            <a class=\"tag\" href=\"/tag/adulthood/page/1/\">adulthood</a>\n",
      "            \n",
      "            <a class=\"tag\" href=\"/tag/success/page/1/\">success</a>\n",
      "            \n",
      "            <a class=\"tag\" href=\"/tag/value/page/1/\">value</a>\n",
      "            \n",
      "        </div>\n",
      "    </div>\n",
      "\n",
      "    <div class=\"quote\" itemscope itemtype=\"http://schema.org/CreativeWork\">\n",
      "        <span class=\"text\" itemprop=\"text\">“It is better to be hated for what you are than to be loved for what you are not.”</span>\n",
      "        <span>by <small class=\"author\" itemprop=\"author\">André Gide</small>\n",
      "        <a href=\"/author/Andre-Gide\">(about)</a>\n",
      "        </span>\n",
      "        <div class=\"tags\">\n",
      "            Tags:\n",
      "            <meta class=\"keywords\" itemprop=\"keywords\" content=\"life,love\" /    > \n",
      "            \n",
      "            <a class=\"tag\" href=\"/tag/life/page/1/\">life</a>\n",
      "            \n",
      "            <a class=\"tag\" href=\"/tag/love/page/1/\">love</a>\n",
      "            \n",
      "        </div>\n",
      "    </div>\n",
      "\n",
      "    <div class=\"quote\" itemscope itemtype=\"http://schema.org/CreativeWork\">\n",
      "        <span class=\"text\" itemprop=\"text\">“I have not failed. I&#39;ve just found 10,000 ways that won&#39;t work.”</span>\n",
      "        <span>by <small class=\"author\" itemprop=\"author\">Thomas A. Edison</small>\n",
      "        <a href=\"/author/Thomas-A-Edison\">(about)</a>\n",
      "        </span>\n",
      "        <div class=\"tags\">\n",
      "            Tags:\n",
      "            <meta class=\"keywords\" itemprop=\"keywords\" content=\"edison,failure,inspirational,paraphrased\" /    > \n",
      "            \n",
      "            <a class=\"tag\" href=\"/tag/edison/page/1/\">edison</a>\n",
      "            \n",
      "            <a class=\"tag\" href=\"/tag/failure/page/1/\">failure</a>\n",
      "            \n",
      "            <a class=\"tag\" href=\"/tag/inspirational/page/1/\">inspirational</a>\n",
      "            \n",
      "            <a class=\"tag\" href=\"/tag/paraphrased/page/1/\">paraphrased</a>\n",
      "            \n",
      "        </div>\n",
      "    </div>\n",
      "\n",
      "    <div class=\"quote\" itemscope itemtype=\"http://schema.org/CreativeWork\">\n",
      "        <span class=\"text\" itemprop=\"text\">“A woman is like a tea bag; you never know how strong it is until it&#39;s in hot water.”</span>\n",
      "        <span>by <small class=\"author\" itemprop=\"author\">Eleanor Roosevelt</small>\n",
      "        <a href=\"/author/Eleanor-Roosevelt\">(about)</a>\n",
      "        </span>\n",
      "        <div class=\"tags\">\n",
      "            Tags:\n",
      "            <meta class=\"keywords\" itemprop=\"keywords\" content=\"misattributed-eleanor-roosevelt\" /    > \n",
      "            \n",
      "            <a class=\"tag\" href=\"/tag/misattributed-eleanor-roosevelt/page/1/\">misattributed-eleanor-roosevelt</a>\n",
      "            \n",
      "        </div>\n",
      "    </div>\n",
      "\n",
      "    <div class=\"quote\" itemscope itemtype=\"http://schema.org/CreativeWork\">\n",
      "        <span class=\"text\" itemprop=\"text\">“A day without sunshine is like, you know, night.”</span>\n",
      "        <span>by <small class=\"author\" itemprop=\"author\">Steve Martin</small>\n",
      "        <a href=\"/author/Steve-Martin\">(about)</a>\n",
      "        </span>\n",
      "        <div class=\"tags\">\n",
      "            Tags:\n",
      "            <meta class=\"keywords\" itemprop=\"keywords\" content=\"humor,obvious,simile\" /    > \n",
      "            \n",
      "            <a class=\"tag\" href=\"/tag/humor/page/1/\">humor</a>\n",
      "            \n",
      "            <a class=\"tag\" href=\"/tag/obvious/page/1/\">obvious</a>\n",
      "            \n",
      "            <a class=\"tag\" href=\"/tag/simile/page/1/\">simile</a>\n",
      "            \n",
      "        </div>\n",
      "    </div>\n",
      "\n",
      "    <nav>\n",
      "        <ul class=\"pager\">\n",
      "            \n",
      "            \n",
      "            <li class=\"next\">\n",
      "                <a href=\"/page/2/\">Next <span aria-hidden=\"true\">&rarr;</span></a>\n",
      "            </li>\n",
      "            \n",
      "        </ul>\n",
      "    </nav>\n",
      "    </div>\n",
      "    <div class=\"col-md-4 tags-box\">\n",
      "        \n",
      "            <h2>Top Ten tags</h2>\n",
      "            \n",
      "            <span class=\"tag-item\">\n",
      "            <a class=\"tag\" style=\"font-size: 28px\" href=\"/tag/love/\">love</a>\n",
      "            </span>\n",
      "            \n",
      "            <span class=\"tag-item\">\n",
      "            <a class=\"tag\" style=\"font-size: 26px\" href=\"/tag/inspirational/\">inspirational</a>\n",
      "            </span>\n",
      "            \n",
      "            <span class=\"tag-item\">\n",
      "            <a class=\"tag\" style=\"font-size: 26px\" href=\"/tag/life/\">life</a>\n",
      "            </span>\n",
      "            \n",
      "            <span class=\"tag-item\">\n",
      "            <a class=\"tag\" style=\"font-size: 24px\" href=\"/tag/humor/\">humor</a>\n",
      "            </span>\n",
      "            \n",
      "            <span class=\"tag-item\">\n",
      "            <a class=\"tag\" style=\"font-size: 22px\" href=\"/tag/books/\">books</a>\n",
      "            </span>\n",
      "            \n",
      "            <span class=\"tag-item\">\n",
      "            <a class=\"tag\" style=\"font-size: 14px\" href=\"/tag/reading/\">reading</a>\n",
      "            </span>\n",
      "            \n",
      "            <span class=\"tag-item\">\n",
      "            <a class=\"tag\" style=\"font-size: 10px\" href=\"/tag/friendship/\">friendship</a>\n",
      "            </span>\n",
      "            \n",
      "            <span class=\"tag-item\">\n",
      "            <a class=\"tag\" style=\"font-size: 8px\" href=\"/tag/friends/\">friends</a>\n",
      "            </span>\n",
      "            \n",
      "            <span class=\"tag-item\">\n",
      "            <a class=\"tag\" style=\"font-size: 8px\" href=\"/tag/truth/\">truth</a>\n",
      "            </span>\n",
      "            \n",
      "            <span class=\"tag-item\">\n",
      "            <a class=\"tag\" style=\"font-size: 6px\" href=\"/tag/simile/\">simile</a>\n",
      "            </span>\n",
      "            \n",
      "        \n",
      "    </div>\n",
      "</div>\n",
      "\n",
      "    </div>\n",
      "    <footer class=\"footer\">\n",
      "        <div class=\"container\">\n",
      "            <p class=\"text-muted\">\n",
      "                Quotes by: <a href=\"https://www.goodreads.com/quotes\">GoodReads.com</a>\n",
      "            </p>\n",
      "            <p class=\"copyright\">\n",
      "                Made with <span class='zyte'>❤</span> by <a class='zyte' href=\"https://www.zyte.com\">Zyte</a>\n",
      "            </p>\n",
      "        </div>\n",
      "    </footer>\n",
      "</body>\n",
      "</html>\n"
     ]
    }
   ],
   "source": [
    "print(response.content.decode('utf-8'))"
   ]
  },
  {
   "cell_type": "code",
   "execution_count": 8,
   "id": "b28b7d31-72a9-4344-9b11-e9f0d062f39e",
   "metadata": {
    "collapsed": true,
    "jupyter": {
     "outputs_hidden": true
    }
   },
   "outputs": [
    {
     "data": {
      "text/plain": [
       "'<!DOCTYPE html>\\n<html lang=\"en\">\\n<head>\\n\\t<meta charset=\"UTF-8\">\\n\\t<title>Quotes to Scrape</title>\\n    <link rel=\"stylesheet\" href=\"/static/bootstrap.min.css\">\\n    <link rel=\"stylesheet\" href=\"/static/main.css\">\\n</head>\\n<body>\\n    <div class=\"container\">\\n        <div class=\"row header-box\">\\n            <div class=\"col-md-8\">\\n                <h1>\\n                    <a href=\"/\" style=\"text-decoration: none\">Quotes to Scrape</a>\\n                </h1>\\n            </div>\\n            <div class=\"col-md-4\">\\n                <p>\\n                \\n                    <a href=\"/login\">Login</a>\\n                \\n                </p>\\n            </div>\\n        </div>\\n    \\n\\n<div class=\"row\">\\n    <div class=\"col-md-8\">\\n\\n    <div class=\"quote\" itemscope itemtype=\"http://schema.org/CreativeWork\">\\n        <span class=\"text\" itemprop=\"text\">“The world as we have created it is a process of our thinking. It cannot be changed without changing our thinking.”</span>\\n        <span>by <small class=\"author\" itemprop=\"author\">Albert Einstein</small>\\n        <a href=\"/author/Albert-Einstein\">(about)</a>\\n        </span>\\n        <div class=\"tags\">\\n            Tags:\\n            <meta class=\"keywords\" itemprop=\"keywords\" content=\"change,deep-thoughts,thinking,world\" /    > \\n            \\n            <a class=\"tag\" href=\"/tag/change/page/1/\">change</a>\\n            \\n            <a class=\"tag\" href=\"/tag/deep-thoughts/page/1/\">deep-thoughts</a>\\n            \\n            <a class=\"tag\" href=\"/tag/thinking/page/1/\">thinking</a>\\n            \\n            <a class=\"tag\" href=\"/tag/world/page/1/\">world</a>\\n            \\n        </div>\\n    </div>\\n\\n    <div class=\"quote\" itemscope itemtype=\"http://schema.org/CreativeWork\">\\n        <span class=\"text\" itemprop=\"text\">“It is our choices, Harry, that show what we truly are, far more than our abilities.”</span>\\n        <span>by <small class=\"author\" itemprop=\"author\">J.K. Rowling</small>\\n        <a href=\"/author/J-K-Rowling\">(about)</a>\\n        </span>\\n        <div class=\"tags\">\\n            Tags:\\n            <meta class=\"keywords\" itemprop=\"keywords\" content=\"abilities,choices\" /    > \\n            \\n            <a class=\"tag\" href=\"/tag/abilities/page/1/\">abilities</a>\\n            \\n            <a class=\"tag\" href=\"/tag/choices/page/1/\">choices</a>\\n            \\n        </div>\\n    </div>\\n\\n    <div class=\"quote\" itemscope itemtype=\"http://schema.org/CreativeWork\">\\n        <span class=\"text\" itemprop=\"text\">“There are only two ways to live your life. One is as though nothing is a miracle. The other is as though everything is a miracle.”</span>\\n        <span>by <small class=\"author\" itemprop=\"author\">Albert Einstein</small>\\n        <a href=\"/author/Albert-Einstein\">(about)</a>\\n        </span>\\n        <div class=\"tags\">\\n            Tags:\\n            <meta class=\"keywords\" itemprop=\"keywords\" content=\"inspirational,life,live,miracle,miracles\" /    > \\n            \\n            <a class=\"tag\" href=\"/tag/inspirational/page/1/\">inspirational</a>\\n            \\n            <a class=\"tag\" href=\"/tag/life/page/1/\">life</a>\\n            \\n            <a class=\"tag\" href=\"/tag/live/page/1/\">live</a>\\n            \\n            <a class=\"tag\" href=\"/tag/miracle/page/1/\">miracle</a>\\n            \\n            <a class=\"tag\" href=\"/tag/miracles/page/1/\">miracles</a>\\n            \\n        </div>\\n    </div>\\n\\n    <div class=\"quote\" itemscope itemtype=\"http://schema.org/CreativeWork\">\\n        <span class=\"text\" itemprop=\"text\">“The person, be it gentleman or lady, who has not pleasure in a good novel, must be intolerably stupid.”</span>\\n        <span>by <small class=\"author\" itemprop=\"author\">Jane Austen</small>\\n        <a href=\"/author/Jane-Austen\">(about)</a>\\n        </span>\\n        <div class=\"tags\">\\n            Tags:\\n            <meta class=\"keywords\" itemprop=\"keywords\" content=\"aliteracy,books,classic,humor\" /    > \\n            \\n            <a class=\"tag\" href=\"/tag/aliteracy/page/1/\">aliteracy</a>\\n            \\n            <a class=\"tag\" href=\"/tag/books/page/1/\">books</a>\\n            \\n            <a class=\"tag\" href=\"/tag/classic/page/1/\">classic</a>\\n            \\n            <a class=\"tag\" href=\"/tag/humor/page/1/\">humor</a>\\n            \\n        </div>\\n    </div>\\n\\n    <div class=\"quote\" itemscope itemtype=\"http://schema.org/CreativeWork\">\\n        <span class=\"text\" itemprop=\"text\">“Imperfection is beauty, madness is genius and it&#39;s better to be absolutely ridiculous than absolutely boring.”</span>\\n        <span>by <small class=\"author\" itemprop=\"author\">Marilyn Monroe</small>\\n        <a href=\"/author/Marilyn-Monroe\">(about)</a>\\n        </span>\\n        <div class=\"tags\">\\n            Tags:\\n            <meta class=\"keywords\" itemprop=\"keywords\" content=\"be-yourself,inspirational\" /    > \\n            \\n            <a class=\"tag\" href=\"/tag/be-yourself/page/1/\">be-yourself</a>\\n            \\n            <a class=\"tag\" href=\"/tag/inspirational/page/1/\">inspirational</a>\\n            \\n        </div>\\n    </div>\\n\\n    <div class=\"quote\" itemscope itemtype=\"http://schema.org/CreativeWork\">\\n        <span class=\"text\" itemprop=\"text\">“Try not to become a man of success. Rather become a man of value.”</span>\\n        <span>by <small class=\"author\" itemprop=\"author\">Albert Einstein</small>\\n        <a href=\"/author/Albert-Einstein\">(about)</a>\\n        </span>\\n        <div class=\"tags\">\\n            Tags:\\n            <meta class=\"keywords\" itemprop=\"keywords\" content=\"adulthood,success,value\" /    > \\n            \\n            <a class=\"tag\" href=\"/tag/adulthood/page/1/\">adulthood</a>\\n            \\n            <a class=\"tag\" href=\"/tag/success/page/1/\">success</a>\\n            \\n            <a class=\"tag\" href=\"/tag/value/page/1/\">value</a>\\n            \\n        </div>\\n    </div>\\n\\n    <div class=\"quote\" itemscope itemtype=\"http://schema.org/CreativeWork\">\\n        <span class=\"text\" itemprop=\"text\">“It is better to be hated for what you are than to be loved for what you are not.”</span>\\n        <span>by <small class=\"author\" itemprop=\"author\">André Gide</small>\\n        <a href=\"/author/Andre-Gide\">(about)</a>\\n        </span>\\n        <div class=\"tags\">\\n            Tags:\\n            <meta class=\"keywords\" itemprop=\"keywords\" content=\"life,love\" /    > \\n            \\n            <a class=\"tag\" href=\"/tag/life/page/1/\">life</a>\\n            \\n            <a class=\"tag\" href=\"/tag/love/page/1/\">love</a>\\n            \\n        </div>\\n    </div>\\n\\n    <div class=\"quote\" itemscope itemtype=\"http://schema.org/CreativeWork\">\\n        <span class=\"text\" itemprop=\"text\">“I have not failed. I&#39;ve just found 10,000 ways that won&#39;t work.”</span>\\n        <span>by <small class=\"author\" itemprop=\"author\">Thomas A. Edison</small>\\n        <a href=\"/author/Thomas-A-Edison\">(about)</a>\\n        </span>\\n        <div class=\"tags\">\\n            Tags:\\n            <meta class=\"keywords\" itemprop=\"keywords\" content=\"edison,failure,inspirational,paraphrased\" /    > \\n            \\n            <a class=\"tag\" href=\"/tag/edison/page/1/\">edison</a>\\n            \\n            <a class=\"tag\" href=\"/tag/failure/page/1/\">failure</a>\\n            \\n            <a class=\"tag\" href=\"/tag/inspirational/page/1/\">inspirational</a>\\n            \\n            <a class=\"tag\" href=\"/tag/paraphrased/page/1/\">paraphrased</a>\\n            \\n        </div>\\n    </div>\\n\\n    <div class=\"quote\" itemscope itemtype=\"http://schema.org/CreativeWork\">\\n        <span class=\"text\" itemprop=\"text\">“A woman is like a tea bag; you never know how strong it is until it&#39;s in hot water.”</span>\\n        <span>by <small class=\"author\" itemprop=\"author\">Eleanor Roosevelt</small>\\n        <a href=\"/author/Eleanor-Roosevelt\">(about)</a>\\n        </span>\\n        <div class=\"tags\">\\n            Tags:\\n            <meta class=\"keywords\" itemprop=\"keywords\" content=\"misattributed-eleanor-roosevelt\" /    > \\n            \\n            <a class=\"tag\" href=\"/tag/misattributed-eleanor-roosevelt/page/1/\">misattributed-eleanor-roosevelt</a>\\n            \\n        </div>\\n    </div>\\n\\n    <div class=\"quote\" itemscope itemtype=\"http://schema.org/CreativeWork\">\\n        <span class=\"text\" itemprop=\"text\">“A day without sunshine is like, you know, night.”</span>\\n        <span>by <small class=\"author\" itemprop=\"author\">Steve Martin</small>\\n        <a href=\"/author/Steve-Martin\">(about)</a>\\n        </span>\\n        <div class=\"tags\">\\n            Tags:\\n            <meta class=\"keywords\" itemprop=\"keywords\" content=\"humor,obvious,simile\" /    > \\n            \\n            <a class=\"tag\" href=\"/tag/humor/page/1/\">humor</a>\\n            \\n            <a class=\"tag\" href=\"/tag/obvious/page/1/\">obvious</a>\\n            \\n            <a class=\"tag\" href=\"/tag/simile/page/1/\">simile</a>\\n            \\n        </div>\\n    </div>\\n\\n    <nav>\\n        <ul class=\"pager\">\\n            \\n            \\n            <li class=\"next\">\\n                <a href=\"/page/2/\">Next <span aria-hidden=\"true\">&rarr;</span></a>\\n            </li>\\n            \\n        </ul>\\n    </nav>\\n    </div>\\n    <div class=\"col-md-4 tags-box\">\\n        \\n            <h2>Top Ten tags</h2>\\n            \\n            <span class=\"tag-item\">\\n            <a class=\"tag\" style=\"font-size: 28px\" href=\"/tag/love/\">love</a>\\n            </span>\\n            \\n            <span class=\"tag-item\">\\n            <a class=\"tag\" style=\"font-size: 26px\" href=\"/tag/inspirational/\">inspirational</a>\\n            </span>\\n            \\n            <span class=\"tag-item\">\\n            <a class=\"tag\" style=\"font-size: 26px\" href=\"/tag/life/\">life</a>\\n            </span>\\n            \\n            <span class=\"tag-item\">\\n            <a class=\"tag\" style=\"font-size: 24px\" href=\"/tag/humor/\">humor</a>\\n            </span>\\n            \\n            <span class=\"tag-item\">\\n            <a class=\"tag\" style=\"font-size: 22px\" href=\"/tag/books/\">books</a>\\n            </span>\\n            \\n            <span class=\"tag-item\">\\n            <a class=\"tag\" style=\"font-size: 14px\" href=\"/tag/reading/\">reading</a>\\n            </span>\\n            \\n            <span class=\"tag-item\">\\n            <a class=\"tag\" style=\"font-size: 10px\" href=\"/tag/friendship/\">friendship</a>\\n            </span>\\n            \\n            <span class=\"tag-item\">\\n            <a class=\"tag\" style=\"font-size: 8px\" href=\"/tag/friends/\">friends</a>\\n            </span>\\n            \\n            <span class=\"tag-item\">\\n            <a class=\"tag\" style=\"font-size: 8px\" href=\"/tag/truth/\">truth</a>\\n            </span>\\n            \\n            <span class=\"tag-item\">\\n            <a class=\"tag\" style=\"font-size: 6px\" href=\"/tag/simile/\">simile</a>\\n            </span>\\n            \\n        \\n    </div>\\n</div>\\n\\n    </div>\\n    <footer class=\"footer\">\\n        <div class=\"container\">\\n            <p class=\"text-muted\">\\n                Quotes by: <a href=\"https://www.goodreads.com/quotes\">GoodReads.com</a>\\n            </p>\\n            <p class=\"copyright\">\\n                Made with <span class=\\'zyte\\'>❤</span> by <a class=\\'zyte\\' href=\"https://www.zyte.com\">Zyte</a>\\n            </p>\\n        </div>\\n    </footer>\\n</body>\\n</html>'"
      ]
     },
     "execution_count": 8,
     "metadata": {},
     "output_type": "execute_result"
    }
   ],
   "source": [
    "response.text"
   ]
  },
  {
   "cell_type": "markdown",
   "id": "19b063e6-fe49-4a48-b10f-9d52330dd648",
   "metadata": {},
   "source": [
    "### Headers"
   ]
  },
  {
   "cell_type": "code",
   "execution_count": 9,
   "id": "5f40998d-d814-47a4-8c5c-61786a200592",
   "metadata": {
    "jupyter": {
     "source_hidden": true
    }
   },
   "outputs": [
    {
     "data": {
      "text/plain": [
       "{'Date': 'Tue, 03 Sep 2024 06:49:49 GMT', 'Content-Type': 'text/html; charset=utf-8', 'Content-Length': '11054', 'Connection': 'keep-alive', 'Strict-Transport-Security': 'max-age=0; includeSubDomains; preload'}"
      ]
     },
     "execution_count": 9,
     "metadata": {},
     "output_type": "execute_result"
    }
   ],
   "source": [
    "response.headers"
   ]
  },
  {
   "cell_type": "code",
   "execution_count": 10,
   "id": "0a07e6ce-1f38-4d9f-8112-ae8fff7a99dd",
   "metadata": {},
   "outputs": [
    {
     "data": {
      "text/plain": [
       "'text/html; charset=utf-8'"
      ]
     },
     "execution_count": 10,
     "metadata": {},
     "output_type": "execute_result"
    }
   ],
   "source": [
    "response.headers[\"Content-Type\"]"
   ]
  },
  {
   "cell_type": "code",
   "execution_count": 11,
   "id": "a435ba67-dc46-4af3-a7dd-56046281d69d",
   "metadata": {},
   "outputs": [],
   "source": [
    "response =  requests.get(url, headers={\"User-Agent\": \"\"})"
   ]
  },
  {
   "cell_type": "markdown",
   "id": "dc85022a",
   "metadata": {},
   "source": [
    "### Parameter"
   ]
  },
  {
   "cell_type": "markdown",
   "id": "6668d14e",
   "metadata": {},
   "source": [
    "#### books.com?author=JKRowling&title=HarryPotter&price=10"
   ]
  },
  {
   "cell_type": "code",
   "execution_count": 12,
   "id": "ace100d9",
   "metadata": {},
   "outputs": [],
   "source": [
    "url = 'https://api.coinbase.com/v2/exchange-rates?currancy=BTC'"
   ]
  },
  {
   "cell_type": "code",
   "execution_count": 13,
   "id": "df11aa57",
   "metadata": {},
   "outputs": [],
   "source": [
    "data = requests.get(url)"
   ]
  },
  {
   "cell_type": "code",
   "execution_count": 14,
   "id": "70a1df23",
   "metadata": {},
   "outputs": [
    {
     "data": {
      "text/plain": [
       "{'data': {'currency': 'USD',\n",
       "  'rates': {'00': '23.8948626045400239',\n",
       "   '1INCH': '4.2462845010615711',\n",
       "   'AAVE': '0.0075961867142694',\n",
       "   'ABT': '0.5427702996092054',\n",
       "   'ACH': '56.8197960169322992',\n",
       "   'ACS': '630.3779115579790084',\n",
       "   'ACX': '3.2781511227667595',\n",
       "   'ADA': '3.0075187969924812',\n",
       "   'AED': '3.6729016666651543',\n",
       "   'AERGO': '11.396011396011396',\n",
       "   'AERO': '1.7381026871067543',\n",
       "   'AFN': '70.500529',\n",
       "   'AGLD': '1.3899506567516853',\n",
       "   'AIOZ': '2.4801587301587302',\n",
       "   'AKT': '0.4113533525298231',\n",
       "   'ALCX': '0.0710479573712256',\n",
       "   'ALEPH': '6.7796610169491525',\n",
       "   'ALGO': '8.0645161290322581',\n",
       "   'ALICE': '1.0303967027305513',\n",
       "   'ALL': '90.2173485',\n",
       "   'AMD': '387.7359205',\n",
       "   'AMP': '256.7394094993581515',\n",
       "   'ANG': '1.7965951109848246',\n",
       "   'ANKR': '41.4765657403566985',\n",
       "   'ANT': '0.1581601756568915',\n",
       "   'AOA': '912.35',\n",
       "   'APE': '1.6680567139282736',\n",
       "   'API3': '0.7000350017500875',\n",
       "   'APT': '0.1593625498007968',\n",
       "   'ARB': '1.9479887016655303',\n",
       "   'ARKM': '0.9784735812133072',\n",
       "   'ARPA': '27.2479564032697548',\n",
       "   'ARS': '952.7416',\n",
       "   'ARSMEP': '1284.8000000000207624',\n",
       "   'ASM': '54.4069640914036997',\n",
       "   'AST': '12.3609394313967862',\n",
       "   'ATA': '12.4688392433889906',\n",
       "   'ATOM': '0.2253267237494367',\n",
       "   'AUCTION': '0.070323488045007',\n",
       "   'AUD': '1.4838406597473397',\n",
       "   'AUDIO': '7.6074553062000761',\n",
       "   'AURORA': '8.5836909871244635',\n",
       "   'AVAX': '0.0447727781508843',\n",
       "   'AVT': '0.4901960784313725',\n",
       "   'AWG': '1.7999999999999999',\n",
       "   'AXL': '1.8213277479282397',\n",
       "   'AXS': '0.2152852529601722',\n",
       "   'AZN': '1.6999999999999999',\n",
       "   'BADGER': '0.37243947858473',\n",
       "   'BAL': '0.5154639175257732',\n",
       "   'BAM': '1.7684545',\n",
       "   'BAND': '0.9225092250922509',\n",
       "   'BAT': '6.0386473429951691',\n",
       "   'BBD': '2',\n",
       "   'BCH': '0.0031201734816456',\n",
       "   'BDT': '119.550405',\n",
       "   'BGN': '1.7688949762422304',\n",
       "   'BHD': '0.3767994997604827',\n",
       "   'BICO': '4.6500813764240874',\n",
       "   'BIF': '2892.8520675',\n",
       "   'BIGTIME': '14.1382723031245582',\n",
       "   'BIT': '1.4461315979754158',\n",
       "   'BLAST': '108.8731627653783342',\n",
       "   'BLUR': '6.3755180108383806',\n",
       "   'BLZ': '8.2781456953642384',\n",
       "   'BMD': '1',\n",
       "   'BND': '1.30811',\n",
       "   'BNT': '2.0693222969477496',\n",
       "   'BOB': '6.9190333290109246',\n",
       "   'BOBA': '4.9019607843137255',\n",
       "   'BOND': '0.5395780868092245',\n",
       "   'BONK': '56148.2313307130825379',\n",
       "   'BRL': '5.6164499961422361',\n",
       "   'BSD': '1',\n",
       "   'BSV': '0.0228447648085703',\n",
       "   'BTC': '0.0000169666843035',\n",
       "   'BTN': '83.9681242725306857',\n",
       "   'BTRST': '2.5974025974025974',\n",
       "   'BUSD': '1.0000051864032771',\n",
       "   'BWP': '13.3429595961359056',\n",
       "   'BYN': '3.2738595',\n",
       "   'BYR': '32738.6',\n",
       "   'BZD': '2.0188234091950985',\n",
       "   'C98': '8.960573476702509',\n",
       "   'CAD': '1.35191',\n",
       "   'CBETH': '0.0003685372388453',\n",
       "   'CDF': '2846.018832',\n",
       "   'CELR': '87.4890638670166229',\n",
       "   'CGLD': '2.2271714922048998',\n",
       "   'CHF': '0.8517092819142394',\n",
       "   'CHZ': '19.0657769304099142',\n",
       "   'CLF': '0.03318195',\n",
       "   'CLP': '917.0003976666666667',\n",
       "   'CLV': '23.6966824644549763',\n",
       "   'CNH': '7.120569',\n",
       "   'CNY': '7.1187333292751311',\n",
       "   'COMP': '0.0223363859727496',\n",
       "   'COP': '4160.0595616666666667',\n",
       "   'CORECHAIN': '1.091703056768559',\n",
       "   'COTI': '11.8906064209274673',\n",
       "   'COVAL': '537.2399435406711298',\n",
       "   'CRC': '518.6311656666666667',\n",
       "   'CRO': '12.3001230012300123',\n",
       "   'CRPT': '64.802317932301844',\n",
       "   'CRV': '3.6172906493036716',\n",
       "   'CTSI': '7.7309625048318516',\n",
       "   'CTX': '0.4796163069544365',\n",
       "   'CUC': '1',\n",
       "   'CUP': '25.369458128078779',\n",
       "   'CVC': '10.7758620689655172',\n",
       "   'CVE': '99.702527',\n",
       "   'CVX': '0.4781257470714798',\n",
       "   'CZK': '22.6389',\n",
       "   'DAI': '1.0001500225033755',\n",
       "   'DAR': '7.0921985815602837',\n",
       "   'DASH': '0.0412286126571841',\n",
       "   'DDX': '25.6536235116866705',\n",
       "   'DESO': '0.1612903225806452',\n",
       "   'DEXT': '2.1028283040689728',\n",
       "   'DIA': '2.8371611365667513',\n",
       "   'DIMO': '6.4273548221229553',\n",
       "   'DJF': '177.9402615',\n",
       "   'DKK': '6.7453443315961824',\n",
       "   'DNT': '25.6739409499358151',\n",
       "   'DOGE': '10.0573267625465151',\n",
       "   'DOP': '59.6581718306339379',\n",
       "   'DOT': '0.2355435166647038',\n",
       "   'DREP': '165.594298580327728',\n",
       "   'DYP': '4.6621133359751976',\n",
       "   'DZD': '133.6363301556287232',\n",
       "   'EEK': '14.1496',\n",
       "   'EGLD': '0.0355998576005696',\n",
       "   'EGP': '48.539373',\n",
       "   'ELA': '0.6004202942059442',\n",
       "   'ENJ': '7.0757621288865588',\n",
       "   'ENS': '0.0568343279340722',\n",
       "   'EOS': '2.1008403361344538',\n",
       "   'ERN': '0.4555808656036446',\n",
       "   'ETB': '110.9814889634534504',\n",
       "   'ETC': '0.0551724137931034',\n",
       "   'ETH': '0.0003972644370862',\n",
       "   'ETH2': '0.0003972644370862',\n",
       "   'EUR': '0.9043254355440608',\n",
       "   'EURC': '0.904773954985872',\n",
       "   'FARM': '0.0234219463637428',\n",
       "   'FET': '0.8366800535475234',\n",
       "   'FIDA': '4.2854081851296336',\n",
       "   'FIL': '0.2871912693854107',\n",
       "   'FIS': '3.1605562579013906',\n",
       "   'FJD': '2.2146643334319186',\n",
       "   'FKP': '0.7625353065245092',\n",
       "   'FLOW': '1.721170395869191',\n",
       "   'FLR': '64.0204865556978233',\n",
       "   'FORT': '6.9372181755116198',\n",
       "   'FORTH': '0.35650623885918',\n",
       "   'FOX': '24.2718446601941748',\n",
       "   'FTM': '2.3620255275741982',\n",
       "   'FX': '6.8493150684931507',\n",
       "   'GAL': '0.4715868898844612',\n",
       "   'GALA': '54.6842039326317194',\n",
       "   'GBP': '0.762556869787162',\n",
       "   'GEL': '2.6893333333333333',\n",
       "   'GFI': '0.413633355393779',\n",
       "   'GGP': '0.7625356084779995',\n",
       "   'GHS': '15.6489083333333333',\n",
       "   'GHST': '1.0964912280701754',\n",
       "   'GIP': '0.762535415017593',\n",
       "   'GLM': '3.5606195478013174',\n",
       "   'GMD': '70.4985999721979107',\n",
       "   'GMT': '8.5579803166452717',\n",
       "   'GNF': '8639.2998710989127079',\n",
       "   'GNO': '0.0067677314564158',\n",
       "   'GNT': '3.5610016784639656',\n",
       "   'GODS': '5.8046727615730663',\n",
       "   'GRT': '6.9228106611284181',\n",
       "   'GST': '82.6582906265498429',\n",
       "   'GTC': '1.6528925619834711',\n",
       "   'GTQ': '7.7353916666666667',\n",
       "   'GUSD': '0.9995002498750625',\n",
       "   'GYD': '209.3314435',\n",
       "   'GYEN': '147.6014760147601476',\n",
       "   'HBAR': '19.5982361587457129',\n",
       "   'HFT': '6.7957866123003738',\n",
       "   'HIGH': '0.7633587786259542',\n",
       "   'HKD': '7.7969399997605872',\n",
       "   'HNL': '24.7956970601451851',\n",
       "   'HNT': '0.1353363107321694',\n",
       "   'HONEY': '14.1242937853107345',\n",
       "   'HOPR': '18.4842883548983364',\n",
       "   'HRK': '6.8141225',\n",
       "   'HTG': '131.9282361219304521',\n",
       "   'HUF': '355.0801316033182629',\n",
       "   'ICP': '0.1335826876836762',\n",
       "   'IDEX': '22.1483942414174972',\n",
       "   'IDR': '15536.727593595456867',\n",
       "   'ILS': '3.6539684992741447',\n",
       "   'ILV': '0.0263261813873898',\n",
       "   'IMP': '0.7625356084779995',\n",
       "   'IMX': '0.8000640051204096',\n",
       "   'INDEX': '0.2773925104022191',\n",
       "   'INJ': '0.0587785810850526',\n",
       "   'INR': '83.9470686126576611',\n",
       "   'INV': '0.0407166123778502',\n",
       "   'IOTX': '27.7161862527716186',\n",
       "   'IQD': '1310.6580694972109453',\n",
       "   'IRR': '42105.00000004917864',\n",
       "   'ISK': '138.6349998196702748',\n",
       "   'JASMY': '52.4934383202099738',\n",
       "   'JEP': '0.762535415017593',\n",
       "   'JMD': '157.0364803333333333',\n",
       "   'JOD': '0.7086665882906184',\n",
       "   'JPY': '146.0713333333333333',\n",
       "   'JTO': '0.4526320554021636',\n",
       "   'JUP': '1744.4317082267279256',\n",
       "   'KARRAT': '2.9770765108663293',\n",
       "   'KAVA': '3.2430679422733906',\n",
       "   'KEEP': '10.2644382599179825',\n",
       "   'KES': '128.7873269072377546',\n",
       "   'KGS': '84.7306000000001573',\n",
       "   'KHR': '4064.6911190994967973',\n",
       "   'KMF': '445.1978815209926165',\n",
       "   'KNC': '2.2535211267605634',\n",
       "   'KPW': '135',\n",
       "   'KRL': '2.7693159789531986',\n",
       "   'KRW': '1340.383949',\n",
       "   'KSM': '0.0546149645002731',\n",
       "   'KWD': '0.3054933333333333',\n",
       "   'KYD': '0.8335554406083338',\n",
       "   'KZT': '482.853824',\n",
       "   'LAK': '22125.1652985',\n",
       "   'LBP': '89589.4453175',\n",
       "   'LCX': '8.0612656187021362',\n",
       "   'LDO': '0.9487666034155598',\n",
       "   'LINK': '0.0941309361321598',\n",
       "   'LIT': '1.5421389467190994',\n",
       "   'LKR': '299.0547653400393797',\n",
       "   'LOKA': '4.7687172150691464',\n",
       "   'LOOM': '21.8377460679457248',\n",
       "   'LPT': '0.0801282051282051',\n",
       "   'LQTY': '1.3772207684891888',\n",
       "   'LRC': '7.9207920792079208',\n",
       "   'LRD': '195.102155',\n",
       "   'LRDS': '1.3986013986013986',\n",
       "   'LSETH': '0.0003723833090353',\n",
       "   'LSL': '17.907349',\n",
       "   'LTC': '0.0152357735964044',\n",
       "   'LTL': '2.9821321704122759',\n",
       "   'LVL': '0.635559',\n",
       "   'LYD': '4.7634135',\n",
       "   'MAD': '9.7994392828165265',\n",
       "   'MAGIC': '2.9864118261908317',\n",
       "   'MANA': '3.777148253068933',\n",
       "   'MASK': '0.4514672686230248',\n",
       "   'MATH': '5.5834729201563372',\n",
       "   'MATIC': '2.4345709068776628',\n",
       "   'MCO2': '2.485461630489977',\n",
       "   'MDL': '17.4724074778403488',\n",
       "   'MDT': '24.1196333815726001',\n",
       "   'MEDIA': '0.0835770998746344',\n",
       "   'METIS': '0.0315656565656566',\n",
       "   'MGA': '4553.6972083333333333',\n",
       "   'MINA': '2.2831050228310502',\n",
       "   'MIR': '70.8769304959723212',\n",
       "   'MKD': '55.6797835',\n",
       "   'MKR': '0.0005701595591526',\n",
       "   'MLN': '0.0634316523945449',\n",
       "   'MMK': '2098.4399077407819267',\n",
       "   'MNDE': '9.6716475651627255',\n",
       "   'MNT': '3390.985549984320259',\n",
       "   'MOBILE': '950.5703422053231939',\n",
       "   'MONA': '0.011783152965771',\n",
       "   'MOP': '8.0328674778572224',\n",
       "   'MPL': '0.0590318772136954',\n",
       "   'MRO': '377.392',\n",
       "   'MRU': '39.6645735',\n",
       "   'MSOL': '0.0061485489424496',\n",
       "   'MTL': '1.1285331182406097',\n",
       "   'MULTI': '8.4410673934052658',\n",
       "   'MUR': '46.6299994999998081',\n",
       "   'MUSE': '0.1208532237597438',\n",
       "   'MVR': '15.3599999999999921',\n",
       "   'MWK': '1735.128184',\n",
       "   'MXC': '126.6037918904052663',\n",
       "   'MXN': '19.7914513865953276',\n",
       "   'MYR': '4.372974999857077',\n",
       "   'MZN': '63.8649773227498301',\n",
       "   'NAD': '17.9075515',\n",
       "   'NCT': '71.890726096333573',\n",
       "   'NEAR': '0.2535175560907593',\n",
       "   'NEON': '2.8612303290414878',\n",
       "   'NEST': '1514.2358411971995421',\n",
       "   'NGN': '1590.28',\n",
       "   'NIO': '36.8365710372936855',\n",
       "   'NKN': '14.6305779078273592',\n",
       "   'NMR': '0.0703977472720873',\n",
       "   'NOK': '10.614146646910468',\n",
       "   'NPR': '134.3564571510162825',\n",
       "   'NU': '14.3850405790381621',\n",
       "   'NZD': '1.6156553333333333',\n",
       "   'OCEAN': '1.929943066679533',\n",
       "   'OGN': '11.013215859030837',\n",
       "   'OMG': '4.6342171695968431',\n",
       "   'OMR': '0.3849439999584355',\n",
       "   'ONDO': '1.6208112160136148',\n",
       "   'OOKI': '712.4756809673116073',\n",
       "   'OP': '0.702247191011236',\n",
       "   'ORCA': '0.5204944697462589',\n",
       "   'ORN': '0.8688097306689835',\n",
       "   'OSMO': '2.5053238131028435',\n",
       "   'OXT': '13.7174211248285322',\n",
       "   'PAB': '1',\n",
       "   'PAX': '1.0005503026664666',\n",
       "   'PEN': '3.7586837128734814',\n",
       "   'PERP': '1.7189514396218307',\n",
       "   'PGK': '3.9436510404090979',\n",
       "   'PHP': '56.6392343333333333',\n",
       "   'PKR': '278.7360958746551921',\n",
       "   'PLA': '20.2177397238752501',\n",
       "   'PLN': '3.866220464494976',\n",
       "   'PLU': '0.3838771593090211',\n",
       "   'PNG': '3.6357025995273587',\n",
       "   'POLS': '4.2220814861726831',\n",
       "   'POLY': '11.0831400162362006',\n",
       "   'POND': '72.2282412423257494',\n",
       "   'POWR': '5.2617732175743225',\n",
       "   'PRIME': '0.1401541695865452',\n",
       "   'PRO': '0.893415527561869',\n",
       "   'PRQ': '13.9664804469273743',\n",
       "   'PUNDIX': '2.6298487836949375',\n",
       "   'PYG': '7676.3371716519590545',\n",
       "   'PYR': '0.3849114703618168',\n",
       "   'PYUSD': '1.0000250006250156',\n",
       "   'QAR': '3.64696',\n",
       "   'QI': '73.7898465171192444',\n",
       "   'QNT': '0.0158629441624365',\n",
       "   'QUICK': '0.0276295499747076',\n",
       "   'RAD': '0.9174311926605505',\n",
       "   'RAI': '0.3355280596856515',\n",
       "   'RARE': '5.9224163458691146',\n",
       "   'RARI': '0.60790273556231',\n",
       "   'RBN': '3.0581039755351682',\n",
       "   'REN': '26.0623828790555854',\n",
       "   'RENDER': '0.1980982567353407',\n",
       "   'REP': '2.5196594135197816',\n",
       "   'REPV2': '2.5196594135197816',\n",
       "   'REQ': '9.7418412079883098',\n",
       "   'RGT': '6.8405515783092505',\n",
       "   'RLC': '0.6581112207963146',\n",
       "   'RLY': '155.0057735899016416',\n",
       "   'RNDR': '0.1980609829766585',\n",
       "   'RON': '4.4990249998610807',\n",
       "   'RONIN': '0.6244146113019045',\n",
       "   'ROSE': '18.2332026620475887',\n",
       "   'RPL': '0.0886132033673017',\n",
       "   'RSD': '105.813999067486549',\n",
       "   'RUB': '89.7672356666666667',\n",
       "   'RUNE': '0.2474299661086492',\n",
       "   'RWF': '1335.0325056030305062',\n",
       "   'SAFE': '1.2604777210562803',\n",
       "   'SAND': '3.9729837107667859',\n",
       "   'SAR': '3.752756',\n",
       "   'SBD': '8.4759429999989351',\n",
       "   'SCR': '13.6199999999999963',\n",
       "   'SD': '1.9843238416509574',\n",
       "   'SDG': '601.5000000000151277',\n",
       "   'SEAM': '0.6926646810279144',\n",
       "   'SEI': '3.5599857600569598',\n",
       "   'SEK': '10.2764793333333333',\n",
       "   'SGD': '1.3083743333333333',\n",
       "   'SHDW': '2.6737967914438503',\n",
       "   'SHIB': '73206.4421669106881406',\n",
       "   'SHP': '0.762556869787162',\n",
       "   'SHPING': '163.6661211129296236',\n",
       "   'SKK': '27.2435',\n",
       "   'SKL': '31.4960629921259843',\n",
       "   'SLL': '20341.4887216202738877',\n",
       "   'SNT': '48.5300640982876558',\n",
       "   'SNX': '0.7550018875047188',\n",
       "   'SOL': '0.0074579557743223',\n",
       "   'SOS': '571.9222205',\n",
       "   'SPA': '138.0643379814993787',\n",
       "   'SPELL': '1886.614470332987454',\n",
       "   'SRD': '28.9326491869911133',\n",
       "   'SSP': '2232',\n",
       "   'STD': '22215.8',\n",
       "   'STG': '3.4674063800277393',\n",
       "   'STORJ': '2.799552071668533',\n",
       "   'STRK': '2.6666666666666667',\n",
       "   'STX': '0.6608948516291058',\n",
       "   'SUI': '1.2387736141220192',\n",
       "   'SUKU': '16',\n",
       "   'SUPER': '1.477552286881552',\n",
       "   'SUSHI': '1.7353579175704989',\n",
       "   'SVC': '8.7522879016156739',\n",
       "   'SWFTC': '341.705108491371946',\n",
       "   'SYLO': '1094.9794226587148262',\n",
       "   'SYN': '2.2271714922048998',\n",
       "   'SYP': '512.7950000000031552',\n",
       "   'SZL': '17.9047167567788506',\n",
       "   'T': '46.4468183929400836',\n",
       "   'THB': '34.2339',\n",
       "   'THETA': '0.8407371888479394',\n",
       "   'TIA': '0.2255808707421611',\n",
       "   'TIME': '0.0600781015319916',\n",
       "   'TJS': '10.6740932910321534',\n",
       "   'TMM': '17500',\n",
       "   'TMT': '3.5000000000000002',\n",
       "   'TND': '3.05378233376149',\n",
       "   'TNSR': '3.1446540880503145',\n",
       "   'TONE': '2078.2188619977171284',\n",
       "   'TOP': '2.3413066478452744',\n",
       "   'TRAC': '1.9582884558895525',\n",
       "   'TRB': '0.0168904653323199',\n",
       "   'TRIBE': '2.4379517579979524',\n",
       "   'TRU': '11.56737998843262',\n",
       "   'TRY': '33.9223206327204101',\n",
       "   'TTD': '6.787685721867508',\n",
       "   'TVK': '8.7039777178170424',\n",
       "   'TWD': '32.0809331958974775',\n",
       "   'TZS': '2720.4556788256273884',\n",
       "   'UAH': '41.1876377054240345',\n",
       "   'UGX': '3725.976045',\n",
       "   'UMA': '0.4300150505267684',\n",
       "   'UNFI': '0.386259882519762',\n",
       "   'UNI': '0.1607975558771507',\n",
       "   'UPI': '5818.9083346904541787',\n",
       "   'USD': '1.0',\n",
       "   'USDC': '1',\n",
       "   'USDT': '1.0000950090258575',\n",
       "   'UST': '62.4553404682583518',\n",
       "   'UYU': '40.3751278685653915',\n",
       "   'UZS': '12646.3762239463513898',\n",
       "   'VARA': '44.2380004423800044',\n",
       "   'VEF': '3659940',\n",
       "   'VELO': '13.1509731720147291',\n",
       "   'VES': '36.5994506663780013',\n",
       "   'VET': '45.5996352029183767',\n",
       "   'VGX': '55.4751158890786364',\n",
       "   'VND': '24876.25',\n",
       "   'VOXEL': '6.2676277029144469',\n",
       "   'VTHO': '517.063081695966908',\n",
       "   'VUV': '115.863807609698652',\n",
       "   'WAMPL': '0.0946234327906982',\n",
       "   'WAXL': '1.8274853801169591',\n",
       "   'WBTC': '0.0000169777831277',\n",
       "   'WCFG': '2.8694404591104735',\n",
       "   'WLUNA': '12861.6317842302620654',\n",
       "   'WST': '2.7572985634205243',\n",
       "   'XAF': '595.5753046666666667',\n",
       "   'XAG': '0.035251915',\n",
       "   'XAU': '0.0004005029953833',\n",
       "   'XCD': '2.7012743982008496',\n",
       "   'XCN': '754.7169811320754717',\n",
       "   'XDR': '0.742994',\n",
       "   'XLM': '10.6984481900900274',\n",
       "   'XMON': '0.002527699522964',\n",
       "   'XOF': '592.4334401248118221',\n",
       "   'XPD': '0.0010447949222575',\n",
       "   'XPF': '107.9110279181476497',\n",
       "   'XPT': '0.0010923',\n",
       "   'XRP': '1.7655367231638418',\n",
       "   'XTZ': '1.5278838808250573',\n",
       "   'XYO': '212.3142250530785563',\n",
       "   'YER': '250.2913184622881884',\n",
       "   'YFI': '0.0001958583787235',\n",
       "   'YFII': '0.0023562951568864',\n",
       "   'ZAR': '17.9002283296869266',\n",
       "   'ZEC': '0.033178500331785',\n",
       "   'ZEN': '0.1338688085676037',\n",
       "   'ZETA': '2.1699034392969513',\n",
       "   'ZMK': '5223.775',\n",
       "   'ZMW': '26.194204',\n",
       "   'ZRX': '3.4121890216230418',\n",
       "   'ZWD': '377.3820879703223773'}}}"
      ]
     },
     "execution_count": 14,
     "metadata": {},
     "output_type": "execute_result"
    }
   ],
   "source": [
    "data.json()"
   ]
  },
  {
   "cell_type": "code",
   "execution_count": 15,
   "id": "081720db",
   "metadata": {},
   "outputs": [
    {
     "data": {
      "text/plain": [
       "'119.550405'"
      ]
     },
     "execution_count": 15,
     "metadata": {},
     "output_type": "execute_result"
    }
   ],
   "source": [
    "data.json()['data']['rates']['BDT']"
   ]
  },
  {
   "cell_type": "code",
   "execution_count": 16,
   "id": "bb21b145",
   "metadata": {},
   "outputs": [],
   "source": [
    "base_url = 'https://api.coinbase.com/v2/exchange-rates'"
   ]
  },
  {
   "cell_type": "code",
   "execution_count": 17,
   "id": "0f0ea0b7",
   "metadata": {},
   "outputs": [],
   "source": [
    "params = {'currency': 'USD'}"
   ]
  },
  {
   "cell_type": "code",
   "execution_count": 18,
   "id": "12ffb16a",
   "metadata": {},
   "outputs": [],
   "source": [
    "data_param = requests.get(base_url, params=params)"
   ]
  },
  {
   "cell_type": "code",
   "execution_count": 19,
   "id": "9c98aaaa",
   "metadata": {},
   "outputs": [
    {
     "data": {
      "text/plain": [
       "'119.550405'"
      ]
     },
     "execution_count": 19,
     "metadata": {},
     "output_type": "execute_result"
    }
   ],
   "source": [
    "data_param.json()['data']['rates']['BDT']"
   ]
  },
  {
   "cell_type": "code",
   "execution_count": 20,
   "id": "60fad60f",
   "metadata": {},
   "outputs": [
    {
     "data": {
      "text/plain": [
       "{'User-Agent': 'python-requests/2.32.2', 'Accept-Encoding': 'gzip, deflate', 'Accept': '*/*', 'Connection': 'keep-alive'}"
      ]
     },
     "execution_count": 20,
     "metadata": {},
     "output_type": "execute_result"
    }
   ],
   "source": [
    "data_param.request.headers"
   ]
  },
  {
   "cell_type": "markdown",
   "id": "c24f8414",
   "metadata": {},
   "source": [
    "## user agent"
   ]
  },
  {
   "cell_type": "code",
   "execution_count": 21,
   "id": "54bdf9a9",
   "metadata": {},
   "outputs": [],
   "source": [
    "url = 'https://api.sunrisesunset.io/json'"
   ]
  },
  {
   "cell_type": "code",
   "execution_count": 22,
   "id": "38889ec4",
   "metadata": {},
   "outputs": [],
   "source": [
    "params = {\n",
    "    'lat':23.6850,\n",
    "    'lng': 90.3563,\n",
    "    'timezone': 'GMT+6',\n",
    "    'date': 'today'\n",
    "}"
   ]
  },
  {
   "cell_type": "code",
   "execution_count": 23,
   "id": "b6ee7397",
   "metadata": {},
   "outputs": [],
   "source": [
    "timezone = requests.get(url, params=params)"
   ]
  },
  {
   "cell_type": "code",
   "execution_count": 24,
   "id": "208efa5c",
   "metadata": {},
   "outputs": [
    {
     "data": {
      "text/plain": [
       "<Response [200]>"
      ]
     },
     "execution_count": 24,
     "metadata": {},
     "output_type": "execute_result"
    }
   ],
   "source": [
    "timezone"
   ]
  },
  {
   "cell_type": "code",
   "execution_count": 25,
   "id": "ed0d4fa2",
   "metadata": {},
   "outputs": [
    {
     "data": {
      "text/plain": [
       "{'User-Agent': 'python-requests/2.32.2', 'Accept-Encoding': 'gzip, deflate', 'Accept': '*/*', 'Connection': 'keep-alive'}"
      ]
     },
     "execution_count": 25,
     "metadata": {},
     "output_type": "execute_result"
    }
   ],
   "source": [
    "timezone.request.headers"
   ]
  },
  {
   "cell_type": "code",
   "execution_count": 26,
   "id": "424afcc0",
   "metadata": {},
   "outputs": [
    {
     "data": {
      "text/plain": [
       "'https://api.sunrisesunset.io/json?lat=23.685&lng=90.3563&timezone=GMT%2B6&date=today'"
      ]
     },
     "execution_count": 26,
     "metadata": {},
     "output_type": "execute_result"
    }
   ],
   "source": [
    "timezone.request.url"
   ]
  },
  {
   "cell_type": "code",
   "execution_count": 27,
   "id": "cdaf7745",
   "metadata": {},
   "outputs": [],
   "source": [
    "headers = {\n",
    "    \"user_agent\": 'Mozilla/5.0 (Windows NT 10.0; Win64; x64) AppleWebKit/537.36 (KHTML, like Gecko) Chrome/128.0.0.0 Safari/537.36 Edg/128.0.0.0'\n",
    "    }"
   ]
  },
  {
   "cell_type": "code",
   "execution_count": 28,
   "id": "6458cba6",
   "metadata": {},
   "outputs": [],
   "source": [
    "timezone_new = requests.get(url, params=params, headers=headers)"
   ]
  },
  {
   "cell_type": "code",
   "execution_count": 29,
   "id": "b0d02c7c",
   "metadata": {},
   "outputs": [
    {
     "data": {
      "text/plain": [
       "<Response [200]>"
      ]
     },
     "execution_count": 29,
     "metadata": {},
     "output_type": "execute_result"
    }
   ],
   "source": [
    "timezone_new"
   ]
  },
  {
   "cell_type": "code",
   "execution_count": 30,
   "id": "43954d1f",
   "metadata": {},
   "outputs": [
    {
     "data": {
      "text/plain": [
       "200"
      ]
     },
     "execution_count": 30,
     "metadata": {},
     "output_type": "execute_result"
    }
   ],
   "source": [
    "timezone_new.status_code"
   ]
  },
  {
   "cell_type": "code",
   "execution_count": 31,
   "id": "fa7d4f02",
   "metadata": {},
   "outputs": [
    {
     "data": {
      "text/plain": [
       "{'results': {'date': '2024-09-03',\n",
       "  'sunrise': '5:42:31 PM',\n",
       "  'sunset': '6:16:24 AM',\n",
       "  'first_light': '4:25:36 PM',\n",
       "  'last_light': '7:33:19 AM',\n",
       "  'dawn': '5:19:37 PM',\n",
       "  'dusk': '6:39:18 AM',\n",
       "  'solar_noon': '11:59:27 PM',\n",
       "  'golden_hour': '5:46:19 AM',\n",
       "  'day_length': '12:33:52',\n",
       "  'timezone': 'Etc/GMT+6',\n",
       "  'utc_offset': -360},\n",
       " 'status': 'OK'}"
      ]
     },
     "execution_count": 31,
     "metadata": {},
     "output_type": "execute_result"
    }
   ],
   "source": [
    "timezone_new.json()"
   ]
  },
  {
   "cell_type": "markdown",
   "id": "31ec89ee",
   "metadata": {},
   "source": [
    "## Authentication and Authorization\n",
    "* authentication: who we are\n",
    "* authorization: what we can do, permission\n",
    "\n",
    "We can authenticate using API_KEY = \"KEY_HERE\""
   ]
  },
  {
   "cell_type": "code",
   "execution_count": 32,
   "id": "1073bbe4",
   "metadata": {},
   "outputs": [],
   "source": [
    "url = \"https://api.exchange.coinbase.com/fills\""
   ]
  },
  {
   "cell_type": "code",
   "execution_count": 34,
   "id": "a1a5dbdc",
   "metadata": {},
   "outputs": [],
   "source": [
    "API_KEY = \"My_key\""
   ]
  },
  {
   "cell_type": "code",
   "execution_count": 36,
   "id": "db83b1a0",
   "metadata": {},
   "outputs": [],
   "source": [
    "headers = {\n",
    "    'Authorization': f\"Bearer {API_KEY}\",\n",
    "    \"content_type\": \"application/json\"\n",
    "}"
   ]
  },
  {
   "cell_type": "code",
   "execution_count": 37,
   "id": "459454ef",
   "metadata": {},
   "outputs": [],
   "source": [
    "html = requests.get(url, headers=headers)"
   ]
  },
  {
   "cell_type": "markdown",
   "id": "81302b9d",
   "metadata": {},
   "source": [
    "### auth"
   ]
  },
  {
   "cell_type": "code",
   "execution_count": 38,
   "id": "64408f56",
   "metadata": {},
   "outputs": [],
   "source": [
    "url = 'https://www.httpbin.org/basic-auth/user1/pass2'"
   ]
  },
  {
   "cell_type": "code",
   "execution_count": 39,
   "id": "bb0e6613",
   "metadata": {},
   "outputs": [],
   "source": [
    "auth = ('user1', 'pass2')"
   ]
  },
  {
   "cell_type": "code",
   "execution_count": 40,
   "id": "2912585b",
   "metadata": {},
   "outputs": [
    {
     "data": {
      "text/plain": [
       "<Response [200]>"
      ]
     },
     "execution_count": 40,
     "metadata": {},
     "output_type": "execute_result"
    }
   ],
   "source": [
    "requests.get(url, auth=auth)"
   ]
  },
  {
   "cell_type": "markdown",
   "id": "4be2c6d4",
   "metadata": {},
   "source": [
    "### Post, patch, delete, put, get"
   ]
  },
  {
   "cell_type": "code",
   "execution_count": null,
   "id": "b2401f71",
   "metadata": {},
   "outputs": [],
   "source": []
  }
 ],
 "metadata": {
  "kernelspec": {
   "display_name": "Python 3 (ipykernel)",
   "language": "python",
   "name": "python3"
  },
  "language_info": {
   "codemirror_mode": {
    "name": "ipython",
    "version": 3
   },
   "file_extension": ".py",
   "mimetype": "text/x-python",
   "name": "python",
   "nbconvert_exporter": "python",
   "pygments_lexer": "ipython3",
   "version": "3.12.3"
  }
 },
 "nbformat": 4,
 "nbformat_minor": 5
}
