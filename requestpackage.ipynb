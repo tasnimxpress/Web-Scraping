{
 "cells": [
  {
   "cell_type": "code",
   "execution_count": 1,
   "id": "37df7ddf-4b47-413d-8062-a247ca80411f",
   "metadata": {},
   "outputs": [],
   "source": [
    "import requests"
   ]
  },
  {
   "cell_type": "code",
   "execution_count": 2,
   "id": "831599db-6ef0-480e-a5dc-beaba45f04d2",
   "metadata": {},
   "outputs": [],
   "source": [
    "url = \"https://quotes.toscrape.com/\""
   ]
  },
  {
   "cell_type": "code",
   "execution_count": 3,
   "id": "598d5046-b242-47f3-86bc-c2c65d19050a",
   "metadata": {},
   "outputs": [],
   "source": [
    "response = requests.get(url)"
   ]
  },
  {
   "cell_type": "code",
   "execution_count": 4,
   "id": "a9e404a8-4e1f-4682-b5ed-f5d6c6482de3",
   "metadata": {},
   "outputs": [
    {
     "data": {
      "text/plain": [
       "<Response [200]>"
      ]
     },
     "execution_count": 4,
     "metadata": {},
     "output_type": "execute_result"
    }
   ],
   "source": [
    "response"
   ]
  },
  {
   "cell_type": "markdown",
   "id": "d3108d6c-b959-4771-9ec6-49eaad6150e5",
   "metadata": {},
   "source": [
    "#### status code <Response [200]> successful"
   ]
  },
  {
   "cell_type": "code",
   "execution_count": 5,
   "id": "0c9e382b-c728-4c57-a132-9ba9683d28c0",
   "metadata": {},
   "outputs": [
    {
     "data": {
      "text/plain": [
       "200"
      ]
     },
     "execution_count": 5,
     "metadata": {},
     "output_type": "execute_result"
    }
   ],
   "source": [
    "response.status_code"
   ]
  },
  {
   "cell_type": "code",
   "execution_count": 6,
   "id": "cf7890c2-9e2c-407d-9311-09a05452c4f8",
   "metadata": {
    "collapsed": true,
    "jupyter": {
     "outputs_hidden": true
    }
   },
   "outputs": [
    {
     "data": {
      "text/plain": [
       "b'<!DOCTYPE html>\\n<html lang=\"en\">\\n<head>\\n\\t<meta charset=\"UTF-8\">\\n\\t<title>Quotes to Scrape</title>\\n    <link rel=\"stylesheet\" href=\"/static/bootstrap.min.css\">\\n    <link rel=\"stylesheet\" href=\"/static/main.css\">\\n</head>\\n<body>\\n    <div class=\"container\">\\n        <div class=\"row header-box\">\\n            <div class=\"col-md-8\">\\n                <h1>\\n                    <a href=\"/\" style=\"text-decoration: none\">Quotes to Scrape</a>\\n                </h1>\\n            </div>\\n            <div class=\"col-md-4\">\\n                <p>\\n                \\n                    <a href=\"/login\">Login</a>\\n                \\n                </p>\\n            </div>\\n        </div>\\n    \\n\\n<div class=\"row\">\\n    <div class=\"col-md-8\">\\n\\n    <div class=\"quote\" itemscope itemtype=\"http://schema.org/CreativeWork\">\\n        <span class=\"text\" itemprop=\"text\">\\xe2\\x80\\x9cThe world as we have created it is a process of our thinking. It cannot be changed without changing our thinking.\\xe2\\x80\\x9d</span>\\n        <span>by <small class=\"author\" itemprop=\"author\">Albert Einstein</small>\\n        <a href=\"/author/Albert-Einstein\">(about)</a>\\n        </span>\\n        <div class=\"tags\">\\n            Tags:\\n            <meta class=\"keywords\" itemprop=\"keywords\" content=\"change,deep-thoughts,thinking,world\" /    > \\n            \\n            <a class=\"tag\" href=\"/tag/change/page/1/\">change</a>\\n            \\n            <a class=\"tag\" href=\"/tag/deep-thoughts/page/1/\">deep-thoughts</a>\\n            \\n            <a class=\"tag\" href=\"/tag/thinking/page/1/\">thinking</a>\\n            \\n            <a class=\"tag\" href=\"/tag/world/page/1/\">world</a>\\n            \\n        </div>\\n    </div>\\n\\n    <div class=\"quote\" itemscope itemtype=\"http://schema.org/CreativeWork\">\\n        <span class=\"text\" itemprop=\"text\">\\xe2\\x80\\x9cIt is our choices, Harry, that show what we truly are, far more than our abilities.\\xe2\\x80\\x9d</span>\\n        <span>by <small class=\"author\" itemprop=\"author\">J.K. Rowling</small>\\n        <a href=\"/author/J-K-Rowling\">(about)</a>\\n        </span>\\n        <div class=\"tags\">\\n            Tags:\\n            <meta class=\"keywords\" itemprop=\"keywords\" content=\"abilities,choices\" /    > \\n            \\n            <a class=\"tag\" href=\"/tag/abilities/page/1/\">abilities</a>\\n            \\n            <a class=\"tag\" href=\"/tag/choices/page/1/\">choices</a>\\n            \\n        </div>\\n    </div>\\n\\n    <div class=\"quote\" itemscope itemtype=\"http://schema.org/CreativeWork\">\\n        <span class=\"text\" itemprop=\"text\">\\xe2\\x80\\x9cThere are only two ways to live your life. One is as though nothing is a miracle. The other is as though everything is a miracle.\\xe2\\x80\\x9d</span>\\n        <span>by <small class=\"author\" itemprop=\"author\">Albert Einstein</small>\\n        <a href=\"/author/Albert-Einstein\">(about)</a>\\n        </span>\\n        <div class=\"tags\">\\n            Tags:\\n            <meta class=\"keywords\" itemprop=\"keywords\" content=\"inspirational,life,live,miracle,miracles\" /    > \\n            \\n            <a class=\"tag\" href=\"/tag/inspirational/page/1/\">inspirational</a>\\n            \\n            <a class=\"tag\" href=\"/tag/life/page/1/\">life</a>\\n            \\n            <a class=\"tag\" href=\"/tag/live/page/1/\">live</a>\\n            \\n            <a class=\"tag\" href=\"/tag/miracle/page/1/\">miracle</a>\\n            \\n            <a class=\"tag\" href=\"/tag/miracles/page/1/\">miracles</a>\\n            \\n        </div>\\n    </div>\\n\\n    <div class=\"quote\" itemscope itemtype=\"http://schema.org/CreativeWork\">\\n        <span class=\"text\" itemprop=\"text\">\\xe2\\x80\\x9cThe person, be it gentleman or lady, who has not pleasure in a good novel, must be intolerably stupid.\\xe2\\x80\\x9d</span>\\n        <span>by <small class=\"author\" itemprop=\"author\">Jane Austen</small>\\n        <a href=\"/author/Jane-Austen\">(about)</a>\\n        </span>\\n        <div class=\"tags\">\\n            Tags:\\n            <meta class=\"keywords\" itemprop=\"keywords\" content=\"aliteracy,books,classic,humor\" /    > \\n            \\n            <a class=\"tag\" href=\"/tag/aliteracy/page/1/\">aliteracy</a>\\n            \\n            <a class=\"tag\" href=\"/tag/books/page/1/\">books</a>\\n            \\n            <a class=\"tag\" href=\"/tag/classic/page/1/\">classic</a>\\n            \\n            <a class=\"tag\" href=\"/tag/humor/page/1/\">humor</a>\\n            \\n        </div>\\n    </div>\\n\\n    <div class=\"quote\" itemscope itemtype=\"http://schema.org/CreativeWork\">\\n        <span class=\"text\" itemprop=\"text\">\\xe2\\x80\\x9cImperfection is beauty, madness is genius and it&#39;s better to be absolutely ridiculous than absolutely boring.\\xe2\\x80\\x9d</span>\\n        <span>by <small class=\"author\" itemprop=\"author\">Marilyn Monroe</small>\\n        <a href=\"/author/Marilyn-Monroe\">(about)</a>\\n        </span>\\n        <div class=\"tags\">\\n            Tags:\\n            <meta class=\"keywords\" itemprop=\"keywords\" content=\"be-yourself,inspirational\" /    > \\n            \\n            <a class=\"tag\" href=\"/tag/be-yourself/page/1/\">be-yourself</a>\\n            \\n            <a class=\"tag\" href=\"/tag/inspirational/page/1/\">inspirational</a>\\n            \\n        </div>\\n    </div>\\n\\n    <div class=\"quote\" itemscope itemtype=\"http://schema.org/CreativeWork\">\\n        <span class=\"text\" itemprop=\"text\">\\xe2\\x80\\x9cTry not to become a man of success. Rather become a man of value.\\xe2\\x80\\x9d</span>\\n        <span>by <small class=\"author\" itemprop=\"author\">Albert Einstein</small>\\n        <a href=\"/author/Albert-Einstein\">(about)</a>\\n        </span>\\n        <div class=\"tags\">\\n            Tags:\\n            <meta class=\"keywords\" itemprop=\"keywords\" content=\"adulthood,success,value\" /    > \\n            \\n            <a class=\"tag\" href=\"/tag/adulthood/page/1/\">adulthood</a>\\n            \\n            <a class=\"tag\" href=\"/tag/success/page/1/\">success</a>\\n            \\n            <a class=\"tag\" href=\"/tag/value/page/1/\">value</a>\\n            \\n        </div>\\n    </div>\\n\\n    <div class=\"quote\" itemscope itemtype=\"http://schema.org/CreativeWork\">\\n        <span class=\"text\" itemprop=\"text\">\\xe2\\x80\\x9cIt is better to be hated for what you are than to be loved for what you are not.\\xe2\\x80\\x9d</span>\\n        <span>by <small class=\"author\" itemprop=\"author\">Andr\\xc3\\xa9 Gide</small>\\n        <a href=\"/author/Andre-Gide\">(about)</a>\\n        </span>\\n        <div class=\"tags\">\\n            Tags:\\n            <meta class=\"keywords\" itemprop=\"keywords\" content=\"life,love\" /    > \\n            \\n            <a class=\"tag\" href=\"/tag/life/page/1/\">life</a>\\n            \\n            <a class=\"tag\" href=\"/tag/love/page/1/\">love</a>\\n            \\n        </div>\\n    </div>\\n\\n    <div class=\"quote\" itemscope itemtype=\"http://schema.org/CreativeWork\">\\n        <span class=\"text\" itemprop=\"text\">\\xe2\\x80\\x9cI have not failed. I&#39;ve just found 10,000 ways that won&#39;t work.\\xe2\\x80\\x9d</span>\\n        <span>by <small class=\"author\" itemprop=\"author\">Thomas A. Edison</small>\\n        <a href=\"/author/Thomas-A-Edison\">(about)</a>\\n        </span>\\n        <div class=\"tags\">\\n            Tags:\\n            <meta class=\"keywords\" itemprop=\"keywords\" content=\"edison,failure,inspirational,paraphrased\" /    > \\n            \\n            <a class=\"tag\" href=\"/tag/edison/page/1/\">edison</a>\\n            \\n            <a class=\"tag\" href=\"/tag/failure/page/1/\">failure</a>\\n            \\n            <a class=\"tag\" href=\"/tag/inspirational/page/1/\">inspirational</a>\\n            \\n            <a class=\"tag\" href=\"/tag/paraphrased/page/1/\">paraphrased</a>\\n            \\n        </div>\\n    </div>\\n\\n    <div class=\"quote\" itemscope itemtype=\"http://schema.org/CreativeWork\">\\n        <span class=\"text\" itemprop=\"text\">\\xe2\\x80\\x9cA woman is like a tea bag; you never know how strong it is until it&#39;s in hot water.\\xe2\\x80\\x9d</span>\\n        <span>by <small class=\"author\" itemprop=\"author\">Eleanor Roosevelt</small>\\n        <a href=\"/author/Eleanor-Roosevelt\">(about)</a>\\n        </span>\\n        <div class=\"tags\">\\n            Tags:\\n            <meta class=\"keywords\" itemprop=\"keywords\" content=\"misattributed-eleanor-roosevelt\" /    > \\n            \\n            <a class=\"tag\" href=\"/tag/misattributed-eleanor-roosevelt/page/1/\">misattributed-eleanor-roosevelt</a>\\n            \\n        </div>\\n    </div>\\n\\n    <div class=\"quote\" itemscope itemtype=\"http://schema.org/CreativeWork\">\\n        <span class=\"text\" itemprop=\"text\">\\xe2\\x80\\x9cA day without sunshine is like, you know, night.\\xe2\\x80\\x9d</span>\\n        <span>by <small class=\"author\" itemprop=\"author\">Steve Martin</small>\\n        <a href=\"/author/Steve-Martin\">(about)</a>\\n        </span>\\n        <div class=\"tags\">\\n            Tags:\\n            <meta class=\"keywords\" itemprop=\"keywords\" content=\"humor,obvious,simile\" /    > \\n            \\n            <a class=\"tag\" href=\"/tag/humor/page/1/\">humor</a>\\n            \\n            <a class=\"tag\" href=\"/tag/obvious/page/1/\">obvious</a>\\n            \\n            <a class=\"tag\" href=\"/tag/simile/page/1/\">simile</a>\\n            \\n        </div>\\n    </div>\\n\\n    <nav>\\n        <ul class=\"pager\">\\n            \\n            \\n            <li class=\"next\">\\n                <a href=\"/page/2/\">Next <span aria-hidden=\"true\">&rarr;</span></a>\\n            </li>\\n            \\n        </ul>\\n    </nav>\\n    </div>\\n    <div class=\"col-md-4 tags-box\">\\n        \\n            <h2>Top Ten tags</h2>\\n            \\n            <span class=\"tag-item\">\\n            <a class=\"tag\" style=\"font-size: 28px\" href=\"/tag/love/\">love</a>\\n            </span>\\n            \\n            <span class=\"tag-item\">\\n            <a class=\"tag\" style=\"font-size: 26px\" href=\"/tag/inspirational/\">inspirational</a>\\n            </span>\\n            \\n            <span class=\"tag-item\">\\n            <a class=\"tag\" style=\"font-size: 26px\" href=\"/tag/life/\">life</a>\\n            </span>\\n            \\n            <span class=\"tag-item\">\\n            <a class=\"tag\" style=\"font-size: 24px\" href=\"/tag/humor/\">humor</a>\\n            </span>\\n            \\n            <span class=\"tag-item\">\\n            <a class=\"tag\" style=\"font-size: 22px\" href=\"/tag/books/\">books</a>\\n            </span>\\n            \\n            <span class=\"tag-item\">\\n            <a class=\"tag\" style=\"font-size: 14px\" href=\"/tag/reading/\">reading</a>\\n            </span>\\n            \\n            <span class=\"tag-item\">\\n            <a class=\"tag\" style=\"font-size: 10px\" href=\"/tag/friendship/\">friendship</a>\\n            </span>\\n            \\n            <span class=\"tag-item\">\\n            <a class=\"tag\" style=\"font-size: 8px\" href=\"/tag/friends/\">friends</a>\\n            </span>\\n            \\n            <span class=\"tag-item\">\\n            <a class=\"tag\" style=\"font-size: 8px\" href=\"/tag/truth/\">truth</a>\\n            </span>\\n            \\n            <span class=\"tag-item\">\\n            <a class=\"tag\" style=\"font-size: 6px\" href=\"/tag/simile/\">simile</a>\\n            </span>\\n            \\n        \\n    </div>\\n</div>\\n\\n    </div>\\n    <footer class=\"footer\">\\n        <div class=\"container\">\\n            <p class=\"text-muted\">\\n                Quotes by: <a href=\"https://www.goodreads.com/quotes\">GoodReads.com</a>\\n            </p>\\n            <p class=\"copyright\">\\n                Made with <span class=\\'zyte\\'>\\xe2\\x9d\\xa4</span> by <a class=\\'zyte\\' href=\"https://www.zyte.com\">Zyte</a>\\n            </p>\\n        </div>\\n    </footer>\\n</body>\\n</html>'"
      ]
     },
     "execution_count": 6,
     "metadata": {},
     "output_type": "execute_result"
    }
   ],
   "source": [
    "response.content"
   ]
  },
  {
   "cell_type": "code",
   "execution_count": 7,
   "id": "fb769cc5-f17e-4e97-b10b-5ce933c0a424",
   "metadata": {
    "collapsed": true,
    "jupyter": {
     "outputs_hidden": true
    }
   },
   "outputs": [
    {
     "name": "stdout",
     "output_type": "stream",
     "text": [
      "<!DOCTYPE html>\n",
      "<html lang=\"en\">\n",
      "<head>\n",
      "\t<meta charset=\"UTF-8\">\n",
      "\t<title>Quotes to Scrape</title>\n",
      "    <link rel=\"stylesheet\" href=\"/static/bootstrap.min.css\">\n",
      "    <link rel=\"stylesheet\" href=\"/static/main.css\">\n",
      "</head>\n",
      "<body>\n",
      "    <div class=\"container\">\n",
      "        <div class=\"row header-box\">\n",
      "            <div class=\"col-md-8\">\n",
      "                <h1>\n",
      "                    <a href=\"/\" style=\"text-decoration: none\">Quotes to Scrape</a>\n",
      "                </h1>\n",
      "            </div>\n",
      "            <div class=\"col-md-4\">\n",
      "                <p>\n",
      "                \n",
      "                    <a href=\"/login\">Login</a>\n",
      "                \n",
      "                </p>\n",
      "            </div>\n",
      "        </div>\n",
      "    \n",
      "\n",
      "<div class=\"row\">\n",
      "    <div class=\"col-md-8\">\n",
      "\n",
      "    <div class=\"quote\" itemscope itemtype=\"http://schema.org/CreativeWork\">\n",
      "        <span class=\"text\" itemprop=\"text\">“The world as we have created it is a process of our thinking. It cannot be changed without changing our thinking.”</span>\n",
      "        <span>by <small class=\"author\" itemprop=\"author\">Albert Einstein</small>\n",
      "        <a href=\"/author/Albert-Einstein\">(about)</a>\n",
      "        </span>\n",
      "        <div class=\"tags\">\n",
      "            Tags:\n",
      "            <meta class=\"keywords\" itemprop=\"keywords\" content=\"change,deep-thoughts,thinking,world\" /    > \n",
      "            \n",
      "            <a class=\"tag\" href=\"/tag/change/page/1/\">change</a>\n",
      "            \n",
      "            <a class=\"tag\" href=\"/tag/deep-thoughts/page/1/\">deep-thoughts</a>\n",
      "            \n",
      "            <a class=\"tag\" href=\"/tag/thinking/page/1/\">thinking</a>\n",
      "            \n",
      "            <a class=\"tag\" href=\"/tag/world/page/1/\">world</a>\n",
      "            \n",
      "        </div>\n",
      "    </div>\n",
      "\n",
      "    <div class=\"quote\" itemscope itemtype=\"http://schema.org/CreativeWork\">\n",
      "        <span class=\"text\" itemprop=\"text\">“It is our choices, Harry, that show what we truly are, far more than our abilities.”</span>\n",
      "        <span>by <small class=\"author\" itemprop=\"author\">J.K. Rowling</small>\n",
      "        <a href=\"/author/J-K-Rowling\">(about)</a>\n",
      "        </span>\n",
      "        <div class=\"tags\">\n",
      "            Tags:\n",
      "            <meta class=\"keywords\" itemprop=\"keywords\" content=\"abilities,choices\" /    > \n",
      "            \n",
      "            <a class=\"tag\" href=\"/tag/abilities/page/1/\">abilities</a>\n",
      "            \n",
      "            <a class=\"tag\" href=\"/tag/choices/page/1/\">choices</a>\n",
      "            \n",
      "        </div>\n",
      "    </div>\n",
      "\n",
      "    <div class=\"quote\" itemscope itemtype=\"http://schema.org/CreativeWork\">\n",
      "        <span class=\"text\" itemprop=\"text\">“There are only two ways to live your life. One is as though nothing is a miracle. The other is as though everything is a miracle.”</span>\n",
      "        <span>by <small class=\"author\" itemprop=\"author\">Albert Einstein</small>\n",
      "        <a href=\"/author/Albert-Einstein\">(about)</a>\n",
      "        </span>\n",
      "        <div class=\"tags\">\n",
      "            Tags:\n",
      "            <meta class=\"keywords\" itemprop=\"keywords\" content=\"inspirational,life,live,miracle,miracles\" /    > \n",
      "            \n",
      "            <a class=\"tag\" href=\"/tag/inspirational/page/1/\">inspirational</a>\n",
      "            \n",
      "            <a class=\"tag\" href=\"/tag/life/page/1/\">life</a>\n",
      "            \n",
      "            <a class=\"tag\" href=\"/tag/live/page/1/\">live</a>\n",
      "            \n",
      "            <a class=\"tag\" href=\"/tag/miracle/page/1/\">miracle</a>\n",
      "            \n",
      "            <a class=\"tag\" href=\"/tag/miracles/page/1/\">miracles</a>\n",
      "            \n",
      "        </div>\n",
      "    </div>\n",
      "\n",
      "    <div class=\"quote\" itemscope itemtype=\"http://schema.org/CreativeWork\">\n",
      "        <span class=\"text\" itemprop=\"text\">“The person, be it gentleman or lady, who has not pleasure in a good novel, must be intolerably stupid.”</span>\n",
      "        <span>by <small class=\"author\" itemprop=\"author\">Jane Austen</small>\n",
      "        <a href=\"/author/Jane-Austen\">(about)</a>\n",
      "        </span>\n",
      "        <div class=\"tags\">\n",
      "            Tags:\n",
      "            <meta class=\"keywords\" itemprop=\"keywords\" content=\"aliteracy,books,classic,humor\" /    > \n",
      "            \n",
      "            <a class=\"tag\" href=\"/tag/aliteracy/page/1/\">aliteracy</a>\n",
      "            \n",
      "            <a class=\"tag\" href=\"/tag/books/page/1/\">books</a>\n",
      "            \n",
      "            <a class=\"tag\" href=\"/tag/classic/page/1/\">classic</a>\n",
      "            \n",
      "            <a class=\"tag\" href=\"/tag/humor/page/1/\">humor</a>\n",
      "            \n",
      "        </div>\n",
      "    </div>\n",
      "\n",
      "    <div class=\"quote\" itemscope itemtype=\"http://schema.org/CreativeWork\">\n",
      "        <span class=\"text\" itemprop=\"text\">“Imperfection is beauty, madness is genius and it&#39;s better to be absolutely ridiculous than absolutely boring.”</span>\n",
      "        <span>by <small class=\"author\" itemprop=\"author\">Marilyn Monroe</small>\n",
      "        <a href=\"/author/Marilyn-Monroe\">(about)</a>\n",
      "        </span>\n",
      "        <div class=\"tags\">\n",
      "            Tags:\n",
      "            <meta class=\"keywords\" itemprop=\"keywords\" content=\"be-yourself,inspirational\" /    > \n",
      "            \n",
      "            <a class=\"tag\" href=\"/tag/be-yourself/page/1/\">be-yourself</a>\n",
      "            \n",
      "            <a class=\"tag\" href=\"/tag/inspirational/page/1/\">inspirational</a>\n",
      "            \n",
      "        </div>\n",
      "    </div>\n",
      "\n",
      "    <div class=\"quote\" itemscope itemtype=\"http://schema.org/CreativeWork\">\n",
      "        <span class=\"text\" itemprop=\"text\">“Try not to become a man of success. Rather become a man of value.”</span>\n",
      "        <span>by <small class=\"author\" itemprop=\"author\">Albert Einstein</small>\n",
      "        <a href=\"/author/Albert-Einstein\">(about)</a>\n",
      "        </span>\n",
      "        <div class=\"tags\">\n",
      "            Tags:\n",
      "            <meta class=\"keywords\" itemprop=\"keywords\" content=\"adulthood,success,value\" /    > \n",
      "            \n",
      "            <a class=\"tag\" href=\"/tag/adulthood/page/1/\">adulthood</a>\n",
      "            \n",
      "            <a class=\"tag\" href=\"/tag/success/page/1/\">success</a>\n",
      "            \n",
      "            <a class=\"tag\" href=\"/tag/value/page/1/\">value</a>\n",
      "            \n",
      "        </div>\n",
      "    </div>\n",
      "\n",
      "    <div class=\"quote\" itemscope itemtype=\"http://schema.org/CreativeWork\">\n",
      "        <span class=\"text\" itemprop=\"text\">“It is better to be hated for what you are than to be loved for what you are not.”</span>\n",
      "        <span>by <small class=\"author\" itemprop=\"author\">André Gide</small>\n",
      "        <a href=\"/author/Andre-Gide\">(about)</a>\n",
      "        </span>\n",
      "        <div class=\"tags\">\n",
      "            Tags:\n",
      "            <meta class=\"keywords\" itemprop=\"keywords\" content=\"life,love\" /    > \n",
      "            \n",
      "            <a class=\"tag\" href=\"/tag/life/page/1/\">life</a>\n",
      "            \n",
      "            <a class=\"tag\" href=\"/tag/love/page/1/\">love</a>\n",
      "            \n",
      "        </div>\n",
      "    </div>\n",
      "\n",
      "    <div class=\"quote\" itemscope itemtype=\"http://schema.org/CreativeWork\">\n",
      "        <span class=\"text\" itemprop=\"text\">“I have not failed. I&#39;ve just found 10,000 ways that won&#39;t work.”</span>\n",
      "        <span>by <small class=\"author\" itemprop=\"author\">Thomas A. Edison</small>\n",
      "        <a href=\"/author/Thomas-A-Edison\">(about)</a>\n",
      "        </span>\n",
      "        <div class=\"tags\">\n",
      "            Tags:\n",
      "            <meta class=\"keywords\" itemprop=\"keywords\" content=\"edison,failure,inspirational,paraphrased\" /    > \n",
      "            \n",
      "            <a class=\"tag\" href=\"/tag/edison/page/1/\">edison</a>\n",
      "            \n",
      "            <a class=\"tag\" href=\"/tag/failure/page/1/\">failure</a>\n",
      "            \n",
      "            <a class=\"tag\" href=\"/tag/inspirational/page/1/\">inspirational</a>\n",
      "            \n",
      "            <a class=\"tag\" href=\"/tag/paraphrased/page/1/\">paraphrased</a>\n",
      "            \n",
      "        </div>\n",
      "    </div>\n",
      "\n",
      "    <div class=\"quote\" itemscope itemtype=\"http://schema.org/CreativeWork\">\n",
      "        <span class=\"text\" itemprop=\"text\">“A woman is like a tea bag; you never know how strong it is until it&#39;s in hot water.”</span>\n",
      "        <span>by <small class=\"author\" itemprop=\"author\">Eleanor Roosevelt</small>\n",
      "        <a href=\"/author/Eleanor-Roosevelt\">(about)</a>\n",
      "        </span>\n",
      "        <div class=\"tags\">\n",
      "            Tags:\n",
      "            <meta class=\"keywords\" itemprop=\"keywords\" content=\"misattributed-eleanor-roosevelt\" /    > \n",
      "            \n",
      "            <a class=\"tag\" href=\"/tag/misattributed-eleanor-roosevelt/page/1/\">misattributed-eleanor-roosevelt</a>\n",
      "            \n",
      "        </div>\n",
      "    </div>\n",
      "\n",
      "    <div class=\"quote\" itemscope itemtype=\"http://schema.org/CreativeWork\">\n",
      "        <span class=\"text\" itemprop=\"text\">“A day without sunshine is like, you know, night.”</span>\n",
      "        <span>by <small class=\"author\" itemprop=\"author\">Steve Martin</small>\n",
      "        <a href=\"/author/Steve-Martin\">(about)</a>\n",
      "        </span>\n",
      "        <div class=\"tags\">\n",
      "            Tags:\n",
      "            <meta class=\"keywords\" itemprop=\"keywords\" content=\"humor,obvious,simile\" /    > \n",
      "            \n",
      "            <a class=\"tag\" href=\"/tag/humor/page/1/\">humor</a>\n",
      "            \n",
      "            <a class=\"tag\" href=\"/tag/obvious/page/1/\">obvious</a>\n",
      "            \n",
      "            <a class=\"tag\" href=\"/tag/simile/page/1/\">simile</a>\n",
      "            \n",
      "        </div>\n",
      "    </div>\n",
      "\n",
      "    <nav>\n",
      "        <ul class=\"pager\">\n",
      "            \n",
      "            \n",
      "            <li class=\"next\">\n",
      "                <a href=\"/page/2/\">Next <span aria-hidden=\"true\">&rarr;</span></a>\n",
      "            </li>\n",
      "            \n",
      "        </ul>\n",
      "    </nav>\n",
      "    </div>\n",
      "    <div class=\"col-md-4 tags-box\">\n",
      "        \n",
      "            <h2>Top Ten tags</h2>\n",
      "            \n",
      "            <span class=\"tag-item\">\n",
      "            <a class=\"tag\" style=\"font-size: 28px\" href=\"/tag/love/\">love</a>\n",
      "            </span>\n",
      "            \n",
      "            <span class=\"tag-item\">\n",
      "            <a class=\"tag\" style=\"font-size: 26px\" href=\"/tag/inspirational/\">inspirational</a>\n",
      "            </span>\n",
      "            \n",
      "            <span class=\"tag-item\">\n",
      "            <a class=\"tag\" style=\"font-size: 26px\" href=\"/tag/life/\">life</a>\n",
      "            </span>\n",
      "            \n",
      "            <span class=\"tag-item\">\n",
      "            <a class=\"tag\" style=\"font-size: 24px\" href=\"/tag/humor/\">humor</a>\n",
      "            </span>\n",
      "            \n",
      "            <span class=\"tag-item\">\n",
      "            <a class=\"tag\" style=\"font-size: 22px\" href=\"/tag/books/\">books</a>\n",
      "            </span>\n",
      "            \n",
      "            <span class=\"tag-item\">\n",
      "            <a class=\"tag\" style=\"font-size: 14px\" href=\"/tag/reading/\">reading</a>\n",
      "            </span>\n",
      "            \n",
      "            <span class=\"tag-item\">\n",
      "            <a class=\"tag\" style=\"font-size: 10px\" href=\"/tag/friendship/\">friendship</a>\n",
      "            </span>\n",
      "            \n",
      "            <span class=\"tag-item\">\n",
      "            <a class=\"tag\" style=\"font-size: 8px\" href=\"/tag/friends/\">friends</a>\n",
      "            </span>\n",
      "            \n",
      "            <span class=\"tag-item\">\n",
      "            <a class=\"tag\" style=\"font-size: 8px\" href=\"/tag/truth/\">truth</a>\n",
      "            </span>\n",
      "            \n",
      "            <span class=\"tag-item\">\n",
      "            <a class=\"tag\" style=\"font-size: 6px\" href=\"/tag/simile/\">simile</a>\n",
      "            </span>\n",
      "            \n",
      "        \n",
      "    </div>\n",
      "</div>\n",
      "\n",
      "    </div>\n",
      "    <footer class=\"footer\">\n",
      "        <div class=\"container\">\n",
      "            <p class=\"text-muted\">\n",
      "                Quotes by: <a href=\"https://www.goodreads.com/quotes\">GoodReads.com</a>\n",
      "            </p>\n",
      "            <p class=\"copyright\">\n",
      "                Made with <span class='zyte'>❤</span> by <a class='zyte' href=\"https://www.zyte.com\">Zyte</a>\n",
      "            </p>\n",
      "        </div>\n",
      "    </footer>\n",
      "</body>\n",
      "</html>\n"
     ]
    }
   ],
   "source": [
    "print(response.content.decode('utf-8'))"
   ]
  },
  {
   "cell_type": "code",
   "execution_count": 8,
   "id": "b28b7d31-72a9-4344-9b11-e9f0d062f39e",
   "metadata": {
    "collapsed": true,
    "jupyter": {
     "outputs_hidden": true
    }
   },
   "outputs": [
    {
     "data": {
      "text/plain": [
       "'<!DOCTYPE html>\\n<html lang=\"en\">\\n<head>\\n\\t<meta charset=\"UTF-8\">\\n\\t<title>Quotes to Scrape</title>\\n    <link rel=\"stylesheet\" href=\"/static/bootstrap.min.css\">\\n    <link rel=\"stylesheet\" href=\"/static/main.css\">\\n</head>\\n<body>\\n    <div class=\"container\">\\n        <div class=\"row header-box\">\\n            <div class=\"col-md-8\">\\n                <h1>\\n                    <a href=\"/\" style=\"text-decoration: none\">Quotes to Scrape</a>\\n                </h1>\\n            </div>\\n            <div class=\"col-md-4\">\\n                <p>\\n                \\n                    <a href=\"/login\">Login</a>\\n                \\n                </p>\\n            </div>\\n        </div>\\n    \\n\\n<div class=\"row\">\\n    <div class=\"col-md-8\">\\n\\n    <div class=\"quote\" itemscope itemtype=\"http://schema.org/CreativeWork\">\\n        <span class=\"text\" itemprop=\"text\">“The world as we have created it is a process of our thinking. It cannot be changed without changing our thinking.”</span>\\n        <span>by <small class=\"author\" itemprop=\"author\">Albert Einstein</small>\\n        <a href=\"/author/Albert-Einstein\">(about)</a>\\n        </span>\\n        <div class=\"tags\">\\n            Tags:\\n            <meta class=\"keywords\" itemprop=\"keywords\" content=\"change,deep-thoughts,thinking,world\" /    > \\n            \\n            <a class=\"tag\" href=\"/tag/change/page/1/\">change</a>\\n            \\n            <a class=\"tag\" href=\"/tag/deep-thoughts/page/1/\">deep-thoughts</a>\\n            \\n            <a class=\"tag\" href=\"/tag/thinking/page/1/\">thinking</a>\\n            \\n            <a class=\"tag\" href=\"/tag/world/page/1/\">world</a>\\n            \\n        </div>\\n    </div>\\n\\n    <div class=\"quote\" itemscope itemtype=\"http://schema.org/CreativeWork\">\\n        <span class=\"text\" itemprop=\"text\">“It is our choices, Harry, that show what we truly are, far more than our abilities.”</span>\\n        <span>by <small class=\"author\" itemprop=\"author\">J.K. Rowling</small>\\n        <a href=\"/author/J-K-Rowling\">(about)</a>\\n        </span>\\n        <div class=\"tags\">\\n            Tags:\\n            <meta class=\"keywords\" itemprop=\"keywords\" content=\"abilities,choices\" /    > \\n            \\n            <a class=\"tag\" href=\"/tag/abilities/page/1/\">abilities</a>\\n            \\n            <a class=\"tag\" href=\"/tag/choices/page/1/\">choices</a>\\n            \\n        </div>\\n    </div>\\n\\n    <div class=\"quote\" itemscope itemtype=\"http://schema.org/CreativeWork\">\\n        <span class=\"text\" itemprop=\"text\">“There are only two ways to live your life. One is as though nothing is a miracle. The other is as though everything is a miracle.”</span>\\n        <span>by <small class=\"author\" itemprop=\"author\">Albert Einstein</small>\\n        <a href=\"/author/Albert-Einstein\">(about)</a>\\n        </span>\\n        <div class=\"tags\">\\n            Tags:\\n            <meta class=\"keywords\" itemprop=\"keywords\" content=\"inspirational,life,live,miracle,miracles\" /    > \\n            \\n            <a class=\"tag\" href=\"/tag/inspirational/page/1/\">inspirational</a>\\n            \\n            <a class=\"tag\" href=\"/tag/life/page/1/\">life</a>\\n            \\n            <a class=\"tag\" href=\"/tag/live/page/1/\">live</a>\\n            \\n            <a class=\"tag\" href=\"/tag/miracle/page/1/\">miracle</a>\\n            \\n            <a class=\"tag\" href=\"/tag/miracles/page/1/\">miracles</a>\\n            \\n        </div>\\n    </div>\\n\\n    <div class=\"quote\" itemscope itemtype=\"http://schema.org/CreativeWork\">\\n        <span class=\"text\" itemprop=\"text\">“The person, be it gentleman or lady, who has not pleasure in a good novel, must be intolerably stupid.”</span>\\n        <span>by <small class=\"author\" itemprop=\"author\">Jane Austen</small>\\n        <a href=\"/author/Jane-Austen\">(about)</a>\\n        </span>\\n        <div class=\"tags\">\\n            Tags:\\n            <meta class=\"keywords\" itemprop=\"keywords\" content=\"aliteracy,books,classic,humor\" /    > \\n            \\n            <a class=\"tag\" href=\"/tag/aliteracy/page/1/\">aliteracy</a>\\n            \\n            <a class=\"tag\" href=\"/tag/books/page/1/\">books</a>\\n            \\n            <a class=\"tag\" href=\"/tag/classic/page/1/\">classic</a>\\n            \\n            <a class=\"tag\" href=\"/tag/humor/page/1/\">humor</a>\\n            \\n        </div>\\n    </div>\\n\\n    <div class=\"quote\" itemscope itemtype=\"http://schema.org/CreativeWork\">\\n        <span class=\"text\" itemprop=\"text\">“Imperfection is beauty, madness is genius and it&#39;s better to be absolutely ridiculous than absolutely boring.”</span>\\n        <span>by <small class=\"author\" itemprop=\"author\">Marilyn Monroe</small>\\n        <a href=\"/author/Marilyn-Monroe\">(about)</a>\\n        </span>\\n        <div class=\"tags\">\\n            Tags:\\n            <meta class=\"keywords\" itemprop=\"keywords\" content=\"be-yourself,inspirational\" /    > \\n            \\n            <a class=\"tag\" href=\"/tag/be-yourself/page/1/\">be-yourself</a>\\n            \\n            <a class=\"tag\" href=\"/tag/inspirational/page/1/\">inspirational</a>\\n            \\n        </div>\\n    </div>\\n\\n    <div class=\"quote\" itemscope itemtype=\"http://schema.org/CreativeWork\">\\n        <span class=\"text\" itemprop=\"text\">“Try not to become a man of success. Rather become a man of value.”</span>\\n        <span>by <small class=\"author\" itemprop=\"author\">Albert Einstein</small>\\n        <a href=\"/author/Albert-Einstein\">(about)</a>\\n        </span>\\n        <div class=\"tags\">\\n            Tags:\\n            <meta class=\"keywords\" itemprop=\"keywords\" content=\"adulthood,success,value\" /    > \\n            \\n            <a class=\"tag\" href=\"/tag/adulthood/page/1/\">adulthood</a>\\n            \\n            <a class=\"tag\" href=\"/tag/success/page/1/\">success</a>\\n            \\n            <a class=\"tag\" href=\"/tag/value/page/1/\">value</a>\\n            \\n        </div>\\n    </div>\\n\\n    <div class=\"quote\" itemscope itemtype=\"http://schema.org/CreativeWork\">\\n        <span class=\"text\" itemprop=\"text\">“It is better to be hated for what you are than to be loved for what you are not.”</span>\\n        <span>by <small class=\"author\" itemprop=\"author\">André Gide</small>\\n        <a href=\"/author/Andre-Gide\">(about)</a>\\n        </span>\\n        <div class=\"tags\">\\n            Tags:\\n            <meta class=\"keywords\" itemprop=\"keywords\" content=\"life,love\" /    > \\n            \\n            <a class=\"tag\" href=\"/tag/life/page/1/\">life</a>\\n            \\n            <a class=\"tag\" href=\"/tag/love/page/1/\">love</a>\\n            \\n        </div>\\n    </div>\\n\\n    <div class=\"quote\" itemscope itemtype=\"http://schema.org/CreativeWork\">\\n        <span class=\"text\" itemprop=\"text\">“I have not failed. I&#39;ve just found 10,000 ways that won&#39;t work.”</span>\\n        <span>by <small class=\"author\" itemprop=\"author\">Thomas A. Edison</small>\\n        <a href=\"/author/Thomas-A-Edison\">(about)</a>\\n        </span>\\n        <div class=\"tags\">\\n            Tags:\\n            <meta class=\"keywords\" itemprop=\"keywords\" content=\"edison,failure,inspirational,paraphrased\" /    > \\n            \\n            <a class=\"tag\" href=\"/tag/edison/page/1/\">edison</a>\\n            \\n            <a class=\"tag\" href=\"/tag/failure/page/1/\">failure</a>\\n            \\n            <a class=\"tag\" href=\"/tag/inspirational/page/1/\">inspirational</a>\\n            \\n            <a class=\"tag\" href=\"/tag/paraphrased/page/1/\">paraphrased</a>\\n            \\n        </div>\\n    </div>\\n\\n    <div class=\"quote\" itemscope itemtype=\"http://schema.org/CreativeWork\">\\n        <span class=\"text\" itemprop=\"text\">“A woman is like a tea bag; you never know how strong it is until it&#39;s in hot water.”</span>\\n        <span>by <small class=\"author\" itemprop=\"author\">Eleanor Roosevelt</small>\\n        <a href=\"/author/Eleanor-Roosevelt\">(about)</a>\\n        </span>\\n        <div class=\"tags\">\\n            Tags:\\n            <meta class=\"keywords\" itemprop=\"keywords\" content=\"misattributed-eleanor-roosevelt\" /    > \\n            \\n            <a class=\"tag\" href=\"/tag/misattributed-eleanor-roosevelt/page/1/\">misattributed-eleanor-roosevelt</a>\\n            \\n        </div>\\n    </div>\\n\\n    <div class=\"quote\" itemscope itemtype=\"http://schema.org/CreativeWork\">\\n        <span class=\"text\" itemprop=\"text\">“A day without sunshine is like, you know, night.”</span>\\n        <span>by <small class=\"author\" itemprop=\"author\">Steve Martin</small>\\n        <a href=\"/author/Steve-Martin\">(about)</a>\\n        </span>\\n        <div class=\"tags\">\\n            Tags:\\n            <meta class=\"keywords\" itemprop=\"keywords\" content=\"humor,obvious,simile\" /    > \\n            \\n            <a class=\"tag\" href=\"/tag/humor/page/1/\">humor</a>\\n            \\n            <a class=\"tag\" href=\"/tag/obvious/page/1/\">obvious</a>\\n            \\n            <a class=\"tag\" href=\"/tag/simile/page/1/\">simile</a>\\n            \\n        </div>\\n    </div>\\n\\n    <nav>\\n        <ul class=\"pager\">\\n            \\n            \\n            <li class=\"next\">\\n                <a href=\"/page/2/\">Next <span aria-hidden=\"true\">&rarr;</span></a>\\n            </li>\\n            \\n        </ul>\\n    </nav>\\n    </div>\\n    <div class=\"col-md-4 tags-box\">\\n        \\n            <h2>Top Ten tags</h2>\\n            \\n            <span class=\"tag-item\">\\n            <a class=\"tag\" style=\"font-size: 28px\" href=\"/tag/love/\">love</a>\\n            </span>\\n            \\n            <span class=\"tag-item\">\\n            <a class=\"tag\" style=\"font-size: 26px\" href=\"/tag/inspirational/\">inspirational</a>\\n            </span>\\n            \\n            <span class=\"tag-item\">\\n            <a class=\"tag\" style=\"font-size: 26px\" href=\"/tag/life/\">life</a>\\n            </span>\\n            \\n            <span class=\"tag-item\">\\n            <a class=\"tag\" style=\"font-size: 24px\" href=\"/tag/humor/\">humor</a>\\n            </span>\\n            \\n            <span class=\"tag-item\">\\n            <a class=\"tag\" style=\"font-size: 22px\" href=\"/tag/books/\">books</a>\\n            </span>\\n            \\n            <span class=\"tag-item\">\\n            <a class=\"tag\" style=\"font-size: 14px\" href=\"/tag/reading/\">reading</a>\\n            </span>\\n            \\n            <span class=\"tag-item\">\\n            <a class=\"tag\" style=\"font-size: 10px\" href=\"/tag/friendship/\">friendship</a>\\n            </span>\\n            \\n            <span class=\"tag-item\">\\n            <a class=\"tag\" style=\"font-size: 8px\" href=\"/tag/friends/\">friends</a>\\n            </span>\\n            \\n            <span class=\"tag-item\">\\n            <a class=\"tag\" style=\"font-size: 8px\" href=\"/tag/truth/\">truth</a>\\n            </span>\\n            \\n            <span class=\"tag-item\">\\n            <a class=\"tag\" style=\"font-size: 6px\" href=\"/tag/simile/\">simile</a>\\n            </span>\\n            \\n        \\n    </div>\\n</div>\\n\\n    </div>\\n    <footer class=\"footer\">\\n        <div class=\"container\">\\n            <p class=\"text-muted\">\\n                Quotes by: <a href=\"https://www.goodreads.com/quotes\">GoodReads.com</a>\\n            </p>\\n            <p class=\"copyright\">\\n                Made with <span class=\\'zyte\\'>❤</span> by <a class=\\'zyte\\' href=\"https://www.zyte.com\">Zyte</a>\\n            </p>\\n        </div>\\n    </footer>\\n</body>\\n</html>'"
      ]
     },
     "execution_count": 8,
     "metadata": {},
     "output_type": "execute_result"
    }
   ],
   "source": [
    "response.text"
   ]
  },
  {
   "cell_type": "markdown",
   "id": "19b063e6-fe49-4a48-b10f-9d52330dd648",
   "metadata": {},
   "source": [
    "### Headers"
   ]
  },
  {
   "cell_type": "code",
   "execution_count": 9,
   "id": "5f40998d-d814-47a4-8c5c-61786a200592",
   "metadata": {
    "jupyter": {
     "source_hidden": true
    }
   },
   "outputs": [
    {
     "data": {
      "text/plain": [
       "{'Date': 'Mon, 02 Sep 2024 14:22:36 GMT', 'Content-Type': 'text/html; charset=utf-8', 'Content-Length': '11054', 'Connection': 'keep-alive', 'Strict-Transport-Security': 'max-age=0; includeSubDomains; preload'}"
      ]
     },
     "execution_count": 9,
     "metadata": {},
     "output_type": "execute_result"
    }
   ],
   "source": [
    "response.headers"
   ]
  },
  {
   "cell_type": "code",
   "execution_count": 10,
   "id": "0a07e6ce-1f38-4d9f-8112-ae8fff7a99dd",
   "metadata": {},
   "outputs": [
    {
     "data": {
      "text/plain": [
       "'text/html; charset=utf-8'"
      ]
     },
     "execution_count": 10,
     "metadata": {},
     "output_type": "execute_result"
    }
   ],
   "source": [
    "response.headers[\"Content-Type\"]"
   ]
  },
  {
   "cell_type": "code",
   "execution_count": 11,
   "id": "a435ba67-dc46-4af3-a7dd-56046281d69d",
   "metadata": {},
   "outputs": [],
   "source": [
    "response =  requests.get(url, headers={\"User-Agent\": \"\"})"
   ]
  },
  {
   "cell_type": "markdown",
   "id": "dc85022a",
   "metadata": {},
   "source": [
    "### Parameter"
   ]
  },
  {
   "cell_type": "markdown",
   "id": "6668d14e",
   "metadata": {},
   "source": [
    "#### books.com?author=JKRowling&title=HarryPotter&price=10"
   ]
  },
  {
   "cell_type": "code",
   "execution_count": 12,
   "id": "ace100d9",
   "metadata": {},
   "outputs": [],
   "source": [
    "url = 'https://api.coinbase.com/v2/exchange-rates?currancy=BTC'"
   ]
  },
  {
   "cell_type": "code",
   "execution_count": 14,
   "id": "df11aa57",
   "metadata": {},
   "outputs": [],
   "source": [
    "data = requests.get(url)"
   ]
  },
  {
   "cell_type": "code",
   "execution_count": 15,
   "id": "70a1df23",
   "metadata": {},
   "outputs": [
    {
     "data": {
      "text/plain": [
       "{'data': {'currency': 'USD',\n",
       "  'rates': {'00': '20.9863588667366212',\n",
       "   '1INCH': '4.3478260869565217',\n",
       "   'AAVE': '0.0082145644227215',\n",
       "   'ABT': '0.5344449788894233',\n",
       "   'ACH': '58.0855018587360595',\n",
       "   'ACS': '638.2639221318014999',\n",
       "   'ACX': '3.5106196243637002',\n",
       "   'ADA': '3.0353619669145546',\n",
       "   'AED': '3.6729116666666667',\n",
       "   'AERGO': '11.56737998843262',\n",
       "   'AERO': '1.7672528055138288',\n",
       "   'AFN': '70.4807323286857962',\n",
       "   'AGLD': '1.4199503017394391',\n",
       "   'AIOZ': '2.5736713421696049',\n",
       "   'AKT': '0.423728813559322',\n",
       "   'ALCX': '0.0721500721500722',\n",
       "   'ALEPH': '6.9204152249134948',\n",
       "   'ALGO': '8.1766148814390842',\n",
       "   'ALICE': '1.0548523206751055',\n",
       "   'ALL': '90.1748095',\n",
       "   'AMD': '387.64',\n",
       "   'AMP': '260.7561929595827901',\n",
       "   'ANG': '1.796069350645012',\n",
       "   'ANKR': '42.6075841499786962',\n",
       "   'ANT': '0.1564106445484634',\n",
       "   'AOA': '914.975',\n",
       "   'APE': '1.7123287671232877',\n",
       "   'API3': '0.7209805335255948',\n",
       "   'APT': '0.1618122977346278',\n",
       "   'ARB': '1.9567556990509735',\n",
       "   'ARKM': '0.9876543209876543',\n",
       "   'ARPA': '27.972027972027972',\n",
       "   'ARS': '951.248157304288434',\n",
       "   'ARSMEP': '1295.4600000000811839',\n",
       "   'ASM': '54.9450549450549451',\n",
       "   'AST': '12.5786163522012579',\n",
       "   'ATA': '12.9546400624110787',\n",
       "   'ATOM': '0.2295947652393525',\n",
       "   'AUCTION': '0.0706713780918728',\n",
       "   'AUD': '1.4759833333333333',\n",
       "   'AUDIO': '7.7249903437620703',\n",
       "   'AURORA': '8.7336244541484716',\n",
       "   'AVAX': '0.0454132606721163',\n",
       "   'AVT': '0.5050505050505051',\n",
       "   'AWG': '1.7999999999999999',\n",
       "   'AXL': '1.9359210144226116',\n",
       "   'AXS': '0.2185792349726776',\n",
       "   'AZN': '1.7',\n",
       "   'BADGER': '0.3831417624521073',\n",
       "   'BAL': '0.5376344086021505',\n",
       "   'BAM': '1.7675419497584782',\n",
       "   'BAND': '0.970402717127608',\n",
       "   'BAT': '6.1839094675653948',\n",
       "   'BBD': '2',\n",
       "   'BCH': '0.0031277367696735',\n",
       "   'BDT': '119.4934685',\n",
       "   'BGN': '1.7675174411568768',\n",
       "   'BHD': '0.376807',\n",
       "   'BICO': '4.6685340802987862',\n",
       "   'BIF': '2891.7132744022235613',\n",
       "   'BIGTIME': '14.6886016451233843',\n",
       "   'BIT': '1.4145271942853101',\n",
       "   'BLAST': '109.7694840834248079',\n",
       "   'BLUR': '6.6822586034079519',\n",
       "   'BLZ': '8.5106382978723404',\n",
       "   'BMD': '1',\n",
       "   'BND': '1.307239',\n",
       "   'BNT': '2.0927069163963587',\n",
       "   'BOB': '6.9104209144135007',\n",
       "   'BOBA': '4.9541738915035918',\n",
       "   'BOND': '0.4979661114131834',\n",
       "   'BONK': '58944.8865310934276452',\n",
       "   'BRL': '5.6476833333333333',\n",
       "   'BSD': '1',\n",
       "   'BSV': '0.0243639220610753',\n",
       "   'BTC': '0.0000171157262716',\n",
       "   'BTN': '83.9259605',\n",
       "   'BTRST': '2.6560424966799469',\n",
       "   'BUSD': '1.0000188609191381',\n",
       "   'BWP': '13.3372617176836072',\n",
       "   'BYN': '3.2720569999972491',\n",
       "   'BYR': '32720.6',\n",
       "   'BZD': '2.0180063074644365',\n",
       "   'C98': '9.0867787369377556',\n",
       "   'CAD': '1.3503866666666667',\n",
       "   'CBETH': '0.0003701756853803',\n",
       "   'CDF': '2845.250786',\n",
       "   'CELR': '91.0332271279016841',\n",
       "   'CGLD': '2.2883295194508009',\n",
       "   'CHF': '0.8529349603586165',\n",
       "   'CHZ': '19.5121951219512195',\n",
       "   'CLF': '0.0331077998538109',\n",
       "   'CLP': '913.61',\n",
       "   'CLV': '24.42002442002442',\n",
       "   'CNH': '7.114157',\n",
       "   'CNY': '7.1133833333333333',\n",
       "   'COMP': '0.0227350233033989',\n",
       "   'COP': '4169.2839616666666667',\n",
       "   'CORECHAIN': '1.1166945840312674',\n",
       "   'COTI': '12.5156445556946183',\n",
       "   'COVAL': '535.2471818943833828',\n",
       "   'CRC': '519.1393413333333333',\n",
       "   'CRO': '12.5',\n",
       "   'CRPT': '35.6703509424541185',\n",
       "   'CRV': '3.6016567621105709',\n",
       "   'CTSI': '8.0128205128205128',\n",
       "   'CTX': '0.4819277108433735',\n",
       "   'CUC': '1',\n",
       "   'CUP': '25.375',\n",
       "   'CVC': '11.1544896820970441',\n",
       "   'CVE': '99.6514042138933459',\n",
       "   'CVX': '0.4826254826254826',\n",
       "   'CZK': '22.6281',\n",
       "   'DAI': '1.0001500225033755',\n",
       "   'DAR': '7.2992700729927007',\n",
       "   'DASH': '0.0430848772081',\n",
       "   'DDX': '25.8173413630520836',\n",
       "   'DESO': '0.1597444089456869',\n",
       "   'DEXT': '2.184598580010923',\n",
       "   'DIA': '2.9134133550868197',\n",
       "   'DIMO': '6.3997952065533903',\n",
       "   'DJF': '177.8901506897790384',\n",
       "   'DKK': '6.7417816666666667',\n",
       "   'DNT': '25.7731958762886598',\n",
       "   'DOGE': '10.3034361959713564',\n",
       "   'DOP': '59.675938',\n",
       "   'DOT': '0.2411381721726549',\n",
       "   'DREP': '165.5727530912319547',\n",
       "   'DYP': '4.6024623173397768',\n",
       "   'DZD': '133.6382026666666667',\n",
       "   'EEK': '14.1426',\n",
       "   'EGLD': '0.0363372093023256',\n",
       "   'EGP': '48.541246',\n",
       "   'ELA': '0.6031363088057901',\n",
       "   'ENJ': '7.3771974981329422',\n",
       "   'ENS': '0.0571265352756355',\n",
       "   'EOS': '2.1378941742383752',\n",
       "   'ERN': '0.4761904761904762',\n",
       "   'ETB': '110.949984',\n",
       "   'ETC': '0.0557413600891862',\n",
       "   'ETH': '0.0003987145443091',\n",
       "   'ETH2': '0.0003987145443091',\n",
       "   'EUR': '0.9038746832824539',\n",
       "   'EURC': '0.9041722015640279',\n",
       "   'FARM': '0.0242718446601942',\n",
       "   'FET': '0.8419280151547043',\n",
       "   'FIDA': '4.4583147570218457',\n",
       "   'FIL': '0.2929115407147042',\n",
       "   'FIS': '3.2118194957443392',\n",
       "   'FJD': '2.2069749929201734',\n",
       "   'FKP': '0.7611559984812575',\n",
       "   'FLOW': '1.8181818181818182',\n",
       "   'FLR': '65.2954619653934052',\n",
       "   'FORT': '8.3682008368200837',\n",
       "   'FORTH': '0.364963503649635',\n",
       "   'FOX': '24.6002460024600246',\n",
       "   'FTM': '2.4213773346467734',\n",
       "   'FX': '6.993006993006993',\n",
       "   'GAL': '0.4862630683199611',\n",
       "   'GALA': '55.8522220957617684',\n",
       "   'GBP': '0.7611706666666667',\n",
       "   'GEL': '2.6893333333333333',\n",
       "   'GFI': '0.4580117709025122',\n",
       "   'GGP': '0.7611559468356358',\n",
       "   'GHS': '15.643786',\n",
       "   'GHST': '1.122334455667789',\n",
       "   'GIP': '0.7611559984812575',\n",
       "   'GLM': '3.7023324694557571',\n",
       "   'GMD': '70.4986',\n",
       "   'GMT': '8.7950747581354442',\n",
       "   'GNF': '8636.1389030647588797',\n",
       "   'GNO': '0.0067567567567568',\n",
       "   'GNT': '3.7148275873733691',\n",
       "   'GODS': '5.9749648970812296',\n",
       "   'GRT': '7.0224719101123596',\n",
       "   'GST': '82.5627476882430647',\n",
       "   'GTC': '1.7094017094017094',\n",
       "   'GTQ': '7.7333435032063832',\n",
       "   'GUSD': '0.9995002498750625',\n",
       "   'GYD': '209.2422770795658734',\n",
       "   'GYEN': '148.2909468376955587',\n",
       "   'HBAR': '20.0843542880096405',\n",
       "   'HFT': '7.0871722182849043',\n",
       "   'HIGH': '0.7858546168958743',\n",
       "   'HKD': '7.7973033333333333',\n",
       "   'HNL': '24.786614',\n",
       "   'HNT': '0.1310358383017755',\n",
       "   'HONEY': '14.9588631264023934',\n",
       "   'HOPR': '18.8679245283018868',\n",
       "   'HRK': '6.8098175',\n",
       "   'HTG': '131.877207',\n",
       "   'HUF': '354.5232752162772942',\n",
       "   'ICP': '0.1367801942278758',\n",
       "   'IDEX': '20.202020202020202',\n",
       "   'IDR': '15547.1133969141876717',\n",
       "   'ILS': '3.6499175',\n",
       "   'ILV': '0.0269505457485514',\n",
       "   'IMP': '0.7611559468356358',\n",
       "   'IMX': '0.7984988222142372',\n",
       "   'INDEX': '0.2747252747252747',\n",
       "   'INJ': '0.0596214040840662',\n",
       "   'INR': '83.907882',\n",
       "   'INV': '0.0412796697626419',\n",
       "   'IOTX': '28.5836787194511934',\n",
       "   'IQD': '1309.961795',\n",
       "   'IRR': '42105',\n",
       "   'ISK': '138.56',\n",
       "   'JASMY': '54.8546352166758091',\n",
       "   'JEP': '0.7611559468356358',\n",
       "   'JMD': '156.9840073333333333',\n",
       "   'JOD': '0.7088666164989183',\n",
       "   'JPY': '146.9474805466666667',\n",
       "   'JTO': '0.4680661845584966',\n",
       "   'JUP': '1757.5777067250994016',\n",
       "   'KARRAT': '2.9931158335827597',\n",
       "   'KAVA': '3.3829499323410014',\n",
       "   'KEEP': '9.9210508850225561',\n",
       "   'KES': '128.758674880760698',\n",
       "   'KGS': '84.7306000000001573',\n",
       "   'KHR': '4062.9139695',\n",
       "   'KMF': '445.0900865',\n",
       "   'KNC': '2.31000231000231',\n",
       "   'KPW': '135',\n",
       "   'KRL': '2.7816411682892907',\n",
       "   'KRW': '1338.836456',\n",
       "   'KSM': '0.0554477405045744',\n",
       "   'KWD': '0.3055796666666667',\n",
       "   'KYD': '0.8333124994956874',\n",
       "   'KZT': '482.6273508366161312',\n",
       "   'LAK': '22116.4953837753336011',\n",
       "   'LBP': '89551.1941925',\n",
       "   'LCX': '8.0450522928399035',\n",
       "   'LDO': '0.9478672985781991',\n",
       "   'LINK': '0.0936461113452264',\n",
       "   'LIT': '1.6108247422680412',\n",
       "   'LKR': '298.9365330299190528',\n",
       "   'LOKA': '4.74158368895211',\n",
       "   'LOOM': '22.1639744126693039',\n",
       "   'LPT': '0.0837871805613741',\n",
       "   'LQTY': '1.4382281029771322',\n",
       "   'LRC': '8.1433224755700326',\n",
       "   'LRD': '195.0185025',\n",
       "   'LRDS': '1.4126289023873428',\n",
       "   'LSETH': '0.0003754740359704',\n",
       "   'LSL': '17.8750931763622604',\n",
       "   'LTC': '0.0156396621832968',\n",
       "   'LTL': '2.9814433197987551',\n",
       "   'LVL': '0.635251',\n",
       "   'LYD': '4.7616245',\n",
       "   'MAD': '9.7948318117183456',\n",
       "   'MAGIC': '3.1416902293433867',\n",
       "   'MANA': '3.826286588865506',\n",
       "   'MASK': '0.495049504950495',\n",
       "   'MATH': '5.5248618784530387',\n",
       "   'MATIC': '2.5053238131028435',\n",
       "   'MCO2': '2.2177585959921512',\n",
       "   'MDL': '17.4531612993121603',\n",
       "   'MDT': '24.5037980887037491',\n",
       "   'MEDIA': '0.0870322019147084',\n",
       "   'METIS': '0.0321543408360129',\n",
       "   'MGA': '4552.033537119433484',\n",
       "   'MINA': '2.3866348448687351',\n",
       "   'MIR': '68.6899486855784131',\n",
       "   'MKD': '55.588994477401638',\n",
       "   'MKR': '0.0005749852660026',\n",
       "   'MLN': '0.0644745325596389',\n",
       "   'MMK': '2098.44',\n",
       "   'MNDE': '10.055809744079642',\n",
       "   'MNT': '3390.985549984320259',\n",
       "   'MOBILE': '953.7434430138292799',\n",
       "   'MONA': '0.012202542610712',\n",
       "   'MOP': '8.0308834804240353',\n",
       "   'MPL': '0.060882800608828',\n",
       "   'MRO': '376.2928017639401882',\n",
       "   'MRU': '39.6475303528289463',\n",
       "   'MSOL': '0.0062970309499071',\n",
       "   'MTL': '1.1554088095542084',\n",
       "   'MULTI': '8.720405848132598',\n",
       "   'MUR': '46.479999',\n",
       "   'MUSE': '0.1189838776845737',\n",
       "   'MVR': '15.36',\n",
       "   'MWK': '1734.492242',\n",
       "   'MXC': '143.2400594711875267',\n",
       "   'MXN': '19.7535646666666667',\n",
       "   'MYR': '4.3558',\n",
       "   'MZN': '63.8649773227498301',\n",
       "   'NAD': '17.8750931763622604',\n",
       "   'NCT': '75.4147812971342383',\n",
       "   'NEAR': '0.2549069589599796',\n",
       "   'NEON': '2.8530670470756063',\n",
       "   'NEST': '1556.8048329641389577',\n",
       "   'NGN': '1589.9799998742083762',\n",
       "   'NIO': '36.8228545',\n",
       "   'NKN': '15.444015444015444',\n",
       "   'NMR': '0.0717617509867241',\n",
       "   'NOK': '10.6056868900506765',\n",
       "   'NPR': '134.3044339682672487',\n",
       "   'NU': '14.7797570102777172',\n",
       "   'NZD': '1.6070973333333333',\n",
       "   'OCEAN': '1.9436345966958212',\n",
       "   'OGN': '11.2492266156701727',\n",
       "   'OMG': '4.9411536335147471',\n",
       "   'OMR': '0.3849614999993506',\n",
       "   'ONDO': '1.6378943230582763',\n",
       "   'OOKI': '736.2647275705942406',\n",
       "   'OP': '0.7204610951008646',\n",
       "   'ORCA': '0.5208062080099995',\n",
       "   'ORN': '0.9086778736937756',\n",
       "   'OSMO': '2.5769875016106172',\n",
       "   'OXT': '14.5666423889293518',\n",
       "   'PAB': '1',\n",
       "   'PAX': '1.0005002501250625',\n",
       "   'PEN': '3.7513353333333333',\n",
       "   'PERP': '1.7863522686673812',\n",
       "   'PGK': '3.9408295849856148',\n",
       "   'PHP': '56.4869353333333333',\n",
       "   'PKR': '278.6158973333333333',\n",
       "   'PLA': '20.5422811806701712',\n",
       "   'PLN': '3.8615719998746623',\n",
       "   'PLU': '0.3883495145631068',\n",
       "   'PNG': '4.2349553212213611',\n",
       "   'POLS': '4.2634832658281816',\n",
       "   'POLY': '12.8769598501945378',\n",
       "   'POND': '73.7191301142646517',\n",
       "   'POWR': '5.424464334147003',\n",
       "   'PRIME': '0.1378834884522578',\n",
       "   'PRO': '0.8868393047179851',\n",
       "   'PRQ': '14.1342756183745583',\n",
       "   'PUNDIX': '2.711864406779661',\n",
       "   'PYG': '7673.4446063163853351',\n",
       "   'PYR': '0.3940886699507389',\n",
       "   'PYUSD': '1.0000950090258575',\n",
       "   'QAR': '3.6454785',\n",
       "   'QI': '76.2776506483600305',\n",
       "   'QNT': '0.0162337662337662',\n",
       "   'QUICK': '0.028237951660621',\n",
       "   'RAD': '0.9523809523809524',\n",
       "   'RAI': '0.3347391432855436',\n",
       "   'RARE': '5.973715651135006',\n",
       "   'RARI': '0.60790273556231',\n",
       "   'RBN': '3.1259768677711785',\n",
       "   'REN': '25.9822044834552918',\n",
       "   'RENDER': '0.2021631456585464',\n",
       "   'REP': '2.6059330290724293',\n",
       "   'REPV2': '2.6059330290724293',\n",
       "   'REQ': '10.1112234580384226',\n",
       "   'RGT': '7.0415240970880325',\n",
       "   'RLC': '0.6760411032990806',\n",
       "   'RLY': '155.7338792351386632',\n",
       "   'RNDR': '0.2018326403746014',\n",
       "   'RON': '4.4963624996872465',\n",
       "   'RONIN': '0.6611570247933884',\n",
       "   'ROSE': '18.3908045977011494',\n",
       "   'RPL': '0.0912408759124088',\n",
       "   'RSD': '105.7653333333333333',\n",
       "   'RUB': '89.7248316666666667',\n",
       "   'RUNE': '0.2613381804101163',\n",
       "   'RWF': '1334.2880634438249978',\n",
       "   'SAFE': '1.2564392511622063',\n",
       "   'SAND': '4.0916530278232406',\n",
       "   'SAR': '3.7525004999999327',\n",
       "   'SBD': '8.475943',\n",
       "   'SCR': '13.2958814999742641',\n",
       "   'SD': '1.9688915140775743',\n",
       "   'SDG': '601.5',\n",
       "   'SEAM': '0.6959668719768939',\n",
       "   'SEI': '3.6523009495982469',\n",
       "   'SEK': '10.2566599382027436',\n",
       "   'SGD': '1.3074113333333333',\n",
       "   'SHDW': '2.6737967914438503',\n",
       "   'SHIB': '74487.8957169459962756',\n",
       "   'SHP': '0.7611559453121398',\n",
       "   'SHPING': '176.8972227136033964',\n",
       "   'SKK': '27.2303999999999859',\n",
       "   'SKL': '33.3333333333333333',\n",
       "   'SLL': '20359.75',\n",
       "   'SNT': '49.5024592206630568',\n",
       "   'SNX': '0.7739938080495356',\n",
       "   'SOL': '0.0076057195010648',\n",
       "   'SOS': '571.7239295',\n",
       "   'SPA': '138.8888888888888889',\n",
       "   'SPELL': '1929.5706705258080077',\n",
       "   'SRD': '28.9328492526660804',\n",
       "   'SSP': '2232',\n",
       "   'STD': '22212.8',\n",
       "   'STG': '3.5714285714285714',\n",
       "   'STORJ': '2.9112081513828239',\n",
       "   'STRK': '2.7434842249657064',\n",
       "   'STX': '0.6888238333046323',\n",
       "   'SUI': '1.2992918859221724',\n",
       "   'SUKU': '16.4203612479474548',\n",
       "   'SUPER': '1.4587892049598833',\n",
       "   'SUSHI': '1.8181818181818182',\n",
       "   'SVC': '8.7498165',\n",
       "   'SWFTC': '350.3240497460150639',\n",
       "   'SYLO': '1105.7644610386162001',\n",
       "   'SYN': '2.2522522522522523',\n",
       "   'SYP': '512.7950000000031552',\n",
       "   'SZL': '17.872390811121821',\n",
       "   'T': '48.1000481000481',\n",
       "   'THB': '34.18925',\n",
       "   'THETA': '0.8591635236659419',\n",
       "   'TIA': '0.2251998648800811',\n",
       "   'TIME': '0.0580888759802498',\n",
       "   'TJS': '10.6697029991181545',\n",
       "   'TMM': '17500',\n",
       "   'TMT': '3.5000000000000002',\n",
       "   'TND': '3.0521793574984692',\n",
       "   'TNSR': '3.3112582781456954',\n",
       "   'TONE': '2078.2188619977171284',\n",
       "   'TOP': '2.3407855',\n",
       "   'TRAC': '1.9310611180843874',\n",
       "   'TRB': '0.0171954260166796',\n",
       "   'TRIBE': '2.3834173030993365',\n",
       "   'TRU': '12.0048019207683073',\n",
       "   'TRY': '33.940573',\n",
       "   'TTD': '6.7851495',\n",
       "   'TVK': '9.7513408093612872',\n",
       "   'TWD': '32.0550006666666667',\n",
       "   'TZS': '2719.657723',\n",
       "   'UAH': '41.1946151097709526',\n",
       "   'UGX': '3721.9828976666666667',\n",
       "   'UMA': '0.4804227720393947',\n",
       "   'UNFI': '0.4076160560455614',\n",
       "   'UNI': '0.1659337924168257',\n",
       "   'UPI': '5903.9210956399738202',\n",
       "   'USD': '1.0',\n",
       "   'USDC': '1',\n",
       "   'USDT': '1.0001250156269534',\n",
       "   'UST': '64.0738731771554244',\n",
       "   'UYU': '40.3661184800662932',\n",
       "   'UZS': '12639.3363706717412413',\n",
       "   'VARA': '42.9922613929492691',\n",
       "   'VEF': '3659330',\n",
       "   'VELO': '13.4381509104347242',\n",
       "   'VES': '36.5975358380930378',\n",
       "   'VET': '47.2143531633616619',\n",
       "   'VGX': '55.5227837975688709',\n",
       "   'VND': '24876.25',\n",
       "   'VOXEL': '6.2558648733187363',\n",
       "   'VTHO': '539.0835579514824798',\n",
       "   'VUV': '115.863807609698652',\n",
       "   'WAMPL': '0.0959969474017097',\n",
       "   'WAXL': '1.9436345966958212',\n",
       "   'WBTC': '0.0000171811829622',\n",
       "   'WCFG': '2.7739251040221914',\n",
       "   'WLUNA': '13473.2714909414755406',\n",
       "   'WST': '2.7572985634205243',\n",
       "   'XAF': '595.332884',\n",
       "   'XAG': '0.0350437849046051',\n",
       "   'XAU': '0.0003999759897594',\n",
       "   'XCD': '2.7012743982008496',\n",
       "   'XCN': '778.2101167315175097',\n",
       "   'XDR': '0.742585',\n",
       "   'XLM': '10.9034607584447304',\n",
       "   'XMON': '0.0024872098607478',\n",
       "   'XOF': '592.2562173333333333',\n",
       "   'XPD': '0.00103684',\n",
       "   'XPF': '107.8595355',\n",
       "   'XPT': '0.001084605',\n",
       "   'XRP': '1.799370220422852',\n",
       "   'XTZ': '1.5515903801396431',\n",
       "   'XYO': '211.8644067796610169',\n",
       "   'YER': '250.2916517210195502',\n",
       "   'YFI': '0.0001971680749396',\n",
       "   'YFII': '0.0024191351165294',\n",
       "   'ZAR': '17.844427',\n",
       "   'ZEC': '0.0349040139616056',\n",
       "   'ZEN': '0.1375515818431912',\n",
       "   'ZETA': '2.2070183182520415',\n",
       "   'ZMK': '5223.6164938177162704',\n",
       "   'ZMW': '26.201409',\n",
       "   'ZRX': '3.4875042721927334',\n",
       "   'ZWD': '377.4'}}}"
      ]
     },
     "execution_count": 15,
     "metadata": {},
     "output_type": "execute_result"
    }
   ],
   "source": [
    "data.json()"
   ]
  },
  {
   "cell_type": "code",
   "execution_count": 16,
   "id": "081720db",
   "metadata": {},
   "outputs": [
    {
     "data": {
      "text/plain": [
       "'119.4934685'"
      ]
     },
     "execution_count": 16,
     "metadata": {},
     "output_type": "execute_result"
    }
   ],
   "source": [
    "data.json()['data']['rates']['BDT']"
   ]
  },
  {
   "cell_type": "code",
   "execution_count": 22,
   "id": "bb21b145",
   "metadata": {},
   "outputs": [],
   "source": [
    "base_url = 'https://api.coinbase.com/v2/exchange-rates'"
   ]
  },
  {
   "cell_type": "code",
   "execution_count": 29,
   "id": "0f0ea0b7",
   "metadata": {},
   "outputs": [],
   "source": [
    "params = {'currency': 'USD'}"
   ]
  },
  {
   "cell_type": "code",
   "execution_count": 30,
   "id": "12ffb16a",
   "metadata": {},
   "outputs": [],
   "source": [
    "data_param = requests.get(base_url, params=params)"
   ]
  },
  {
   "cell_type": "code",
   "execution_count": 31,
   "id": "9c98aaaa",
   "metadata": {},
   "outputs": [
    {
     "data": {
      "text/plain": [
       "'119.4934685'"
      ]
     },
     "execution_count": 31,
     "metadata": {},
     "output_type": "execute_result"
    }
   ],
   "source": [
    "data_param.json()['data']['rates']['BDT']"
   ]
  },
  {
   "cell_type": "code",
   "execution_count": 32,
   "id": "60fad60f",
   "metadata": {},
   "outputs": [
    {
     "data": {
      "text/plain": [
       "{'User-Agent': 'python-requests/2.32.2', 'Accept-Encoding': 'gzip, deflate', 'Accept': '*/*', 'Connection': 'keep-alive'}"
      ]
     },
     "execution_count": 32,
     "metadata": {},
     "output_type": "execute_result"
    }
   ],
   "source": [
    "data_param.request.headers"
   ]
  },
  {
   "cell_type": "markdown",
   "id": "c24f8414",
   "metadata": {},
   "source": [
    "## user agent"
   ]
  },
  {
   "cell_type": "code",
   "execution_count": 33,
   "id": "54bdf9a9",
   "metadata": {},
   "outputs": [],
   "source": [
    "url = 'https://api.sunrisesunset.io/json'"
   ]
  },
  {
   "cell_type": "code",
   "execution_count": 39,
   "id": "38889ec4",
   "metadata": {},
   "outputs": [],
   "source": [
    "params = {\n",
    "    'lat':23.6850,\n",
    "    'lng': 90.3563,\n",
    "    'timezone': 'GMT+6',\n",
    "    'date': 'today'\n",
    "}"
   ]
  },
  {
   "cell_type": "code",
   "execution_count": 40,
   "id": "b6ee7397",
   "metadata": {},
   "outputs": [],
   "source": [
    "timezone = requests.get(url, params=params)"
   ]
  },
  {
   "cell_type": "code",
   "execution_count": 41,
   "id": "208efa5c",
   "metadata": {},
   "outputs": [
    {
     "data": {
      "text/plain": [
       "<Response [200]>"
      ]
     },
     "execution_count": 41,
     "metadata": {},
     "output_type": "execute_result"
    }
   ],
   "source": [
    "timezone"
   ]
  },
  {
   "cell_type": "code",
   "execution_count": 42,
   "id": "ed0d4fa2",
   "metadata": {},
   "outputs": [
    {
     "data": {
      "text/plain": [
       "{'User-Agent': 'python-requests/2.32.2', 'Accept-Encoding': 'gzip, deflate', 'Accept': '*/*', 'Connection': 'keep-alive'}"
      ]
     },
     "execution_count": 42,
     "metadata": {},
     "output_type": "execute_result"
    }
   ],
   "source": [
    "timezone.request.headers"
   ]
  },
  {
   "cell_type": "code",
   "execution_count": 43,
   "id": "424afcc0",
   "metadata": {},
   "outputs": [
    {
     "data": {
      "text/plain": [
       "'https://api.sunrisesunset.io/json?lat=23.685&lng=90.3563&timezone=GMT%2B6&date=today'"
      ]
     },
     "execution_count": 43,
     "metadata": {},
     "output_type": "execute_result"
    }
   ],
   "source": [
    "timezone.request.url"
   ]
  },
  {
   "cell_type": "code",
   "execution_count": 45,
   "id": "cdaf7745",
   "metadata": {},
   "outputs": [],
   "source": [
    "headers = {\n",
    "    \"user_agent\": 'Mozilla/5.0 (Windows NT 10.0; Win64; x64) AppleWebKit/537.36 (KHTML, like Gecko) Chrome/128.0.0.0 Safari/537.36 Edg/128.0.0.0'\n",
    "    }"
   ]
  },
  {
   "cell_type": "code",
   "execution_count": 46,
   "id": "6458cba6",
   "metadata": {},
   "outputs": [],
   "source": [
    "timezone_new = requests.get(url, params=params, headers=headers)"
   ]
  },
  {
   "cell_type": "code",
   "execution_count": 47,
   "id": "b0d02c7c",
   "metadata": {},
   "outputs": [
    {
     "data": {
      "text/plain": [
       "<Response [200]>"
      ]
     },
     "execution_count": 47,
     "metadata": {},
     "output_type": "execute_result"
    }
   ],
   "source": [
    "timezone_new"
   ]
  },
  {
   "cell_type": "code",
   "execution_count": 48,
   "id": "43954d1f",
   "metadata": {},
   "outputs": [
    {
     "data": {
      "text/plain": [
       "200"
      ]
     },
     "execution_count": 48,
     "metadata": {},
     "output_type": "execute_result"
    }
   ],
   "source": [
    "timezone_new.status_code"
   ]
  },
  {
   "cell_type": "code",
   "execution_count": 49,
   "id": "fa7d4f02",
   "metadata": {},
   "outputs": [
    {
     "data": {
      "text/plain": [
       "{'results': {'date': '2024-09-02',\n",
       "  'sunrise': '5:42:11 PM',\n",
       "  'sunset': '6:17:23 AM',\n",
       "  'first_light': '4:25:08 PM',\n",
       "  'last_light': '7:34:26 AM',\n",
       "  'dawn': '5:19:15 PM',\n",
       "  'dusk': '6:40:18 AM',\n",
       "  'solar_noon': '11:59:47 PM',\n",
       "  'golden_hour': '5:47:16 AM',\n",
       "  'day_length': '12:35:11',\n",
       "  'timezone': 'Etc/GMT+6',\n",
       "  'utc_offset': -360},\n",
       " 'status': 'OK'}"
      ]
     },
     "execution_count": 49,
     "metadata": {},
     "output_type": "execute_result"
    }
   ],
   "source": [
    "timezone_new.json()"
   ]
  },
  {
   "cell_type": "code",
   "execution_count": null,
   "id": "1073bbe4",
   "metadata": {},
   "outputs": [],
   "source": []
  }
 ],
 "metadata": {
  "kernelspec": {
   "display_name": "Python 3 (ipykernel)",
   "language": "python",
   "name": "python3"
  },
  "language_info": {
   "codemirror_mode": {
    "name": "ipython",
    "version": 3
   },
   "file_extension": ".py",
   "mimetype": "text/x-python",
   "name": "python",
   "nbconvert_exporter": "python",
   "pygments_lexer": "ipython3",
   "version": "3.12.3"
  }
 },
 "nbformat": 4,
 "nbformat_minor": 5
}
