{
 "cells": [
  {
   "cell_type": "code",
   "execution_count": 1,
   "id": "37df7ddf-4b47-413d-8062-a247ca80411f",
   "metadata": {},
   "outputs": [],
   "source": [
    "import requests"
   ]
  },
  {
   "cell_type": "code",
   "execution_count": 2,
   "id": "831599db-6ef0-480e-a5dc-beaba45f04d2",
   "metadata": {},
   "outputs": [],
   "source": [
    "url = \"https://quotes.toscrape.com/\""
   ]
  },
  {
   "cell_type": "code",
   "execution_count": 3,
   "id": "598d5046-b242-47f3-86bc-c2c65d19050a",
   "metadata": {},
   "outputs": [],
   "source": [
    "response = requests.get(url)"
   ]
  },
  {
   "cell_type": "code",
   "execution_count": 4,
   "id": "a9e404a8-4e1f-4682-b5ed-f5d6c6482de3",
   "metadata": {},
   "outputs": [
    {
     "data": {
      "text/plain": [
       "<Response [200]>"
      ]
     },
     "execution_count": 4,
     "metadata": {},
     "output_type": "execute_result"
    }
   ],
   "source": [
    "response"
   ]
  },
  {
   "cell_type": "markdown",
   "id": "d3108d6c-b959-4771-9ec6-49eaad6150e5",
   "metadata": {},
   "source": [
    "#### status code <Response [200]> successful"
   ]
  },
  {
   "cell_type": "code",
   "execution_count": 5,
   "id": "0c9e382b-c728-4c57-a132-9ba9683d28c0",
   "metadata": {},
   "outputs": [
    {
     "data": {
      "text/plain": [
       "200"
      ]
     },
     "execution_count": 5,
     "metadata": {},
     "output_type": "execute_result"
    }
   ],
   "source": [
    "response.status_code"
   ]
  },
  {
   "cell_type": "code",
   "execution_count": 6,
   "id": "cf7890c2-9e2c-407d-9311-09a05452c4f8",
   "metadata": {
    "collapsed": true,
    "jupyter": {
     "outputs_hidden": true
    }
   },
   "outputs": [
    {
     "data": {
      "text/plain": [
       "b'<!DOCTYPE html>\\n<html lang=\"en\">\\n<head>\\n\\t<meta charset=\"UTF-8\">\\n\\t<title>Quotes to Scrape</title>\\n    <link rel=\"stylesheet\" href=\"/static/bootstrap.min.css\">\\n    <link rel=\"stylesheet\" href=\"/static/main.css\">\\n</head>\\n<body>\\n    <div class=\"container\">\\n        <div class=\"row header-box\">\\n            <div class=\"col-md-8\">\\n                <h1>\\n                    <a href=\"/\" style=\"text-decoration: none\">Quotes to Scrape</a>\\n                </h1>\\n            </div>\\n            <div class=\"col-md-4\">\\n                <p>\\n                \\n                    <a href=\"/login\">Login</a>\\n                \\n                </p>\\n            </div>\\n        </div>\\n    \\n\\n<div class=\"row\">\\n    <div class=\"col-md-8\">\\n\\n    <div class=\"quote\" itemscope itemtype=\"http://schema.org/CreativeWork\">\\n        <span class=\"text\" itemprop=\"text\">\\xe2\\x80\\x9cThe world as we have created it is a process of our thinking. It cannot be changed without changing our thinking.\\xe2\\x80\\x9d</span>\\n        <span>by <small class=\"author\" itemprop=\"author\">Albert Einstein</small>\\n        <a href=\"/author/Albert-Einstein\">(about)</a>\\n        </span>\\n        <div class=\"tags\">\\n            Tags:\\n            <meta class=\"keywords\" itemprop=\"keywords\" content=\"change,deep-thoughts,thinking,world\" /    > \\n            \\n            <a class=\"tag\" href=\"/tag/change/page/1/\">change</a>\\n            \\n            <a class=\"tag\" href=\"/tag/deep-thoughts/page/1/\">deep-thoughts</a>\\n            \\n            <a class=\"tag\" href=\"/tag/thinking/page/1/\">thinking</a>\\n            \\n            <a class=\"tag\" href=\"/tag/world/page/1/\">world</a>\\n            \\n        </div>\\n    </div>\\n\\n    <div class=\"quote\" itemscope itemtype=\"http://schema.org/CreativeWork\">\\n        <span class=\"text\" itemprop=\"text\">\\xe2\\x80\\x9cIt is our choices, Harry, that show what we truly are, far more than our abilities.\\xe2\\x80\\x9d</span>\\n        <span>by <small class=\"author\" itemprop=\"author\">J.K. Rowling</small>\\n        <a href=\"/author/J-K-Rowling\">(about)</a>\\n        </span>\\n        <div class=\"tags\">\\n            Tags:\\n            <meta class=\"keywords\" itemprop=\"keywords\" content=\"abilities,choices\" /    > \\n            \\n            <a class=\"tag\" href=\"/tag/abilities/page/1/\">abilities</a>\\n            \\n            <a class=\"tag\" href=\"/tag/choices/page/1/\">choices</a>\\n            \\n        </div>\\n    </div>\\n\\n    <div class=\"quote\" itemscope itemtype=\"http://schema.org/CreativeWork\">\\n        <span class=\"text\" itemprop=\"text\">\\xe2\\x80\\x9cThere are only two ways to live your life. One is as though nothing is a miracle. The other is as though everything is a miracle.\\xe2\\x80\\x9d</span>\\n        <span>by <small class=\"author\" itemprop=\"author\">Albert Einstein</small>\\n        <a href=\"/author/Albert-Einstein\">(about)</a>\\n        </span>\\n        <div class=\"tags\">\\n            Tags:\\n            <meta class=\"keywords\" itemprop=\"keywords\" content=\"inspirational,life,live,miracle,miracles\" /    > \\n            \\n            <a class=\"tag\" href=\"/tag/inspirational/page/1/\">inspirational</a>\\n            \\n            <a class=\"tag\" href=\"/tag/life/page/1/\">life</a>\\n            \\n            <a class=\"tag\" href=\"/tag/live/page/1/\">live</a>\\n            \\n            <a class=\"tag\" href=\"/tag/miracle/page/1/\">miracle</a>\\n            \\n            <a class=\"tag\" href=\"/tag/miracles/page/1/\">miracles</a>\\n            \\n        </div>\\n    </div>\\n\\n    <div class=\"quote\" itemscope itemtype=\"http://schema.org/CreativeWork\">\\n        <span class=\"text\" itemprop=\"text\">\\xe2\\x80\\x9cThe person, be it gentleman or lady, who has not pleasure in a good novel, must be intolerably stupid.\\xe2\\x80\\x9d</span>\\n        <span>by <small class=\"author\" itemprop=\"author\">Jane Austen</small>\\n        <a href=\"/author/Jane-Austen\">(about)</a>\\n        </span>\\n        <div class=\"tags\">\\n            Tags:\\n            <meta class=\"keywords\" itemprop=\"keywords\" content=\"aliteracy,books,classic,humor\" /    > \\n            \\n            <a class=\"tag\" href=\"/tag/aliteracy/page/1/\">aliteracy</a>\\n            \\n            <a class=\"tag\" href=\"/tag/books/page/1/\">books</a>\\n            \\n            <a class=\"tag\" href=\"/tag/classic/page/1/\">classic</a>\\n            \\n            <a class=\"tag\" href=\"/tag/humor/page/1/\">humor</a>\\n            \\n        </div>\\n    </div>\\n\\n    <div class=\"quote\" itemscope itemtype=\"http://schema.org/CreativeWork\">\\n        <span class=\"text\" itemprop=\"text\">\\xe2\\x80\\x9cImperfection is beauty, madness is genius and it&#39;s better to be absolutely ridiculous than absolutely boring.\\xe2\\x80\\x9d</span>\\n        <span>by <small class=\"author\" itemprop=\"author\">Marilyn Monroe</small>\\n        <a href=\"/author/Marilyn-Monroe\">(about)</a>\\n        </span>\\n        <div class=\"tags\">\\n            Tags:\\n            <meta class=\"keywords\" itemprop=\"keywords\" content=\"be-yourself,inspirational\" /    > \\n            \\n            <a class=\"tag\" href=\"/tag/be-yourself/page/1/\">be-yourself</a>\\n            \\n            <a class=\"tag\" href=\"/tag/inspirational/page/1/\">inspirational</a>\\n            \\n        </div>\\n    </div>\\n\\n    <div class=\"quote\" itemscope itemtype=\"http://schema.org/CreativeWork\">\\n        <span class=\"text\" itemprop=\"text\">\\xe2\\x80\\x9cTry not to become a man of success. Rather become a man of value.\\xe2\\x80\\x9d</span>\\n        <span>by <small class=\"author\" itemprop=\"author\">Albert Einstein</small>\\n        <a href=\"/author/Albert-Einstein\">(about)</a>\\n        </span>\\n        <div class=\"tags\">\\n            Tags:\\n            <meta class=\"keywords\" itemprop=\"keywords\" content=\"adulthood,success,value\" /    > \\n            \\n            <a class=\"tag\" href=\"/tag/adulthood/page/1/\">adulthood</a>\\n            \\n            <a class=\"tag\" href=\"/tag/success/page/1/\">success</a>\\n            \\n            <a class=\"tag\" href=\"/tag/value/page/1/\">value</a>\\n            \\n        </div>\\n    </div>\\n\\n    <div class=\"quote\" itemscope itemtype=\"http://schema.org/CreativeWork\">\\n        <span class=\"text\" itemprop=\"text\">\\xe2\\x80\\x9cIt is better to be hated for what you are than to be loved for what you are not.\\xe2\\x80\\x9d</span>\\n        <span>by <small class=\"author\" itemprop=\"author\">Andr\\xc3\\xa9 Gide</small>\\n        <a href=\"/author/Andre-Gide\">(about)</a>\\n        </span>\\n        <div class=\"tags\">\\n            Tags:\\n            <meta class=\"keywords\" itemprop=\"keywords\" content=\"life,love\" /    > \\n            \\n            <a class=\"tag\" href=\"/tag/life/page/1/\">life</a>\\n            \\n            <a class=\"tag\" href=\"/tag/love/page/1/\">love</a>\\n            \\n        </div>\\n    </div>\\n\\n    <div class=\"quote\" itemscope itemtype=\"http://schema.org/CreativeWork\">\\n        <span class=\"text\" itemprop=\"text\">\\xe2\\x80\\x9cI have not failed. I&#39;ve just found 10,000 ways that won&#39;t work.\\xe2\\x80\\x9d</span>\\n        <span>by <small class=\"author\" itemprop=\"author\">Thomas A. Edison</small>\\n        <a href=\"/author/Thomas-A-Edison\">(about)</a>\\n        </span>\\n        <div class=\"tags\">\\n            Tags:\\n            <meta class=\"keywords\" itemprop=\"keywords\" content=\"edison,failure,inspirational,paraphrased\" /    > \\n            \\n            <a class=\"tag\" href=\"/tag/edison/page/1/\">edison</a>\\n            \\n            <a class=\"tag\" href=\"/tag/failure/page/1/\">failure</a>\\n            \\n            <a class=\"tag\" href=\"/tag/inspirational/page/1/\">inspirational</a>\\n            \\n            <a class=\"tag\" href=\"/tag/paraphrased/page/1/\">paraphrased</a>\\n            \\n        </div>\\n    </div>\\n\\n    <div class=\"quote\" itemscope itemtype=\"http://schema.org/CreativeWork\">\\n        <span class=\"text\" itemprop=\"text\">\\xe2\\x80\\x9cA woman is like a tea bag; you never know how strong it is until it&#39;s in hot water.\\xe2\\x80\\x9d</span>\\n        <span>by <small class=\"author\" itemprop=\"author\">Eleanor Roosevelt</small>\\n        <a href=\"/author/Eleanor-Roosevelt\">(about)</a>\\n        </span>\\n        <div class=\"tags\">\\n            Tags:\\n            <meta class=\"keywords\" itemprop=\"keywords\" content=\"misattributed-eleanor-roosevelt\" /    > \\n            \\n            <a class=\"tag\" href=\"/tag/misattributed-eleanor-roosevelt/page/1/\">misattributed-eleanor-roosevelt</a>\\n            \\n        </div>\\n    </div>\\n\\n    <div class=\"quote\" itemscope itemtype=\"http://schema.org/CreativeWork\">\\n        <span class=\"text\" itemprop=\"text\">\\xe2\\x80\\x9cA day without sunshine is like, you know, night.\\xe2\\x80\\x9d</span>\\n        <span>by <small class=\"author\" itemprop=\"author\">Steve Martin</small>\\n        <a href=\"/author/Steve-Martin\">(about)</a>\\n        </span>\\n        <div class=\"tags\">\\n            Tags:\\n            <meta class=\"keywords\" itemprop=\"keywords\" content=\"humor,obvious,simile\" /    > \\n            \\n            <a class=\"tag\" href=\"/tag/humor/page/1/\">humor</a>\\n            \\n            <a class=\"tag\" href=\"/tag/obvious/page/1/\">obvious</a>\\n            \\n            <a class=\"tag\" href=\"/tag/simile/page/1/\">simile</a>\\n            \\n        </div>\\n    </div>\\n\\n    <nav>\\n        <ul class=\"pager\">\\n            \\n            \\n            <li class=\"next\">\\n                <a href=\"/page/2/\">Next <span aria-hidden=\"true\">&rarr;</span></a>\\n            </li>\\n            \\n        </ul>\\n    </nav>\\n    </div>\\n    <div class=\"col-md-4 tags-box\">\\n        \\n            <h2>Top Ten tags</h2>\\n            \\n            <span class=\"tag-item\">\\n            <a class=\"tag\" style=\"font-size: 28px\" href=\"/tag/love/\">love</a>\\n            </span>\\n            \\n            <span class=\"tag-item\">\\n            <a class=\"tag\" style=\"font-size: 26px\" href=\"/tag/inspirational/\">inspirational</a>\\n            </span>\\n            \\n            <span class=\"tag-item\">\\n            <a class=\"tag\" style=\"font-size: 26px\" href=\"/tag/life/\">life</a>\\n            </span>\\n            \\n            <span class=\"tag-item\">\\n            <a class=\"tag\" style=\"font-size: 24px\" href=\"/tag/humor/\">humor</a>\\n            </span>\\n            \\n            <span class=\"tag-item\">\\n            <a class=\"tag\" style=\"font-size: 22px\" href=\"/tag/books/\">books</a>\\n            </span>\\n            \\n            <span class=\"tag-item\">\\n            <a class=\"tag\" style=\"font-size: 14px\" href=\"/tag/reading/\">reading</a>\\n            </span>\\n            \\n            <span class=\"tag-item\">\\n            <a class=\"tag\" style=\"font-size: 10px\" href=\"/tag/friendship/\">friendship</a>\\n            </span>\\n            \\n            <span class=\"tag-item\">\\n            <a class=\"tag\" style=\"font-size: 8px\" href=\"/tag/friends/\">friends</a>\\n            </span>\\n            \\n            <span class=\"tag-item\">\\n            <a class=\"tag\" style=\"font-size: 8px\" href=\"/tag/truth/\">truth</a>\\n            </span>\\n            \\n            <span class=\"tag-item\">\\n            <a class=\"tag\" style=\"font-size: 6px\" href=\"/tag/simile/\">simile</a>\\n            </span>\\n            \\n        \\n    </div>\\n</div>\\n\\n    </div>\\n    <footer class=\"footer\">\\n        <div class=\"container\">\\n            <p class=\"text-muted\">\\n                Quotes by: <a href=\"https://www.goodreads.com/quotes\">GoodReads.com</a>\\n            </p>\\n            <p class=\"copyright\">\\n                Made with <span class=\\'zyte\\'>\\xe2\\x9d\\xa4</span> by <a class=\\'zyte\\' href=\"https://www.zyte.com\">Zyte</a>\\n            </p>\\n        </div>\\n    </footer>\\n</body>\\n</html>'"
      ]
     },
     "execution_count": 6,
     "metadata": {},
     "output_type": "execute_result"
    }
   ],
   "source": [
    "response.content"
   ]
  },
  {
   "cell_type": "code",
   "execution_count": 7,
   "id": "fb769cc5-f17e-4e97-b10b-5ce933c0a424",
   "metadata": {
    "collapsed": true,
    "jupyter": {
     "outputs_hidden": true
    }
   },
   "outputs": [
    {
     "name": "stdout",
     "output_type": "stream",
     "text": [
      "<!DOCTYPE html>\n",
      "<html lang=\"en\">\n",
      "<head>\n",
      "\t<meta charset=\"UTF-8\">\n",
      "\t<title>Quotes to Scrape</title>\n",
      "    <link rel=\"stylesheet\" href=\"/static/bootstrap.min.css\">\n",
      "    <link rel=\"stylesheet\" href=\"/static/main.css\">\n",
      "</head>\n",
      "<body>\n",
      "    <div class=\"container\">\n",
      "        <div class=\"row header-box\">\n",
      "            <div class=\"col-md-8\">\n",
      "                <h1>\n",
      "                    <a href=\"/\" style=\"text-decoration: none\">Quotes to Scrape</a>\n",
      "                </h1>\n",
      "            </div>\n",
      "            <div class=\"col-md-4\">\n",
      "                <p>\n",
      "                \n",
      "                    <a href=\"/login\">Login</a>\n",
      "                \n",
      "                </p>\n",
      "            </div>\n",
      "        </div>\n",
      "    \n",
      "\n",
      "<div class=\"row\">\n",
      "    <div class=\"col-md-8\">\n",
      "\n",
      "    <div class=\"quote\" itemscope itemtype=\"http://schema.org/CreativeWork\">\n",
      "        <span class=\"text\" itemprop=\"text\">“The world as we have created it is a process of our thinking. It cannot be changed without changing our thinking.”</span>\n",
      "        <span>by <small class=\"author\" itemprop=\"author\">Albert Einstein</small>\n",
      "        <a href=\"/author/Albert-Einstein\">(about)</a>\n",
      "        </span>\n",
      "        <div class=\"tags\">\n",
      "            Tags:\n",
      "            <meta class=\"keywords\" itemprop=\"keywords\" content=\"change,deep-thoughts,thinking,world\" /    > \n",
      "            \n",
      "            <a class=\"tag\" href=\"/tag/change/page/1/\">change</a>\n",
      "            \n",
      "            <a class=\"tag\" href=\"/tag/deep-thoughts/page/1/\">deep-thoughts</a>\n",
      "            \n",
      "            <a class=\"tag\" href=\"/tag/thinking/page/1/\">thinking</a>\n",
      "            \n",
      "            <a class=\"tag\" href=\"/tag/world/page/1/\">world</a>\n",
      "            \n",
      "        </div>\n",
      "    </div>\n",
      "\n",
      "    <div class=\"quote\" itemscope itemtype=\"http://schema.org/CreativeWork\">\n",
      "        <span class=\"text\" itemprop=\"text\">“It is our choices, Harry, that show what we truly are, far more than our abilities.”</span>\n",
      "        <span>by <small class=\"author\" itemprop=\"author\">J.K. Rowling</small>\n",
      "        <a href=\"/author/J-K-Rowling\">(about)</a>\n",
      "        </span>\n",
      "        <div class=\"tags\">\n",
      "            Tags:\n",
      "            <meta class=\"keywords\" itemprop=\"keywords\" content=\"abilities,choices\" /    > \n",
      "            \n",
      "            <a class=\"tag\" href=\"/tag/abilities/page/1/\">abilities</a>\n",
      "            \n",
      "            <a class=\"tag\" href=\"/tag/choices/page/1/\">choices</a>\n",
      "            \n",
      "        </div>\n",
      "    </div>\n",
      "\n",
      "    <div class=\"quote\" itemscope itemtype=\"http://schema.org/CreativeWork\">\n",
      "        <span class=\"text\" itemprop=\"text\">“There are only two ways to live your life. One is as though nothing is a miracle. The other is as though everything is a miracle.”</span>\n",
      "        <span>by <small class=\"author\" itemprop=\"author\">Albert Einstein</small>\n",
      "        <a href=\"/author/Albert-Einstein\">(about)</a>\n",
      "        </span>\n",
      "        <div class=\"tags\">\n",
      "            Tags:\n",
      "            <meta class=\"keywords\" itemprop=\"keywords\" content=\"inspirational,life,live,miracle,miracles\" /    > \n",
      "            \n",
      "            <a class=\"tag\" href=\"/tag/inspirational/page/1/\">inspirational</a>\n",
      "            \n",
      "            <a class=\"tag\" href=\"/tag/life/page/1/\">life</a>\n",
      "            \n",
      "            <a class=\"tag\" href=\"/tag/live/page/1/\">live</a>\n",
      "            \n",
      "            <a class=\"tag\" href=\"/tag/miracle/page/1/\">miracle</a>\n",
      "            \n",
      "            <a class=\"tag\" href=\"/tag/miracles/page/1/\">miracles</a>\n",
      "            \n",
      "        </div>\n",
      "    </div>\n",
      "\n",
      "    <div class=\"quote\" itemscope itemtype=\"http://schema.org/CreativeWork\">\n",
      "        <span class=\"text\" itemprop=\"text\">“The person, be it gentleman or lady, who has not pleasure in a good novel, must be intolerably stupid.”</span>\n",
      "        <span>by <small class=\"author\" itemprop=\"author\">Jane Austen</small>\n",
      "        <a href=\"/author/Jane-Austen\">(about)</a>\n",
      "        </span>\n",
      "        <div class=\"tags\">\n",
      "            Tags:\n",
      "            <meta class=\"keywords\" itemprop=\"keywords\" content=\"aliteracy,books,classic,humor\" /    > \n",
      "            \n",
      "            <a class=\"tag\" href=\"/tag/aliteracy/page/1/\">aliteracy</a>\n",
      "            \n",
      "            <a class=\"tag\" href=\"/tag/books/page/1/\">books</a>\n",
      "            \n",
      "            <a class=\"tag\" href=\"/tag/classic/page/1/\">classic</a>\n",
      "            \n",
      "            <a class=\"tag\" href=\"/tag/humor/page/1/\">humor</a>\n",
      "            \n",
      "        </div>\n",
      "    </div>\n",
      "\n",
      "    <div class=\"quote\" itemscope itemtype=\"http://schema.org/CreativeWork\">\n",
      "        <span class=\"text\" itemprop=\"text\">“Imperfection is beauty, madness is genius and it&#39;s better to be absolutely ridiculous than absolutely boring.”</span>\n",
      "        <span>by <small class=\"author\" itemprop=\"author\">Marilyn Monroe</small>\n",
      "        <a href=\"/author/Marilyn-Monroe\">(about)</a>\n",
      "        </span>\n",
      "        <div class=\"tags\">\n",
      "            Tags:\n",
      "            <meta class=\"keywords\" itemprop=\"keywords\" content=\"be-yourself,inspirational\" /    > \n",
      "            \n",
      "            <a class=\"tag\" href=\"/tag/be-yourself/page/1/\">be-yourself</a>\n",
      "            \n",
      "            <a class=\"tag\" href=\"/tag/inspirational/page/1/\">inspirational</a>\n",
      "            \n",
      "        </div>\n",
      "    </div>\n",
      "\n",
      "    <div class=\"quote\" itemscope itemtype=\"http://schema.org/CreativeWork\">\n",
      "        <span class=\"text\" itemprop=\"text\">“Try not to become a man of success. Rather become a man of value.”</span>\n",
      "        <span>by <small class=\"author\" itemprop=\"author\">Albert Einstein</small>\n",
      "        <a href=\"/author/Albert-Einstein\">(about)</a>\n",
      "        </span>\n",
      "        <div class=\"tags\">\n",
      "            Tags:\n",
      "            <meta class=\"keywords\" itemprop=\"keywords\" content=\"adulthood,success,value\" /    > \n",
      "            \n",
      "            <a class=\"tag\" href=\"/tag/adulthood/page/1/\">adulthood</a>\n",
      "            \n",
      "            <a class=\"tag\" href=\"/tag/success/page/1/\">success</a>\n",
      "            \n",
      "            <a class=\"tag\" href=\"/tag/value/page/1/\">value</a>\n",
      "            \n",
      "        </div>\n",
      "    </div>\n",
      "\n",
      "    <div class=\"quote\" itemscope itemtype=\"http://schema.org/CreativeWork\">\n",
      "        <span class=\"text\" itemprop=\"text\">“It is better to be hated for what you are than to be loved for what you are not.”</span>\n",
      "        <span>by <small class=\"author\" itemprop=\"author\">André Gide</small>\n",
      "        <a href=\"/author/Andre-Gide\">(about)</a>\n",
      "        </span>\n",
      "        <div class=\"tags\">\n",
      "            Tags:\n",
      "            <meta class=\"keywords\" itemprop=\"keywords\" content=\"life,love\" /    > \n",
      "            \n",
      "            <a class=\"tag\" href=\"/tag/life/page/1/\">life</a>\n",
      "            \n",
      "            <a class=\"tag\" href=\"/tag/love/page/1/\">love</a>\n",
      "            \n",
      "        </div>\n",
      "    </div>\n",
      "\n",
      "    <div class=\"quote\" itemscope itemtype=\"http://schema.org/CreativeWork\">\n",
      "        <span class=\"text\" itemprop=\"text\">“I have not failed. I&#39;ve just found 10,000 ways that won&#39;t work.”</span>\n",
      "        <span>by <small class=\"author\" itemprop=\"author\">Thomas A. Edison</small>\n",
      "        <a href=\"/author/Thomas-A-Edison\">(about)</a>\n",
      "        </span>\n",
      "        <div class=\"tags\">\n",
      "            Tags:\n",
      "            <meta class=\"keywords\" itemprop=\"keywords\" content=\"edison,failure,inspirational,paraphrased\" /    > \n",
      "            \n",
      "            <a class=\"tag\" href=\"/tag/edison/page/1/\">edison</a>\n",
      "            \n",
      "            <a class=\"tag\" href=\"/tag/failure/page/1/\">failure</a>\n",
      "            \n",
      "            <a class=\"tag\" href=\"/tag/inspirational/page/1/\">inspirational</a>\n",
      "            \n",
      "            <a class=\"tag\" href=\"/tag/paraphrased/page/1/\">paraphrased</a>\n",
      "            \n",
      "        </div>\n",
      "    </div>\n",
      "\n",
      "    <div class=\"quote\" itemscope itemtype=\"http://schema.org/CreativeWork\">\n",
      "        <span class=\"text\" itemprop=\"text\">“A woman is like a tea bag; you never know how strong it is until it&#39;s in hot water.”</span>\n",
      "        <span>by <small class=\"author\" itemprop=\"author\">Eleanor Roosevelt</small>\n",
      "        <a href=\"/author/Eleanor-Roosevelt\">(about)</a>\n",
      "        </span>\n",
      "        <div class=\"tags\">\n",
      "            Tags:\n",
      "            <meta class=\"keywords\" itemprop=\"keywords\" content=\"misattributed-eleanor-roosevelt\" /    > \n",
      "            \n",
      "            <a class=\"tag\" href=\"/tag/misattributed-eleanor-roosevelt/page/1/\">misattributed-eleanor-roosevelt</a>\n",
      "            \n",
      "        </div>\n",
      "    </div>\n",
      "\n",
      "    <div class=\"quote\" itemscope itemtype=\"http://schema.org/CreativeWork\">\n",
      "        <span class=\"text\" itemprop=\"text\">“A day without sunshine is like, you know, night.”</span>\n",
      "        <span>by <small class=\"author\" itemprop=\"author\">Steve Martin</small>\n",
      "        <a href=\"/author/Steve-Martin\">(about)</a>\n",
      "        </span>\n",
      "        <div class=\"tags\">\n",
      "            Tags:\n",
      "            <meta class=\"keywords\" itemprop=\"keywords\" content=\"humor,obvious,simile\" /    > \n",
      "            \n",
      "            <a class=\"tag\" href=\"/tag/humor/page/1/\">humor</a>\n",
      "            \n",
      "            <a class=\"tag\" href=\"/tag/obvious/page/1/\">obvious</a>\n",
      "            \n",
      "            <a class=\"tag\" href=\"/tag/simile/page/1/\">simile</a>\n",
      "            \n",
      "        </div>\n",
      "    </div>\n",
      "\n",
      "    <nav>\n",
      "        <ul class=\"pager\">\n",
      "            \n",
      "            \n",
      "            <li class=\"next\">\n",
      "                <a href=\"/page/2/\">Next <span aria-hidden=\"true\">&rarr;</span></a>\n",
      "            </li>\n",
      "            \n",
      "        </ul>\n",
      "    </nav>\n",
      "    </div>\n",
      "    <div class=\"col-md-4 tags-box\">\n",
      "        \n",
      "            <h2>Top Ten tags</h2>\n",
      "            \n",
      "            <span class=\"tag-item\">\n",
      "            <a class=\"tag\" style=\"font-size: 28px\" href=\"/tag/love/\">love</a>\n",
      "            </span>\n",
      "            \n",
      "            <span class=\"tag-item\">\n",
      "            <a class=\"tag\" style=\"font-size: 26px\" href=\"/tag/inspirational/\">inspirational</a>\n",
      "            </span>\n",
      "            \n",
      "            <span class=\"tag-item\">\n",
      "            <a class=\"tag\" style=\"font-size: 26px\" href=\"/tag/life/\">life</a>\n",
      "            </span>\n",
      "            \n",
      "            <span class=\"tag-item\">\n",
      "            <a class=\"tag\" style=\"font-size: 24px\" href=\"/tag/humor/\">humor</a>\n",
      "            </span>\n",
      "            \n",
      "            <span class=\"tag-item\">\n",
      "            <a class=\"tag\" style=\"font-size: 22px\" href=\"/tag/books/\">books</a>\n",
      "            </span>\n",
      "            \n",
      "            <span class=\"tag-item\">\n",
      "            <a class=\"tag\" style=\"font-size: 14px\" href=\"/tag/reading/\">reading</a>\n",
      "            </span>\n",
      "            \n",
      "            <span class=\"tag-item\">\n",
      "            <a class=\"tag\" style=\"font-size: 10px\" href=\"/tag/friendship/\">friendship</a>\n",
      "            </span>\n",
      "            \n",
      "            <span class=\"tag-item\">\n",
      "            <a class=\"tag\" style=\"font-size: 8px\" href=\"/tag/friends/\">friends</a>\n",
      "            </span>\n",
      "            \n",
      "            <span class=\"tag-item\">\n",
      "            <a class=\"tag\" style=\"font-size: 8px\" href=\"/tag/truth/\">truth</a>\n",
      "            </span>\n",
      "            \n",
      "            <span class=\"tag-item\">\n",
      "            <a class=\"tag\" style=\"font-size: 6px\" href=\"/tag/simile/\">simile</a>\n",
      "            </span>\n",
      "            \n",
      "        \n",
      "    </div>\n",
      "</div>\n",
      "\n",
      "    </div>\n",
      "    <footer class=\"footer\">\n",
      "        <div class=\"container\">\n",
      "            <p class=\"text-muted\">\n",
      "                Quotes by: <a href=\"https://www.goodreads.com/quotes\">GoodReads.com</a>\n",
      "            </p>\n",
      "            <p class=\"copyright\">\n",
      "                Made with <span class='zyte'>❤</span> by <a class='zyte' href=\"https://www.zyte.com\">Zyte</a>\n",
      "            </p>\n",
      "        </div>\n",
      "    </footer>\n",
      "</body>\n",
      "</html>\n"
     ]
    }
   ],
   "source": [
    "print(response.content.decode('utf-8'))"
   ]
  },
  {
   "cell_type": "code",
   "execution_count": 8,
   "id": "b28b7d31-72a9-4344-9b11-e9f0d062f39e",
   "metadata": {
    "collapsed": true,
    "jupyter": {
     "outputs_hidden": true
    }
   },
   "outputs": [
    {
     "data": {
      "text/plain": [
       "'<!DOCTYPE html>\\n<html lang=\"en\">\\n<head>\\n\\t<meta charset=\"UTF-8\">\\n\\t<title>Quotes to Scrape</title>\\n    <link rel=\"stylesheet\" href=\"/static/bootstrap.min.css\">\\n    <link rel=\"stylesheet\" href=\"/static/main.css\">\\n</head>\\n<body>\\n    <div class=\"container\">\\n        <div class=\"row header-box\">\\n            <div class=\"col-md-8\">\\n                <h1>\\n                    <a href=\"/\" style=\"text-decoration: none\">Quotes to Scrape</a>\\n                </h1>\\n            </div>\\n            <div class=\"col-md-4\">\\n                <p>\\n                \\n                    <a href=\"/login\">Login</a>\\n                \\n                </p>\\n            </div>\\n        </div>\\n    \\n\\n<div class=\"row\">\\n    <div class=\"col-md-8\">\\n\\n    <div class=\"quote\" itemscope itemtype=\"http://schema.org/CreativeWork\">\\n        <span class=\"text\" itemprop=\"text\">“The world as we have created it is a process of our thinking. It cannot be changed without changing our thinking.”</span>\\n        <span>by <small class=\"author\" itemprop=\"author\">Albert Einstein</small>\\n        <a href=\"/author/Albert-Einstein\">(about)</a>\\n        </span>\\n        <div class=\"tags\">\\n            Tags:\\n            <meta class=\"keywords\" itemprop=\"keywords\" content=\"change,deep-thoughts,thinking,world\" /    > \\n            \\n            <a class=\"tag\" href=\"/tag/change/page/1/\">change</a>\\n            \\n            <a class=\"tag\" href=\"/tag/deep-thoughts/page/1/\">deep-thoughts</a>\\n            \\n            <a class=\"tag\" href=\"/tag/thinking/page/1/\">thinking</a>\\n            \\n            <a class=\"tag\" href=\"/tag/world/page/1/\">world</a>\\n            \\n        </div>\\n    </div>\\n\\n    <div class=\"quote\" itemscope itemtype=\"http://schema.org/CreativeWork\">\\n        <span class=\"text\" itemprop=\"text\">“It is our choices, Harry, that show what we truly are, far more than our abilities.”</span>\\n        <span>by <small class=\"author\" itemprop=\"author\">J.K. Rowling</small>\\n        <a href=\"/author/J-K-Rowling\">(about)</a>\\n        </span>\\n        <div class=\"tags\">\\n            Tags:\\n            <meta class=\"keywords\" itemprop=\"keywords\" content=\"abilities,choices\" /    > \\n            \\n            <a class=\"tag\" href=\"/tag/abilities/page/1/\">abilities</a>\\n            \\n            <a class=\"tag\" href=\"/tag/choices/page/1/\">choices</a>\\n            \\n        </div>\\n    </div>\\n\\n    <div class=\"quote\" itemscope itemtype=\"http://schema.org/CreativeWork\">\\n        <span class=\"text\" itemprop=\"text\">“There are only two ways to live your life. One is as though nothing is a miracle. The other is as though everything is a miracle.”</span>\\n        <span>by <small class=\"author\" itemprop=\"author\">Albert Einstein</small>\\n        <a href=\"/author/Albert-Einstein\">(about)</a>\\n        </span>\\n        <div class=\"tags\">\\n            Tags:\\n            <meta class=\"keywords\" itemprop=\"keywords\" content=\"inspirational,life,live,miracle,miracles\" /    > \\n            \\n            <a class=\"tag\" href=\"/tag/inspirational/page/1/\">inspirational</a>\\n            \\n            <a class=\"tag\" href=\"/tag/life/page/1/\">life</a>\\n            \\n            <a class=\"tag\" href=\"/tag/live/page/1/\">live</a>\\n            \\n            <a class=\"tag\" href=\"/tag/miracle/page/1/\">miracle</a>\\n            \\n            <a class=\"tag\" href=\"/tag/miracles/page/1/\">miracles</a>\\n            \\n        </div>\\n    </div>\\n\\n    <div class=\"quote\" itemscope itemtype=\"http://schema.org/CreativeWork\">\\n        <span class=\"text\" itemprop=\"text\">“The person, be it gentleman or lady, who has not pleasure in a good novel, must be intolerably stupid.”</span>\\n        <span>by <small class=\"author\" itemprop=\"author\">Jane Austen</small>\\n        <a href=\"/author/Jane-Austen\">(about)</a>\\n        </span>\\n        <div class=\"tags\">\\n            Tags:\\n            <meta class=\"keywords\" itemprop=\"keywords\" content=\"aliteracy,books,classic,humor\" /    > \\n            \\n            <a class=\"tag\" href=\"/tag/aliteracy/page/1/\">aliteracy</a>\\n            \\n            <a class=\"tag\" href=\"/tag/books/page/1/\">books</a>\\n            \\n            <a class=\"tag\" href=\"/tag/classic/page/1/\">classic</a>\\n            \\n            <a class=\"tag\" href=\"/tag/humor/page/1/\">humor</a>\\n            \\n        </div>\\n    </div>\\n\\n    <div class=\"quote\" itemscope itemtype=\"http://schema.org/CreativeWork\">\\n        <span class=\"text\" itemprop=\"text\">“Imperfection is beauty, madness is genius and it&#39;s better to be absolutely ridiculous than absolutely boring.”</span>\\n        <span>by <small class=\"author\" itemprop=\"author\">Marilyn Monroe</small>\\n        <a href=\"/author/Marilyn-Monroe\">(about)</a>\\n        </span>\\n        <div class=\"tags\">\\n            Tags:\\n            <meta class=\"keywords\" itemprop=\"keywords\" content=\"be-yourself,inspirational\" /    > \\n            \\n            <a class=\"tag\" href=\"/tag/be-yourself/page/1/\">be-yourself</a>\\n            \\n            <a class=\"tag\" href=\"/tag/inspirational/page/1/\">inspirational</a>\\n            \\n        </div>\\n    </div>\\n\\n    <div class=\"quote\" itemscope itemtype=\"http://schema.org/CreativeWork\">\\n        <span class=\"text\" itemprop=\"text\">“Try not to become a man of success. Rather become a man of value.”</span>\\n        <span>by <small class=\"author\" itemprop=\"author\">Albert Einstein</small>\\n        <a href=\"/author/Albert-Einstein\">(about)</a>\\n        </span>\\n        <div class=\"tags\">\\n            Tags:\\n            <meta class=\"keywords\" itemprop=\"keywords\" content=\"adulthood,success,value\" /    > \\n            \\n            <a class=\"tag\" href=\"/tag/adulthood/page/1/\">adulthood</a>\\n            \\n            <a class=\"tag\" href=\"/tag/success/page/1/\">success</a>\\n            \\n            <a class=\"tag\" href=\"/tag/value/page/1/\">value</a>\\n            \\n        </div>\\n    </div>\\n\\n    <div class=\"quote\" itemscope itemtype=\"http://schema.org/CreativeWork\">\\n        <span class=\"text\" itemprop=\"text\">“It is better to be hated for what you are than to be loved for what you are not.”</span>\\n        <span>by <small class=\"author\" itemprop=\"author\">André Gide</small>\\n        <a href=\"/author/Andre-Gide\">(about)</a>\\n        </span>\\n        <div class=\"tags\">\\n            Tags:\\n            <meta class=\"keywords\" itemprop=\"keywords\" content=\"life,love\" /    > \\n            \\n            <a class=\"tag\" href=\"/tag/life/page/1/\">life</a>\\n            \\n            <a class=\"tag\" href=\"/tag/love/page/1/\">love</a>\\n            \\n        </div>\\n    </div>\\n\\n    <div class=\"quote\" itemscope itemtype=\"http://schema.org/CreativeWork\">\\n        <span class=\"text\" itemprop=\"text\">“I have not failed. I&#39;ve just found 10,000 ways that won&#39;t work.”</span>\\n        <span>by <small class=\"author\" itemprop=\"author\">Thomas A. Edison</small>\\n        <a href=\"/author/Thomas-A-Edison\">(about)</a>\\n        </span>\\n        <div class=\"tags\">\\n            Tags:\\n            <meta class=\"keywords\" itemprop=\"keywords\" content=\"edison,failure,inspirational,paraphrased\" /    > \\n            \\n            <a class=\"tag\" href=\"/tag/edison/page/1/\">edison</a>\\n            \\n            <a class=\"tag\" href=\"/tag/failure/page/1/\">failure</a>\\n            \\n            <a class=\"tag\" href=\"/tag/inspirational/page/1/\">inspirational</a>\\n            \\n            <a class=\"tag\" href=\"/tag/paraphrased/page/1/\">paraphrased</a>\\n            \\n        </div>\\n    </div>\\n\\n    <div class=\"quote\" itemscope itemtype=\"http://schema.org/CreativeWork\">\\n        <span class=\"text\" itemprop=\"text\">“A woman is like a tea bag; you never know how strong it is until it&#39;s in hot water.”</span>\\n        <span>by <small class=\"author\" itemprop=\"author\">Eleanor Roosevelt</small>\\n        <a href=\"/author/Eleanor-Roosevelt\">(about)</a>\\n        </span>\\n        <div class=\"tags\">\\n            Tags:\\n            <meta class=\"keywords\" itemprop=\"keywords\" content=\"misattributed-eleanor-roosevelt\" /    > \\n            \\n            <a class=\"tag\" href=\"/tag/misattributed-eleanor-roosevelt/page/1/\">misattributed-eleanor-roosevelt</a>\\n            \\n        </div>\\n    </div>\\n\\n    <div class=\"quote\" itemscope itemtype=\"http://schema.org/CreativeWork\">\\n        <span class=\"text\" itemprop=\"text\">“A day without sunshine is like, you know, night.”</span>\\n        <span>by <small class=\"author\" itemprop=\"author\">Steve Martin</small>\\n        <a href=\"/author/Steve-Martin\">(about)</a>\\n        </span>\\n        <div class=\"tags\">\\n            Tags:\\n            <meta class=\"keywords\" itemprop=\"keywords\" content=\"humor,obvious,simile\" /    > \\n            \\n            <a class=\"tag\" href=\"/tag/humor/page/1/\">humor</a>\\n            \\n            <a class=\"tag\" href=\"/tag/obvious/page/1/\">obvious</a>\\n            \\n            <a class=\"tag\" href=\"/tag/simile/page/1/\">simile</a>\\n            \\n        </div>\\n    </div>\\n\\n    <nav>\\n        <ul class=\"pager\">\\n            \\n            \\n            <li class=\"next\">\\n                <a href=\"/page/2/\">Next <span aria-hidden=\"true\">&rarr;</span></a>\\n            </li>\\n            \\n        </ul>\\n    </nav>\\n    </div>\\n    <div class=\"col-md-4 tags-box\">\\n        \\n            <h2>Top Ten tags</h2>\\n            \\n            <span class=\"tag-item\">\\n            <a class=\"tag\" style=\"font-size: 28px\" href=\"/tag/love/\">love</a>\\n            </span>\\n            \\n            <span class=\"tag-item\">\\n            <a class=\"tag\" style=\"font-size: 26px\" href=\"/tag/inspirational/\">inspirational</a>\\n            </span>\\n            \\n            <span class=\"tag-item\">\\n            <a class=\"tag\" style=\"font-size: 26px\" href=\"/tag/life/\">life</a>\\n            </span>\\n            \\n            <span class=\"tag-item\">\\n            <a class=\"tag\" style=\"font-size: 24px\" href=\"/tag/humor/\">humor</a>\\n            </span>\\n            \\n            <span class=\"tag-item\">\\n            <a class=\"tag\" style=\"font-size: 22px\" href=\"/tag/books/\">books</a>\\n            </span>\\n            \\n            <span class=\"tag-item\">\\n            <a class=\"tag\" style=\"font-size: 14px\" href=\"/tag/reading/\">reading</a>\\n            </span>\\n            \\n            <span class=\"tag-item\">\\n            <a class=\"tag\" style=\"font-size: 10px\" href=\"/tag/friendship/\">friendship</a>\\n            </span>\\n            \\n            <span class=\"tag-item\">\\n            <a class=\"tag\" style=\"font-size: 8px\" href=\"/tag/friends/\">friends</a>\\n            </span>\\n            \\n            <span class=\"tag-item\">\\n            <a class=\"tag\" style=\"font-size: 8px\" href=\"/tag/truth/\">truth</a>\\n            </span>\\n            \\n            <span class=\"tag-item\">\\n            <a class=\"tag\" style=\"font-size: 6px\" href=\"/tag/simile/\">simile</a>\\n            </span>\\n            \\n        \\n    </div>\\n</div>\\n\\n    </div>\\n    <footer class=\"footer\">\\n        <div class=\"container\">\\n            <p class=\"text-muted\">\\n                Quotes by: <a href=\"https://www.goodreads.com/quotes\">GoodReads.com</a>\\n            </p>\\n            <p class=\"copyright\">\\n                Made with <span class=\\'zyte\\'>❤</span> by <a class=\\'zyte\\' href=\"https://www.zyte.com\">Zyte</a>\\n            </p>\\n        </div>\\n    </footer>\\n</body>\\n</html>'"
      ]
     },
     "execution_count": 8,
     "metadata": {},
     "output_type": "execute_result"
    }
   ],
   "source": [
    "response.text"
   ]
  },
  {
   "cell_type": "markdown",
   "id": "19b063e6-fe49-4a48-b10f-9d52330dd648",
   "metadata": {},
   "source": [
    "### Headers"
   ]
  },
  {
   "cell_type": "code",
   "execution_count": 9,
   "id": "5f40998d-d814-47a4-8c5c-61786a200592",
   "metadata": {
    "jupyter": {
     "source_hidden": true
    }
   },
   "outputs": [
    {
     "data": {
      "text/plain": [
       "{'Date': 'Mon, 02 Sep 2024 15:00:56 GMT', 'Content-Type': 'text/html; charset=utf-8', 'Content-Length': '11054', 'Connection': 'keep-alive', 'Strict-Transport-Security': 'max-age=0; includeSubDomains; preload'}"
      ]
     },
     "execution_count": 9,
     "metadata": {},
     "output_type": "execute_result"
    }
   ],
   "source": [
    "response.headers"
   ]
  },
  {
   "cell_type": "code",
   "execution_count": 10,
   "id": "0a07e6ce-1f38-4d9f-8112-ae8fff7a99dd",
   "metadata": {},
   "outputs": [
    {
     "data": {
      "text/plain": [
       "'text/html; charset=utf-8'"
      ]
     },
     "execution_count": 10,
     "metadata": {},
     "output_type": "execute_result"
    }
   ],
   "source": [
    "response.headers[\"Content-Type\"]"
   ]
  },
  {
   "cell_type": "code",
   "execution_count": 11,
   "id": "a435ba67-dc46-4af3-a7dd-56046281d69d",
   "metadata": {},
   "outputs": [],
   "source": [
    "response =  requests.get(url, headers={\"User-Agent\": \"\"})"
   ]
  },
  {
   "cell_type": "markdown",
   "id": "dc85022a",
   "metadata": {},
   "source": [
    "### Parameter"
   ]
  },
  {
   "cell_type": "markdown",
   "id": "6668d14e",
   "metadata": {},
   "source": [
    "#### books.com?author=JKRowling&title=HarryPotter&price=10"
   ]
  },
  {
   "cell_type": "code",
   "execution_count": 12,
   "id": "ace100d9",
   "metadata": {},
   "outputs": [],
   "source": [
    "url = 'https://api.coinbase.com/v2/exchange-rates?currancy=BTC'"
   ]
  },
  {
   "cell_type": "code",
   "execution_count": 13,
   "id": "df11aa57",
   "metadata": {},
   "outputs": [],
   "source": [
    "data = requests.get(url)"
   ]
  },
  {
   "cell_type": "code",
   "execution_count": 14,
   "id": "70a1df23",
   "metadata": {},
   "outputs": [
    {
     "data": {
      "text/plain": [
       "{'data': {'currency': 'USD',\n",
       "  'rates': {'00': '23.31002331002331',\n",
       "   '1INCH': '4.3010752688172043',\n",
       "   'AAVE': '0.0081135902636917',\n",
       "   'ABT': '0.530082162735224',\n",
       "   'ACH': '57.0988094898221372',\n",
       "   'ACS': '638.1417312785169586',\n",
       "   'ACX': '3.4867503486750349',\n",
       "   'ADA': '3.0048076923076923',\n",
       "   'AED': '3.6729116666379286',\n",
       "   'AERGO': '11.56737998843262',\n",
       "   'AERO': '1.7554330653372187',\n",
       "   'AFN': '70.4807323333333333',\n",
       "   'AGLD': '1.4066676044450696',\n",
       "   'AIOZ': '2.5220680958385876',\n",
       "   'AKT': '0.4177109440267335',\n",
       "   'ALCX': '0.0717617509867241',\n",
       "   'ALEPH': '6.9180214458664822',\n",
       "   'ALGO': '8.0710250201775626',\n",
       "   'ALICE': '1.0384215991692627',\n",
       "   'ALL': '90.1748093555192789',\n",
       "   'AMD': '387.64',\n",
       "   'AMP': '259.4033722438391699',\n",
       "   'ANG': '1.796069350645012',\n",
       "   'ANKR': '42.0698359276398822',\n",
       "   'ANT': '0.1580964033898393',\n",
       "   'AOA': '912.35',\n",
       "   'APE': '1.6863406408094435',\n",
       "   'API3': '0.7109847138286527',\n",
       "   'APT': '0.1594896331738437',\n",
       "   'ARB': '1.9451468585878234',\n",
       "   'ARKM': '0.9727626459143969',\n",
       "   'ARPA': '27.6625172890733057',\n",
       "   'ARS': '951.220255',\n",
       "   'ARSMEP': '1290.69',\n",
       "   'ASM': '54.9903766840802859',\n",
       "   'AST': '12.4455507156191661',\n",
       "   'ATA': '12.7247128583280593',\n",
       "   'ATOM': '0.2276867030965392',\n",
       "   'AUCTION': '0.0700770847932726',\n",
       "   'AUD': '1.4724286666666667',\n",
       "   'AUDIO': '7.6219512195121951',\n",
       "   'AURORA': '8.7336244541484716',\n",
       "   'AVAX': '0.0450755014649538',\n",
       "   'AVT': '0.5025125628140704',\n",
       "   'AWG': '1.7999999999999999',\n",
       "   'AXL': '1.9015021867275147',\n",
       "   'AXS': '0.2162162162162162',\n",
       "   'AZN': '1.6999999999999999',\n",
       "   'BADGER': '0.3766478342749529',\n",
       "   'BAL': '0.5305039787798408',\n",
       "   'BAM': '1.7670469780373697',\n",
       "   'BAND': '0.9523809523809524',\n",
       "   'BAT': '6.1300803040519831',\n",
       "   'BBD': '2',\n",
       "   'BCH': '0.0031106617932965',\n",
       "   'BDT': '119.4934685',\n",
       "   'BGN': '1.7666874850532423',\n",
       "   'BHD': '0.3767799999336483',\n",
       "   'BICO': '4.6253469010175763',\n",
       "   'BIF': '2891.713299',\n",
       "   'BIGTIME': '14.3564711793841074',\n",
       "   'BIT': '1.4226774790155072',\n",
       "   'BLAST': '108.4010840108401084',\n",
       "   'BLUR': '6.6006600660066007',\n",
       "   'BLZ': '8.4104289318755257',\n",
       "   'BMD': '1',\n",
       "   'BND': '1.306994',\n",
       "   'BNT': '2.0781379883624273',\n",
       "   'BOB': '6.9170876666666667',\n",
       "   'BOBA': '4.9261083743842365',\n",
       "   'BOND': '0.5019069481114204',\n",
       "   'BONK': '58428.2792871749926965',\n",
       "   'BRL': '5.6389665232229037',\n",
       "   'BSD': '1',\n",
       "   'BSV': '0.0239338812051872',\n",
       "   'BTC': '0.0000170770568034',\n",
       "   'BTN': '83.9252605',\n",
       "   'BTRST': '2.6350461133069829',\n",
       "   'BUSD': '0.9997594618413732',\n",
       "   'BWP': '13.3372617176836072',\n",
       "   'BYN': '3.272057',\n",
       "   'BYR': '32720.6000000014861697',\n",
       "   'BZD': '2.0180063074644365',\n",
       "   'C98': '9.0867787369377556',\n",
       "   'CAD': '1.3493703333333333',\n",
       "   'CBETH': '0.0003683343002109',\n",
       "   'CDF': '2845.2481295813127448',\n",
       "   'CELR': '89.9280575539568345',\n",
       "   'CGLD': '2.2573363431151242',\n",
       "   'CHF': '0.851106',\n",
       "   'CHZ': '19.2122958693563881',\n",
       "   'CLF': '0.0331329',\n",
       "   'CLP': '914.35',\n",
       "   'CLV': '23.9808153477218225',\n",
       "   'CNH': '7.1161285',\n",
       "   'CNY': '7.1186666616718831',\n",
       "   'COMP': '0.0224719101123596',\n",
       "   'COP': '4162.5125787150974871',\n",
       "   'CORECHAIN': '1.100715465052284',\n",
       "   'COTI': '12.3609394313967862',\n",
       "   'COVAL': '534.7302913674755705',\n",
       "   'CRC': '519.041008',\n",
       "   'CRO': '12.4378109452736318',\n",
       "   'CRPT': '35.6798788561630641',\n",
       "   'CRV': '3.5473572188719404',\n",
       "   'CTSI': '7.8709169618260527',\n",
       "   'CTX': '0.4796163069544365',\n",
       "   'CUC': '1',\n",
       "   'CUP': '25.375',\n",
       "   'CVC': '11.10494169905608',\n",
       "   'CVE': '99.6234548408569336',\n",
       "   'CVX': '0.47744091668656',\n",
       "   'CZK': '22.6169999929256771',\n",
       "   'DAI': '1.0001500225033755',\n",
       "   'DAR': '7.1428571428571429',\n",
       "   'DASH': '0.0427259132663961',\n",
       "   'DDX': '25.6464219661560444',\n",
       "   'DESO': '0.16',\n",
       "   'DEXT': '2.184598580010923',\n",
       "   'DIA': '2.8914269191846176',\n",
       "   'DIMO': '6.353845665088795',\n",
       "   'DJF': '177.8901506897790384',\n",
       "   'DKK': '6.738224',\n",
       "   'DNT': '25.7731958762886598',\n",
       "   'DOGE': '10.246951531919254',\n",
       "   'DOP': '59.6425583559002251',\n",
       "   'DOT': '0.2398944464435648',\n",
       "   'DREP': '165.5741924084069249',\n",
       "   'DYP': '4.6223537025053157',\n",
       "   'DZD': '133.6644983333333333',\n",
       "   'EEK': '14.134799999999999',\n",
       "   'EGLD': '0.0359712230215827',\n",
       "   'EGP': '48.5396',\n",
       "   'ELA': '0.5966587112171838',\n",
       "   'ENJ': '7.3167529302585353',\n",
       "   'ENS': '0.0565930956423316',\n",
       "   'EOS': '2.117970983797522',\n",
       "   'ERN': '0.4672897196261682',\n",
       "   'ETB': '110.9497411902691409',\n",
       "   'ETC': '0.0552333609500138',\n",
       "   'ETH': '0.0003972044749056',\n",
       "   'ETH2': '0.0003972044749056',\n",
       "   'EUR': '0.9033611573395676',\n",
       "   'EURC': '0.9039073636366302',\n",
       "   'FARM': '0.0239492276374087',\n",
       "   'FET': '0.8341327105142428',\n",
       "   'FIDA': '4.3898156277436348',\n",
       "   'FIL': '0.2850220892119139',\n",
       "   'FIS': '3.2046146450889281',\n",
       "   'FJD': '2.206975',\n",
       "   'FKP': '0.7603024121008663',\n",
       "   'FLOW': '1.7714791851195748',\n",
       "   'FLR': '65.1465798045602606',\n",
       "   'FORT': '8.3752093802345059',\n",
       "   'FORTH': '0.3616636528028933',\n",
       "   'FOX': '24.5398773006134969',\n",
       "   'FTM': '2.3658439243908522',\n",
       "   'FX': '6.9832402234636872',\n",
       "   'GAL': '0.4778972520908005',\n",
       "   'GALA': '54.9305231003174647',\n",
       "   'GBP': '0.7603026666666667',\n",
       "   'GEL': '2.6893333333333333',\n",
       "   'GFI': '0.4578440125449259',\n",
       "   'GGP': '0.7603021897083215',\n",
       "   'GHS': '15.6354526666666667',\n",
       "   'GHST': '1.1049723756906077',\n",
       "   'GIP': '0.7603021897083215',\n",
       "   'GLM': '3.6463081130355515',\n",
       "   'GMD': '70.4985999721979107',\n",
       "   'GMT': '8.6994345367551109',\n",
       "   'GNF': '8636.1389030647588797',\n",
       "   'GNO': '0.0067567567567568',\n",
       "   'GNT': '3.6489192849272131',\n",
       "   'GODS': '5.894141223623718',\n",
       "   'GRT': '6.9396252602359473',\n",
       "   'GST': '81.6826628548090668',\n",
       "   'GTC': '1.680672268907563',\n",
       "   'GTQ': '7.7333435032063832',\n",
       "   'GUSD': '0.9995002498750625',\n",
       "   'GYD': '209.24228',\n",
       "   'GYEN': '148.2909468376955587',\n",
       "   'HBAR': '19.9143682166683262',\n",
       "   'HFT': '6.9276065119501212',\n",
       "   'HIGH': '0.7730962504831852',\n",
       "   'HKD': '7.7964983239008043',\n",
       "   'HNL': '24.786614',\n",
       "   'HNT': '0.1310873697319263',\n",
       "   'HONEY': '14.9142431021625652',\n",
       "   'HOPR': '18.7617260787992495',\n",
       "   'HRK': '6.8069515',\n",
       "   'HTG': '131.877207',\n",
       "   'HUF': '354.3308621499203226',\n",
       "   'ICP': '0.1350712500844195',\n",
       "   'IDEX': '20.5128205128205128',\n",
       "   'IDR': '15538.6908293391397233',\n",
       "   'ILS': '3.6508925',\n",
       "   'ILV': '0.0267343937976206',\n",
       "   'IMP': '0.7603024126054893',\n",
       "   'IMX': '0.7914209963990345',\n",
       "   'INDEX': '0.2754820936639118',\n",
       "   'INJ': '0.0589605259278913',\n",
       "   'INR': '83.9057176666666667',\n",
       "   'INV': '0.0412796697626419',\n",
       "   'IOTX': '28.2485875706214689',\n",
       "   'IQD': '1309.961795',\n",
       "   'IRR': '42105',\n",
       "   'ISK': '138.49',\n",
       "   'JASMY': '54.2299349240780911',\n",
       "   'JEP': '0.7603026663778943',\n",
       "   'JMD': '156.9839993629828176',\n",
       "   'JOD': '0.7089',\n",
       "   'JPY': '146.9544989441618498',\n",
       "   'JTO': '0.4613397305775973',\n",
       "   'JUP': '1757.5777067250994016',\n",
       "   'KARRAT': '2.9917726252804787',\n",
       "   'KAVA': '3.3636057854019509',\n",
       "   'KEEP': '10.1863185871742603',\n",
       "   'KES': '128.7586766666666667',\n",
       "   'KGS': '84.7306000000001573',\n",
       "   'KHR': '4062.9139328223926663',\n",
       "   'KMF': '444.9649442419494236',\n",
       "   'KNC': '2.282844424152494',\n",
       "   'KPW': '135',\n",
       "   'KRL': '2.7921262041044255',\n",
       "   'KRW': '1338.7274160978982917',\n",
       "   'KSM': '0.054839594187003',\n",
       "   'KWD': '0.3055579994610804',\n",
       "   'KYD': '0.8333124994956874',\n",
       "   'KZT': '482.6273508366161312',\n",
       "   'LAK': '22116.4953837753336011',\n",
       "   'LBP': '89551.1939357378399089',\n",
       "   'LCX': '8.0256821829855538',\n",
       "   'LDO': '0.9350163627863488',\n",
       "   'LINK': '0.093492894540015',\n",
       "   'LIT': '1.5814027041986242',\n",
       "   'LKR': '298.9365333333333333',\n",
       "   'LOKA': '4.6739892498247254',\n",
       "   'LOOM': '21.9044354414993144',\n",
       "   'LPT': '0.082203041512536',\n",
       "   'LQTY': '1.4171331396584709',\n",
       "   'LRC': '8.0289040545965476',\n",
       "   'LRD': '195.0184996688186562',\n",
       "   'LRDS': '1.4265335235378031',\n",
       "   'LSETH': '0.0003754740359704',\n",
       "   'LSL': '17.886093',\n",
       "   'LTC': '0.0155159038013964',\n",
       "   'LTL': '2.9806491130204184',\n",
       "   'LVL': '0.634896',\n",
       "   'LYD': '4.7616245',\n",
       "   'MAD': '9.7941065',\n",
       "   'MAGIC': '3.0816640986132512',\n",
       "   'MANA': '3.7878787878787879',\n",
       "   'MASK': '0.4830917874396135',\n",
       "   'MATH': '5.5248618784530387',\n",
       "   'MATIC': '2.4909702329057168',\n",
       "   'MCO2': '2.215700653177618',\n",
       "   'MDL': '17.3554696857920252',\n",
       "   'MDT': '24.2483026188166828',\n",
       "   'MEDIA': '0.0870322019147084',\n",
       "   'METIS': '0.0318217979315831',\n",
       "   'MGA': '4551.1428627710801072',\n",
       "   'MINA': '2.3529411764705882',\n",
       "   'MIR': '70.7017716247372384',\n",
       "   'MKD': '55.6146',\n",
       "   'MKR': '0.000572795096874',\n",
       "   'MLN': '0.0639386189258312',\n",
       "   'MMK': '2098.44',\n",
       "   'MNDE': '10.091835704914724',\n",
       "   'MNT': '3391',\n",
       "   'MOBILE': '946.5215333648840511',\n",
       "   'MONA': '0.0122009764272012',\n",
       "   'MOP': '8.0305335',\n",
       "   'MPL': '0.0611246943765281',\n",
       "   'MRO': '376.2928017639401882',\n",
       "   'MRU': '39.6475303528289463',\n",
       "   'MSOL': '0.0062527355718127',\n",
       "   'MTL': '1.1432741246902603',\n",
       "   'MULTI': '8.5774504812211211',\n",
       "   'MUR': '46.479999',\n",
       "   'MUSE': '0.1190759704691593',\n",
       "   'MVR': '15.3599999999999921',\n",
       "   'MWK': '1734.492242',\n",
       "   'MXC': '143.2418157050214151',\n",
       "   'MXN': '19.7862275634303269',\n",
       "   'MYR': '4.3558',\n",
       "   'MZN': '63.8649773227498301',\n",
       "   'NAD': '17.886093',\n",
       "   'NCT': '75.1597143930853063',\n",
       "   'NEAR': '0.2519526329050139',\n",
       "   'NEON': '2.8571428571428571',\n",
       "   'NEST': '1534.352470788917059',\n",
       "   'NGN': '1590.699357427043359',\n",
       "   'NIO': '36.8228514799307364',\n",
       "   'NKN': '15.037593984962406',\n",
       "   'NMR': '0.0708968450903935',\n",
       "   'NOK': '10.5859914188224189',\n",
       "   'NPR': '134.3044363333333333',\n",
       "   'NU': '14.7797570102777172',\n",
       "   'NZD': '1.6043773333333333',\n",
       "   'OCEAN': '1.926040061633282',\n",
       "   'OGN': '11.1000111000111',\n",
       "   'OMG': '4.8610812654083191',\n",
       "   'OMR': '0.3849579999974023',\n",
       "   'ONDO': '1.6272466173610942',\n",
       "   'OOKI': '737.9895322175221792',\n",
       "   'OP': '0.7158196134574087',\n",
       "   'ORCA': '0.5193725979017347',\n",
       "   'ORN': '0.8960573476702509',\n",
       "   'OSMO': '2.5477707006369427',\n",
       "   'OXT': '14.367816091954023',\n",
       "   'PAB': '1',\n",
       "   'PAX': '1.0006504227748036',\n",
       "   'PEN': '3.754277710843175',\n",
       "   'PERP': '1.7559262510974539',\n",
       "   'PGK': '3.9408295849856148',\n",
       "   'PHP': '56.481834',\n",
       "   'PKR': '278.6158973333333333',\n",
       "   'PLA': '20.3831493749546299',\n",
       "   'PLN': '3.856148',\n",
       "   'PLU': '0.3898635477582846',\n",
       "   'PNG': '4.2268999915462',\n",
       "   'POLS': '4.2671218263281417',\n",
       "   'POLY': '12.5309178886657822',\n",
       "   'POND': '72.3065798987707881',\n",
       "   'POWR': '5.3705692803437164',\n",
       "   'PRIME': '0.1392951664577239',\n",
       "   'PRO': '0.8826904404625298',\n",
       "   'PRQ': '14.1143260409315455',\n",
       "   'PUNDIX': '2.6748696001069948',\n",
       "   'PYG': '7673.445698',\n",
       "   'PYR': '0.3891807744697412',\n",
       "   'PYUSD': '1.0000950090258575',\n",
       "   'QAR': '3.6454783799657572',\n",
       "   'QI': '75.4432289701999246',\n",
       "   'QNT': '0.0160926939169617',\n",
       "   'QUICK': '0.0281368505758285',\n",
       "   'RAD': '0.9478672985781991',\n",
       "   'RAI': '0.3350036686254869',\n",
       "   'RARE': '5.8513750731421884',\n",
       "   'RARI': '0.60790273556231',\n",
       "   'RBN': '3.0538547281305828',\n",
       "   'REN': '25.7176104899515124',\n",
       "   'RENDER': '0.201328769881216',\n",
       "   'REP': '2.6000685137475335',\n",
       "   'REPV2': '2.6000685137475335',\n",
       "   'REQ': '9.9304865938430983',\n",
       "   'RGT': '7.0415240970880325',\n",
       "   'RLC': '0.6688739507039898',\n",
       "   'RLY': '154.9545015327216814',\n",
       "   'RNDR': '0.2013145842350549',\n",
       "   'RON': '4.494215',\n",
       "   'RONIN': '0.6538084341288003',\n",
       "   'ROSE': '18.1636545272908909',\n",
       "   'RPL': '0.0898472596585804',\n",
       "   'RSD': '105.7119995963879556',\n",
       "   'RUB': '89.7248659853578869',\n",
       "   'RUNE': '0.2578834390576052',\n",
       "   'RWF': '1334.2880634438249978',\n",
       "   'SAFE': '1.2523481527864746',\n",
       "   'SAND': '4.0404040404040404',\n",
       "   'SAR': '3.7527645',\n",
       "   'SBD': '8.4759429999989351',\n",
       "   'SCR': '13.2955675',\n",
       "   'SD': '1.939676074095626',\n",
       "   'SDG': '601.5000000000151277',\n",
       "   'SEAM': '0.695676371352047',\n",
       "   'SEI': '3.6062026685899748',\n",
       "   'SEK': '10.2522976666666667',\n",
       "   'SGD': '1.3069149999107308',\n",
       "   'SHDW': '2.6525198938992042',\n",
       "   'SHIB': '73964.4970414201183432',\n",
       "   'SHP': '0.7603026663778943',\n",
       "   'SHPING': '179.0830945558739255',\n",
       "   'SKK': '27.2151',\n",
       "   'SKL': '32.6264274061990212',\n",
       "   'SLL': '20341.4887216202738877',\n",
       "   'SNT': '48.8952809953471762',\n",
       "   'SNX': '0.764525993883792',\n",
       "   'SOL': '0.0075357950263753',\n",
       "   'SOS': '571.7238649739746512',\n",
       "   'SPA': '139.3339835585899401',\n",
       "   'SPELL': '1906.9412662090007628',\n",
       "   'SRD': '28.93285',\n",
       "   'SSP': '2232',\n",
       "   'STD': '22212.8',\n",
       "   'STG': '3.5714285714285714',\n",
       "   'STORJ': '2.8445455838429811',\n",
       "   'STRK': '2.7027027027027027',\n",
       "   'STX': '0.6803878210580031',\n",
       "   'SUI': '1.2802458071949814',\n",
       "   'SUKU': '16.2866449511400651',\n",
       "   'SUPER': '1.3794720760365008',\n",
       "   'SUSHI': '1.7929179740026894',\n",
       "   'SVC': '8.7498164961516607',\n",
       "   'SWFTC': '348.7966515521450994',\n",
       "   'SYLO': '1106.215328142765243',\n",
       "   'SYN': '2.229654403567447',\n",
       "   'SYP': '512.7950000000031552',\n",
       "   'SZL': '17.883382',\n",
       "   'T': '47.2032098182676422',\n",
       "   'THB': '34.185998946937396',\n",
       "   'THETA': '0.8476713725402301',\n",
       "   'TIA': '0.2223951962637607',\n",
       "   'TIME': '0.05824111822947',\n",
       "   'TJS': '10.6697029991181545',\n",
       "   'TMM': '17499.999999986875',\n",
       "   'TMT': '3.5',\n",
       "   'TND': '3.0521795',\n",
       "   'TNSR': '3.2258064516129032',\n",
       "   'TONE': '2078.2188619977171284',\n",
       "   'TOP': '2.3407846452398136',\n",
       "   'TRAC': '1.931807205640877',\n",
       "   'TRB': '0.0167630542284804',\n",
       "   'TRIBE': '2.3761670410464355',\n",
       "   'TRU': '11.7716303708063567',\n",
       "   'TRY': '33.923527',\n",
       "   'TTD': '6.7851484489442682',\n",
       "   'TVK': '9.7224247727383209',\n",
       "   'TWD': '32.0661003333333333',\n",
       "   'TZS': '2719.6576985769840076',\n",
       "   'UAH': '41.194623',\n",
       "   'UGX': '3721.9828976243335764',\n",
       "   'UMA': '0.4730368968779565',\n",
       "   'UNFI': '0.4013314116811065',\n",
       "   'UNI': '0.165604040738594',\n",
       "   'UPI': '5895.6859781493056164',\n",
       "   'USD': '1.0',\n",
       "   'USDC': '1',\n",
       "   'USDT': '1.0001550240287245',\n",
       "   'UST': '63.1940623845134885',\n",
       "   'UYU': '40.3661184800662932',\n",
       "   'UZS': '12639.336371',\n",
       "   'VARA': '43.1406384814495255',\n",
       "   'VEF': '3659939.9996243949975985',\n",
       "   'VELO': '13.3040643916716557',\n",
       "   'VES': '36.5994260828913406',\n",
       "   'VET': '46.62004662004662',\n",
       "   'VGX': '55.4093429935621586',\n",
       "   'VND': '24876.2499372071491318',\n",
       "   'VOXEL': '6.1671292013567684',\n",
       "   'VTHO': '532.0563979781856877',\n",
       "   'VUV': '115.931',\n",
       "   'WAMPL': '0.0959976324506024',\n",
       "   'WAXL': '1.9436345966958212',\n",
       "   'WBTC': '0.0000170676395676',\n",
       "   'WCFG': '2.7739251040221914',\n",
       "   'WLUNA': '13473.2714909414755406',\n",
       "   'WST': '2.7572985634205243',\n",
       "   'XAF': '595.070961',\n",
       "   'XAG': '0.0350336489203951',\n",
       "   'XAU': '0.000399641',\n",
       "   'XCD': '2.7012743982008496',\n",
       "   'XCN': '772.2007722007722008',\n",
       "   'XDR': '0.742585',\n",
       "   'XLM': '10.8853608224978637',\n",
       "   'XMON': '0.0025588462486598',\n",
       "   'XOF': '592.040961',\n",
       "   'XPD': '0.0010355149945679',\n",
       "   'XPF': '107.8031325',\n",
       "   'XPT': '0.0010827998522349',\n",
       "   'XRP': '1.796138302649304',\n",
       "   'XTZ': '1.5349194167306216',\n",
       "   'XYO': '211.1932418162618796',\n",
       "   'YER': '250.2916517210195502',\n",
       "   'YFI': '0.000195410014177',\n",
       "   'YFII': '0.0023613976469335',\n",
       "   'ZAR': '17.8596943333333333',\n",
       "   'ZEC': '0.0344708721130645',\n",
       "   'ZEN': '0.1358695652173913',\n",
       "   'ZETA': '2.1795989537925022',\n",
       "   'ZMK': '5223.775',\n",
       "   'ZMW': '26.201409',\n",
       "   'ZRX': '3.4309436810594754',\n",
       "   'ZWD': '377.3820879703223773'}}}"
      ]
     },
     "execution_count": 14,
     "metadata": {},
     "output_type": "execute_result"
    }
   ],
   "source": [
    "data.json()"
   ]
  },
  {
   "cell_type": "code",
   "execution_count": 15,
   "id": "081720db",
   "metadata": {},
   "outputs": [
    {
     "data": {
      "text/plain": [
       "'119.4934685'"
      ]
     },
     "execution_count": 15,
     "metadata": {},
     "output_type": "execute_result"
    }
   ],
   "source": [
    "data.json()['data']['rates']['BDT']"
   ]
  },
  {
   "cell_type": "code",
   "execution_count": 16,
   "id": "bb21b145",
   "metadata": {},
   "outputs": [],
   "source": [
    "base_url = 'https://api.coinbase.com/v2/exchange-rates'"
   ]
  },
  {
   "cell_type": "code",
   "execution_count": 17,
   "id": "0f0ea0b7",
   "metadata": {},
   "outputs": [],
   "source": [
    "params = {'currency': 'USD'}"
   ]
  },
  {
   "cell_type": "code",
   "execution_count": 18,
   "id": "12ffb16a",
   "metadata": {},
   "outputs": [],
   "source": [
    "data_param = requests.get(base_url, params=params)"
   ]
  },
  {
   "cell_type": "code",
   "execution_count": 19,
   "id": "9c98aaaa",
   "metadata": {},
   "outputs": [
    {
     "data": {
      "text/plain": [
       "'119.4934685'"
      ]
     },
     "execution_count": 19,
     "metadata": {},
     "output_type": "execute_result"
    }
   ],
   "source": [
    "data_param.json()['data']['rates']['BDT']"
   ]
  },
  {
   "cell_type": "code",
   "execution_count": 20,
   "id": "60fad60f",
   "metadata": {},
   "outputs": [
    {
     "data": {
      "text/plain": [
       "{'User-Agent': 'python-requests/2.32.2', 'Accept-Encoding': 'gzip, deflate', 'Accept': '*/*', 'Connection': 'keep-alive'}"
      ]
     },
     "execution_count": 20,
     "metadata": {},
     "output_type": "execute_result"
    }
   ],
   "source": [
    "data_param.request.headers"
   ]
  },
  {
   "cell_type": "markdown",
   "id": "c24f8414",
   "metadata": {},
   "source": [
    "## user agent"
   ]
  },
  {
   "cell_type": "code",
   "execution_count": 21,
   "id": "54bdf9a9",
   "metadata": {},
   "outputs": [],
   "source": [
    "url = 'https://api.sunrisesunset.io/json'"
   ]
  },
  {
   "cell_type": "code",
   "execution_count": 22,
   "id": "38889ec4",
   "metadata": {},
   "outputs": [],
   "source": [
    "params = {\n",
    "    'lat':23.6850,\n",
    "    'lng': 90.3563,\n",
    "    'timezone': 'GMT+6',\n",
    "    'date': 'today'\n",
    "}"
   ]
  },
  {
   "cell_type": "code",
   "execution_count": 23,
   "id": "b6ee7397",
   "metadata": {},
   "outputs": [],
   "source": [
    "timezone = requests.get(url, params=params)"
   ]
  },
  {
   "cell_type": "code",
   "execution_count": 24,
   "id": "208efa5c",
   "metadata": {},
   "outputs": [
    {
     "data": {
      "text/plain": [
       "<Response [200]>"
      ]
     },
     "execution_count": 24,
     "metadata": {},
     "output_type": "execute_result"
    }
   ],
   "source": [
    "timezone"
   ]
  },
  {
   "cell_type": "code",
   "execution_count": 25,
   "id": "ed0d4fa2",
   "metadata": {},
   "outputs": [
    {
     "data": {
      "text/plain": [
       "{'User-Agent': 'python-requests/2.32.2', 'Accept-Encoding': 'gzip, deflate', 'Accept': '*/*', 'Connection': 'keep-alive'}"
      ]
     },
     "execution_count": 25,
     "metadata": {},
     "output_type": "execute_result"
    }
   ],
   "source": [
    "timezone.request.headers"
   ]
  },
  {
   "cell_type": "code",
   "execution_count": 26,
   "id": "424afcc0",
   "metadata": {},
   "outputs": [
    {
     "data": {
      "text/plain": [
       "'https://api.sunrisesunset.io/json?lat=23.685&lng=90.3563&timezone=GMT%2B6&date=today'"
      ]
     },
     "execution_count": 26,
     "metadata": {},
     "output_type": "execute_result"
    }
   ],
   "source": [
    "timezone.request.url"
   ]
  },
  {
   "cell_type": "code",
   "execution_count": 27,
   "id": "cdaf7745",
   "metadata": {},
   "outputs": [],
   "source": [
    "headers = {\n",
    "    \"user_agent\": 'Mozilla/5.0 (Windows NT 10.0; Win64; x64) AppleWebKit/537.36 (KHTML, like Gecko) Chrome/128.0.0.0 Safari/537.36 Edg/128.0.0.0'\n",
    "    }"
   ]
  },
  {
   "cell_type": "code",
   "execution_count": 28,
   "id": "6458cba6",
   "metadata": {},
   "outputs": [],
   "source": [
    "timezone_new = requests.get(url, params=params, headers=headers)"
   ]
  },
  {
   "cell_type": "code",
   "execution_count": 29,
   "id": "b0d02c7c",
   "metadata": {},
   "outputs": [
    {
     "data": {
      "text/plain": [
       "<Response [200]>"
      ]
     },
     "execution_count": 29,
     "metadata": {},
     "output_type": "execute_result"
    }
   ],
   "source": [
    "timezone_new"
   ]
  },
  {
   "cell_type": "code",
   "execution_count": 30,
   "id": "43954d1f",
   "metadata": {},
   "outputs": [
    {
     "data": {
      "text/plain": [
       "200"
      ]
     },
     "execution_count": 30,
     "metadata": {},
     "output_type": "execute_result"
    }
   ],
   "source": [
    "timezone_new.status_code"
   ]
  },
  {
   "cell_type": "code",
   "execution_count": 31,
   "id": "fa7d4f02",
   "metadata": {},
   "outputs": [
    {
     "data": {
      "text/plain": [
       "{'results': {'date': '2024-09-02',\n",
       "  'sunrise': '5:42:11 PM',\n",
       "  'sunset': '6:17:23 AM',\n",
       "  'first_light': '4:25:08 PM',\n",
       "  'last_light': '7:34:26 AM',\n",
       "  'dawn': '5:19:15 PM',\n",
       "  'dusk': '6:40:18 AM',\n",
       "  'solar_noon': '11:59:47 PM',\n",
       "  'golden_hour': '5:47:16 AM',\n",
       "  'day_length': '12:35:11',\n",
       "  'timezone': 'Etc/GMT+6',\n",
       "  'utc_offset': -360},\n",
       " 'status': 'OK'}"
      ]
     },
     "execution_count": 31,
     "metadata": {},
     "output_type": "execute_result"
    }
   ],
   "source": [
    "timezone_new.json()"
   ]
  },
  {
   "cell_type": "code",
   "execution_count": null,
   "id": "1073bbe4",
   "metadata": {},
   "outputs": [],
   "source": []
  }
 ],
 "metadata": {
  "kernelspec": {
   "display_name": "Python 3 (ipykernel)",
   "language": "python",
   "name": "python3"
  },
  "language_info": {
   "codemirror_mode": {
    "name": "ipython",
    "version": 3
   },
   "file_extension": ".py",
   "mimetype": "text/x-python",
   "name": "python",
   "nbconvert_exporter": "python",
   "pygments_lexer": "ipython3",
   "version": "3.12.3"
  }
 },
 "nbformat": 4,
 "nbformat_minor": 5
}
